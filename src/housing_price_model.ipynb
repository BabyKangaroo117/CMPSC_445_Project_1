{
 "cells": [
  {
   "cell_type": "code",
   "execution_count": 309,
   "metadata": {},
   "outputs": [
    {
     "name": "stdout",
     "output_type": "stream",
     "text": [
      "Requirement already satisfied: seaborn in c:\\users\\gympr\\appdata\\local\\programs\\python\\python311\\lib\\site-packages (0.13.2)\n",
      "Requirement already satisfied: numpy!=1.24.0,>=1.20 in c:\\users\\gympr\\appdata\\local\\programs\\python\\python311\\lib\\site-packages (from seaborn) (1.24.2)\n",
      "Requirement already satisfied: pandas>=1.2 in c:\\users\\gympr\\appdata\\local\\programs\\python\\python311\\lib\\site-packages (from seaborn) (1.5.3)\n",
      "Requirement already satisfied: matplotlib!=3.6.1,>=3.4 in c:\\users\\gympr\\appdata\\local\\programs\\python\\python311\\lib\\site-packages (from seaborn) (3.8.1)\n",
      "Requirement already satisfied: contourpy>=1.0.1 in c:\\users\\gympr\\appdata\\local\\programs\\python\\python311\\lib\\site-packages (from matplotlib!=3.6.1,>=3.4->seaborn) (1.2.0)\n",
      "Requirement already satisfied: cycler>=0.10 in c:\\users\\gympr\\appdata\\local\\programs\\python\\python311\\lib\\site-packages (from matplotlib!=3.6.1,>=3.4->seaborn) (0.12.1)\n",
      "Requirement already satisfied: fonttools>=4.22.0 in c:\\users\\gympr\\appdata\\local\\programs\\python\\python311\\lib\\site-packages (from matplotlib!=3.6.1,>=3.4->seaborn) (4.44.0)\n",
      "Requirement already satisfied: kiwisolver>=1.3.1 in c:\\users\\gympr\\appdata\\local\\programs\\python\\python311\\lib\\site-packages (from matplotlib!=3.6.1,>=3.4->seaborn) (1.4.5)\n",
      "Requirement already satisfied: packaging>=20.0 in c:\\users\\gympr\\appdata\\local\\programs\\python\\python311\\lib\\site-packages (from matplotlib!=3.6.1,>=3.4->seaborn) (23.2)\n",
      "Requirement already satisfied: pillow>=8 in c:\\users\\gympr\\appdata\\local\\programs\\python\\python311\\lib\\site-packages (from matplotlib!=3.6.1,>=3.4->seaborn) (10.1.0)\n",
      "Requirement already satisfied: pyparsing>=2.3.1 in c:\\users\\gympr\\appdata\\local\\programs\\python\\python311\\lib\\site-packages (from matplotlib!=3.6.1,>=3.4->seaborn) (3.1.1)\n",
      "Requirement already satisfied: python-dateutil>=2.7 in c:\\users\\gympr\\appdata\\local\\programs\\python\\python311\\lib\\site-packages (from matplotlib!=3.6.1,>=3.4->seaborn) (2.8.2)\n",
      "Requirement already satisfied: pytz>=2020.1 in c:\\users\\gympr\\appdata\\local\\programs\\python\\python311\\lib\\site-packages (from pandas>=1.2->seaborn) (2022.7.1)\n",
      "Requirement already satisfied: six>=1.5 in c:\\users\\gympr\\appdata\\local\\programs\\python\\python311\\lib\\site-packages (from python-dateutil>=2.7->matplotlib!=3.6.1,>=3.4->seaborn) (1.16.0)\n",
      "Note: you may need to restart the kernel to use updated packages.\n"
     ]
    },
    {
     "name": "stderr",
     "output_type": "stream",
     "text": [
      "\n",
      "[notice] A new release of pip is available: 23.3.1 -> 24.0\n",
      "[notice] To update, run: python.exe -m pip install --upgrade pip\n"
     ]
    }
   ],
   "source": [
    "%pip install seaborn"
   ]
  },
  {
   "cell_type": "code",
   "execution_count": 310,
   "metadata": {},
   "outputs": [],
   "source": [
    "import pandas as pd\n",
    "import numpy as np\n",
    "import matplotlib.pyplot as plt\n",
    "import seaborn as sns # for making prettier plots!"
   ]
  },
  {
   "cell_type": "code",
   "execution_count": 311,
   "metadata": {},
   "outputs": [],
   "source": [
    "data = pd.read_csv(\"../housing_data/opa_properties_public.csv\", low_memory=False)"
   ]
  },
  {
   "cell_type": "code",
   "execution_count": 312,
   "metadata": {},
   "outputs": [
    {
     "data": {
      "text/plain": [
       "(582933, 82)"
      ]
     },
     "execution_count": 312,
     "metadata": {},
     "output_type": "execute_result"
    }
   ],
   "source": [
    "data.shape"
   ]
  },
  {
   "cell_type": "code",
   "execution_count": 313,
   "metadata": {},
   "outputs": [
    {
     "data": {
      "text/plain": [
       "Index(['the_geom', 'the_geom_webmercator', 'assessment_date', 'basements',\n",
       "       'beginning_point', 'book_and_page', 'building_code',\n",
       "       'building_code_description', 'category_code',\n",
       "       'category_code_description', 'census_tract', 'central_air',\n",
       "       'cross_reference', 'date_exterior_condition', 'depth',\n",
       "       'exempt_building', 'exempt_land', 'exterior_condition', 'fireplaces',\n",
       "       'frontage', 'fuel', 'garage_spaces', 'garage_type',\n",
       "       'general_construction', 'geographic_ward', 'homestead_exemption',\n",
       "       'house_extension', 'house_number', 'interior_condition', 'location',\n",
       "       'mailing_address_1', 'mailing_address_2', 'mailing_care_of',\n",
       "       'mailing_city_state', 'mailing_street', 'mailing_zip', 'market_value',\n",
       "       'market_value_date', 'number_of_bathrooms', 'number_of_bedrooms',\n",
       "       'number_of_rooms', 'number_stories', 'off_street_open',\n",
       "       'other_building', 'owner_1', 'owner_2', 'parcel_number', 'parcel_shape',\n",
       "       'quality_grade', 'recording_date', 'registry_number', 'sale_date',\n",
       "       'sale_price', 'separate_utilities', 'sewer', 'site_type', 'state_code',\n",
       "       'street_code', 'street_designation', 'street_direction', 'street_name',\n",
       "       'suffix', 'taxable_building', 'taxable_land', 'topography',\n",
       "       'total_area', 'total_livable_area', 'type_heater', 'unfinished', 'unit',\n",
       "       'utility', 'view_type', 'year_built', 'year_built_estimate', 'zip_code',\n",
       "       'zoning', 'pin', 'building_code_new', 'building_code_description_new',\n",
       "       'objectid', 'lat', 'lng'],\n",
       "      dtype='object')"
      ]
     },
     "execution_count": 313,
     "metadata": {},
     "output_type": "execute_result"
    }
   ],
   "source": [
    "data.columns"
   ]
  },
  {
   "cell_type": "code",
   "execution_count": 314,
   "metadata": {},
   "outputs": [],
   "source": [
    "# The following columns were deemed to not impact the model based on the data they provide. Many of the columns were missing data and most of the categorical columns have no correlations\n",
    "drop_column_list = ['the_geom', 'assessment_date','beginning_point', 'book_and_page', 'category_code_description', 'cross_reference', 'house_number','location', 'mailing_address_1', 'mailing_address_2', \n",
    "                    'mailing_care_of', 'mailing_city_state', 'mailing_street', 'market_value_date','the_geom_webmercator','other_building','owner_1', 'owner_2', 'parcel_number', 'recording_date', \n",
    "                    'sale_date', 'registry_number', 'sale_price', 'unit', 'objectid','building_code', 'census_tract', 'date_exterior_condition', 'year_built_estimate', 'house_extension', 'mailing_zip', \n",
    "                    'sewer', 'site_type','state_code', 'street_designation', 'street_name', 'street_direction', 'geographic_ward']\n",
    "\n",
    "data = data.drop(drop_column_list, axis = 1)"
   ]
  },
  {
   "cell_type": "code",
   "execution_count": 315,
   "metadata": {},
   "outputs": [],
   "source": [
    "# Drop empty rows\n",
    "data = data.dropna(subset=[\"market_value\"])"
   ]
  },
  {
   "cell_type": "code",
   "execution_count": 316,
   "metadata": {},
   "outputs": [
    {
     "data": {
      "text/plain": [
       "False"
      ]
     },
     "execution_count": 316,
     "metadata": {},
     "output_type": "execute_result"
    }
   ],
   "source": [
    "# Check if there are still null rows\n",
    "data.market_value.isnull().any()"
   ]
  },
  {
   "cell_type": "code",
   "execution_count": 360,
   "metadata": {},
   "outputs": [
    {
     "data": {
      "text/plain": [
       "(582710, 44)"
      ]
     },
     "execution_count": 360,
     "metadata": {},
     "output_type": "execute_result"
    }
   ],
   "source": [
    "data.shape"
   ]
  },
  {
   "cell_type": "code",
   "execution_count": 317,
   "metadata": {},
   "outputs": [],
   "source": [
    "# Drop rows that have a market value of 0\n",
    "data = data.drop(data[data.market_value == 0].index)"
   ]
  },
  {
   "cell_type": "code",
   "execution_count": 318,
   "metadata": {},
   "outputs": [
    {
     "data": {
      "text/plain": [
       "Text(0.5, 0, 'Number of Missing values')"
      ]
     },
     "execution_count": 318,
     "metadata": {},
     "output_type": "execute_result"
    },
    {
     "data": {
      "image/png": "[encoded data removed]",
      "text/plain": [
       "<Figure size 640x480 with 1 Axes>"
      ]
     },
     "metadata": {},
     "output_type": "display_data"
    }
   ],
   "source": [
    "# Visualize missing values in columns\n",
    "missing = data.isnull().sum()\n",
    "missing = missing[missing >= 100]\n",
    "missing.sort_values(inplace=True)\n",
    "missing.plot.barh()\n",
    "plt.title(\"Features with missing values (nan’s) > 100\")\n",
    "plt.ylabel(\"Features\")\n",
    "plt.xlabel(\"Number of Missing values\")"
   ]
  },
  {
   "cell_type": "code",
   "execution_count": 319,
   "metadata": {},
   "outputs": [],
   "source": [
    "# This takes a while but was necessary when doing replacements\n",
    "\n",
    "# Remove spaces from each row\n",
    "def remove_spaces(row):\n",
    "    return row.str.strip()\n",
    "\n",
    "data = data.apply(remove_spaces, axis=1)"
   ]
  },
  {
   "cell_type": "markdown",
   "metadata": {},
   "source": [
    "### Category Code"
   ]
  },
  {
   "cell_type": "code",
   "execution_count": 320,
   "metadata": {},
   "outputs": [
    {
     "data": {
      "text/plain": [
       "NaN    582710\n",
       "Name: category_code, dtype: int64"
      ]
     },
     "execution_count": 320,
     "metadata": {},
     "output_type": "execute_result"
    }
   ],
   "source": [
    "# Code value: 1 = Single Family\n",
    "# Code value: 2 = Multi Family\n",
    "# Code value: 3 = Mixed Use\n",
    "# Code value: 4 = Commercial\n",
    "# Code value: 5 = Industrial\n",
    "# Code value: 6 = Vacant Land\n",
    "\n",
    "data.category_code.value_counts(dropna=False)"
   ]
  },
  {
   "cell_type": "code",
   "execution_count": 321,
   "metadata": {},
   "outputs": [],
   "source": [
    "# Create a mask to drop rows\n",
    "values_to_drop = [num for num in range(4, 17)]\n",
    "mask_category_code = data[\"category_code\"].isin(values_to_drop)\n",
    "data = data.loc[~mask_category_code]"
   ]
  },
  {
   "cell_type": "code",
   "execution_count": 322,
   "metadata": {},
   "outputs": [
    {
     "data": {
      "text/plain": [
       "NaN    582710\n",
       "Name: category_code, dtype: int64"
      ]
     },
     "execution_count": 322,
     "metadata": {},
     "output_type": "execute_result"
    }
   ],
   "source": [
    "# Code value: 1 = Single Family\n",
    "# Code value: 2 = Multi Family\n",
    "# Code value: 3 = Mixed Use\n",
    "data.category_code.value_counts(dropna=False)"
   ]
  },
  {
   "cell_type": "code",
   "execution_count": 323,
   "metadata": {},
   "outputs": [
    {
     "data": {
      "text/plain": [
       "(582710, 44)"
      ]
     },
     "execution_count": 323,
     "metadata": {},
     "output_type": "execute_result"
    }
   ],
   "source": [
    "data.shape"
   ]
  },
  {
   "cell_type": "markdown",
   "metadata": {},
   "source": [
    "### Depth"
   ]
  },
  {
   "cell_type": "code",
   "execution_count": 324,
   "metadata": {},
   "outputs": [],
   "source": [
    "# Delete rows that have a depth of 0\n",
    "data = data.drop(data[data.depth == 0].index)"
   ]
  },
  {
   "cell_type": "markdown",
   "metadata": {},
   "source": [
    "### Longitude"
   ]
  },
  {
   "cell_type": "code",
   "execution_count": 325,
   "metadata": {},
   "outputs": [],
   "source": [
    "# Replace empty longitude values with the mean\n",
    "data[\"lng\"] = data.lng.fillna(data.lng.mean())"
   ]
  },
  {
   "cell_type": "code",
   "execution_count": 326,
   "metadata": {},
   "outputs": [],
   "source": [
    "# Convert the longitude values to be positive for machine learning purposes\n",
    "data.loc[:, \"lng\"] = data['lng'].abs()"
   ]
  },
  {
   "cell_type": "markdown",
   "metadata": {},
   "source": [
    "### Latitude\n"
   ]
  },
  {
   "cell_type": "code",
   "execution_count": 327,
   "metadata": {},
   "outputs": [],
   "source": [
    "# Replace empty latitude values with the mean\n",
    "data[\"lat\"] = data.lat.fillna(data.lat.mean())"
   ]
  },
  {
   "cell_type": "code",
   "execution_count": 328,
   "metadata": {},
   "outputs": [],
   "source": [
    "# Convert the latitude values to be positive for machine learning purposes\n",
    "data.loc[:, \"lat\"] = data['lat'].abs()"
   ]
  },
  {
   "cell_type": "code",
   "execution_count": 359,
   "metadata": {},
   "outputs": [
    {
     "data": {
      "text/plain": [
       "(582710, 44)"
      ]
     },
     "execution_count": 359,
     "metadata": {},
     "output_type": "execute_result"
    }
   ],
   "source": [
    "data.shape"
   ]
  },
  {
   "cell_type": "markdown",
   "metadata": {},
   "source": [
    "### Basements"
   ]
  },
  {
   "cell_type": "code",
   "execution_count": 330,
   "metadata": {},
   "outputs": [],
   "source": [
    "# [NOTE: REPLACING 'NaN' WITH 'K'] \n",
    "# 0 = No Basement [NOTE: REPLACING '0' WITH 'L']\n",
    "# D = Full – Unknown Finish\n",
    "# F = Partial - Semi-Finished \n",
    "# H = Partial - Unknown Finish\n",
    "# C = Full - Unfinished\n",
    "# A = Full - Finished \n",
    "# J = Unknown Size - Unfinished\n",
    "# E = Partial - Finished \n",
    "# I = Unknown Size - Finished \n",
    "# G = Partial - Unfinished\n",
    "# B = Full - Semi-Finished\n",
    "\n",
    "# 1 = ? Replace with M\n",
    "# 2 = ? Replace with N\n",
    "# 3 = ? Replace with O\n",
    "# 4 = ? Replace with P"
   ]
  },
  {
   "cell_type": "code",
   "execution_count": 331,
   "metadata": {},
   "outputs": [
    {
     "data": {
      "text/plain": [
       "NaN    252098\n",
       "D      107983\n",
       "F       64175\n",
       "H       57408\n",
       "C       34011\n",
       "A       28161\n",
       "0       10864\n",
       "E       10080\n",
       "J        7584\n",
       "G        4357\n",
       "B        3134\n",
       "I        2058\n",
       "1         671\n",
       "4          98\n",
       "2          20\n",
       "3           8\n",
       "Name: basements, dtype: int64"
      ]
     },
     "execution_count": 331,
     "metadata": {},
     "output_type": "execute_result"
    }
   ],
   "source": [
    "data.basements.value_counts(dropna=False)"
   ]
  },
  {
   "cell_type": "code",
   "execution_count": 332,
   "metadata": {},
   "outputs": [],
   "source": [
    "data.loc[:, \"basements\"] = data.loc[:, \"basements\"].fillna('K')\n",
    "data.loc[:, \"basements\"] = data['basements'].replace('0', 'L').replace('1', 'M').replace('2', 'N').replace('3', 'O').replace('4', 'P')"
   ]
  },
  {
   "cell_type": "markdown",
   "metadata": {},
   "source": [
    "### Central Air"
   ]
  },
  {
   "cell_type": "code",
   "execution_count": 333,
   "metadata": {},
   "outputs": [
    {
     "data": {
      "text/plain": [
       "NaN    288566\n",
       "N      164533\n",
       "Y      128341\n",
       "0        1122\n",
       "1         148\n",
       "Name: central_air, dtype: int64"
      ]
     },
     "execution_count": 333,
     "metadata": {},
     "output_type": "execute_result"
    }
   ],
   "source": [
    "data.central_air.value_counts(dropna=False)"
   ]
  },
  {
   "cell_type": "code",
   "execution_count": 334,
   "metadata": {},
   "outputs": [],
   "source": [
    "# Replacing '0' with 'N' (i.e. NO Central Air)\n",
    "data.loc[:, \"central_air\"] = data['central_air'].replace('0', 'N')\n",
    "# Replacing the \"NaNs\" with 'N'\n",
    "data.loc[:, \"central_air\"] = data['central_air'].fillna('N')\n",
    "# Replacing '1' with 'Y' (i.e. Central Air)\n",
    "data.loc[:, \"central_air\"] = data['central_air'].replace('1', 'N')"
   ]
  },
  {
   "cell_type": "markdown",
   "metadata": {},
   "source": [
    "### Exterior Condition"
   ]
  },
  {
   "cell_type": "code",
   "execution_count": 335,
   "metadata": {},
   "outputs": [],
   "source": [
    "# 4.0 Average\n",
    "# 3.0 Above Average\n",
    "# 5.0 Below Average\n",
    "# 2.0 Newer Construction / Rehabbed\n",
    "# 7.0 Sealed / Structurally Compromised\n",
    "# 6.0 Vacant\n",
    "# 0.0 Not Applicable"
   ]
  },
  {
   "cell_type": "code",
   "execution_count": 336,
   "metadata": {},
   "outputs": [
    {
     "data": {
      "text/plain": [
       "NaN    582710\n",
       "Name: exterior_condition, dtype: int64"
      ]
     },
     "execution_count": 336,
     "metadata": {},
     "output_type": "execute_result"
    }
   ],
   "source": [
    "data.exterior_condition.value_counts(dropna=False)"
   ]
  },
  {
   "cell_type": "code",
   "execution_count": 337,
   "metadata": {},
   "outputs": [],
   "source": [
    "# Fill in nan with not applicable (0.0)\n",
    "data.loc[:, \"exterior_condition\"] = data.loc[:, \"exterior_condition\"].fillna(0.0)"
   ]
  },
  {
   "cell_type": "markdown",
   "metadata": {},
   "source": [
    "### Fuel Heating"
   ]
  },
  {
   "cell_type": "code",
   "execution_count": 338,
   "metadata": {},
   "outputs": [],
   "source": [
    "# A = Natural Gas\n",
    "# C = Electric\n",
    "# B = Oil heat\n",
    "# E = Solar\n",
    "# G = Other \n",
    "# H = None"
   ]
  },
  {
   "cell_type": "code",
   "execution_count": 339,
   "metadata": {},
   "outputs": [
    {
     "data": {
      "text/plain": [
       "NaN    533473\n",
       "A       46469\n",
       "C        2206\n",
       "B         469\n",
       "G          56\n",
       "E          16\n",
       "H          14\n",
       "I           6\n",
       "D           1\n",
       "Name: fuel, dtype: int64"
      ]
     },
     "execution_count": 339,
     "metadata": {},
     "output_type": "execute_result"
    }
   ],
   "source": [
    "data.fuel.value_counts(dropna=False)"
   ]
  },
  {
   "cell_type": "code",
   "execution_count": 358,
   "metadata": {},
   "outputs": [],
   "source": [
    "# Replace Nan with other (G)\n",
    "data.loc[:, \"fuel\"] = data.loc[:, \"fuel\"].fillna('G')"
   ]
  },
  {
   "cell_type": "markdown",
   "metadata": {},
   "source": [
    "### Garage Type"
   ]
  },
  {
   "cell_type": "code",
   "execution_count": 357,
   "metadata": {},
   "outputs": [
    {
     "data": {
      "text/plain": [
       "0.0    582710\n",
       "Name: garage_type, dtype: int64"
      ]
     },
     "execution_count": 357,
     "metadata": {},
     "output_type": "execute_result"
    }
   ],
   "source": [
    "data.garage_type.value_counts(dropna=False)"
   ]
  },
  {
   "cell_type": "code",
   "execution_count": 342,
   "metadata": {},
   "outputs": [],
   "source": [
    "# Replace Nan with no garage (0.0)\n",
    "data.loc[:, \"garage_type\"] = data.loc[:, \"garage_type\"].fillna(0.0)"
   ]
  },
  {
   "cell_type": "markdown",
   "metadata": {},
   "source": [
    "### General Construction"
   ]
  },
  {
   "cell_type": "code",
   "execution_count": 343,
   "metadata": {},
   "outputs": [],
   "source": [
    "# A = Common brick \n",
    "# B = Brick and Siding \n",
    "# E = Stone \n",
    "# C = Frame and siding \n",
    "# F = Stucco/Cement \n",
    "# G = Other/Mix \n",
    "# H = Brick and stucco \n",
    "# J = Stone/stucco \n",
    "# I = Stucco and siding \n",
    "# D = Frame and shingle "
   ]
  },
  {
   "cell_type": "code",
   "execution_count": 344,
   "metadata": {},
   "outputs": [
    {
     "data": {
      "text/plain": [
       "<bound method NDFrame.head of        basements  building_code_description  category_code central_air  depth  \\\n",
       "0              K  VACANT LAND COMMER < ACRE            NaN           N    NaN   \n",
       "1              K  VACANT LAND RESIDE < ACRE            NaN           N    NaN   \n",
       "2              K  VACANT LAND RESIDE < ACRE            NaN           N    NaN   \n",
       "3              K  VACANT LAND RESIDE < ACRE            NaN           N    NaN   \n",
       "4              K  VACANT LAND RESIDE < ACRE            NaN           N    NaN   \n",
       "...          ...                        ...            ...         ...    ...   \n",
       "582928         A    ROW W/GAR 3 STY MASONRY            NaN           Y    NaN   \n",
       "582929         K  VACANT LAND COMMER < ACRE            NaN           Y    NaN   \n",
       "582930         K  VACANT LAND COMMER < ACRE            NaN           Y    NaN   \n",
       "582931         A          ROW 4 STY MASONRY            NaN           Y    NaN   \n",
       "582932         L    ROW W/GAR 4 STY MASONRY            NaN           Y    NaN   \n",
       "\n",
       "        exempt_building  exempt_land  exterior_condition  fireplaces  \\\n",
       "0                   NaN          NaN                 0.0         NaN   \n",
       "1                   NaN          NaN                 0.0         NaN   \n",
       "2                   NaN          NaN                 0.0         NaN   \n",
       "3                   NaN          NaN                 0.0         NaN   \n",
       "4                   NaN          NaN                 0.0         NaN   \n",
       "...                 ...          ...                 ...         ...   \n",
       "582928              NaN          NaN                 0.0         NaN   \n",
       "582929              NaN          NaN                 0.0         NaN   \n",
       "582930              NaN          NaN                 0.0         NaN   \n",
       "582931              NaN          NaN                 0.0         NaN   \n",
       "582932              NaN          NaN                 0.0         NaN   \n",
       "\n",
       "        frontage  ... utility  view_type  year_built zip_code  zoning  pin  \\\n",
       "0            NaN  ...     NaN          I         NaN      NaN    CMX2  NaN   \n",
       "1            NaN  ...     NaN          I         NaN      NaN    RSA5  NaN   \n",
       "2            NaN  ...     NaN          I         NaN      NaN    RSA5  NaN   \n",
       "3            NaN  ...     NaN          I         NaN      NaN    RSA5  NaN   \n",
       "4            NaN  ...     NaN          I         NaN      NaN    RSA5  NaN   \n",
       "...          ...  ...     ...        ...         ...      ...     ...  ...   \n",
       "582928       NaN  ...     NaN          I         NaN      NaN    RSA5  NaN   \n",
       "582929       NaN  ...     NaN        NaN         NaN      NaN    CMX5  NaN   \n",
       "582930       NaN  ...     NaN        NaN         NaN      NaN    CMX5  NaN   \n",
       "582931       NaN  ...     NaN          I         NaN      NaN    RSA5  NaN   \n",
       "582932       NaN  ...     NaN        NaN         NaN      NaN    RSA5  NaN   \n",
       "\n",
       "        building_code_new  building_code_description_new  lat  lng  \n",
       "0                     NaN                            NaN  NaN  NaN  \n",
       "1                     NaN                            NaN  NaN  NaN  \n",
       "2                     NaN                            NaN  NaN  NaN  \n",
       "3                     NaN                            NaN  NaN  NaN  \n",
       "4                     NaN                            NaN  NaN  NaN  \n",
       "...                   ...                            ...  ...  ...  \n",
       "582928                 25                     ROW MODERN  NaN  NaN  \n",
       "582929                 08                            NaN  NaN  NaN  \n",
       "582930                 08                            NaN  NaN  NaN  \n",
       "582931                 25                     ROW MODERN  NaN  NaN  \n",
       "582932                 25                     ROW MODERN  NaN  NaN  \n",
       "\n",
       "[582710 rows x 44 columns]>"
      ]
     },
     "execution_count": 344,
     "metadata": {},
     "output_type": "execute_result"
    }
   ],
   "source": [
    "data.head"
   ]
  },
  {
   "cell_type": "code",
   "execution_count": 345,
   "metadata": {},
   "outputs": [
    {
     "data": {
      "text/plain": [
       "A      443259\n",
       "NaN     59661\n",
       "B       33918\n",
       "E       11717\n",
       "C       11467\n",
       "F        8769\n",
       "H        4913\n",
       "G        3788\n",
       "J        1731\n",
       "3        1187\n",
       "I        1158\n",
       "1         292\n",
       "D         270\n",
       "4         171\n",
       "9         160\n",
       "5         133\n",
       "6         115\n",
       "8           1\n",
       "Name: general_construction, dtype: int64"
      ]
     },
     "execution_count": 345,
     "metadata": {},
     "output_type": "execute_result"
    }
   ],
   "source": [
    "data.general_construction.value_counts(dropna=False)"
   ]
  },
  {
   "cell_type": "code",
   "execution_count": 346,
   "metadata": {},
   "outputs": [],
   "source": [
    "# Replace Nan with other (G)\n",
    "data.loc[:, \"general_construction\"] = data.loc[:, \"general_construction\"].fillna(\"G\")\n",
    "# Replace number with numerical counter part (not sure if this is correct)\n",
    "data.loc[:, \"general_construction\"] = data[\"general_construction\"].replace(\"1\", \"A\",).replace(\"3\", \"C\").replace(\"4\", \"D\").replace(\"5\", \"E\").replace(\"6\", \"F\").replace(\"8\", \"H\").replace(\"9\", \"I\")"
   ]
  },
  {
   "cell_type": "markdown",
   "metadata": {},
   "source": [
    "### Parcel Shape"
   ]
  },
  {
   "cell_type": "code",
   "execution_count": 347,
   "metadata": {},
   "outputs": [],
   "source": [
    "# E = Rectangular\n",
    "# A = Other than a square, rectangular or triangle \n",
    "# B = Curves, narrow portions, long access driveways \n",
    "# C = Triangular \n",
    "# F = NaN \n",
    "# D = Long and narrow"
   ]
  },
  {
   "cell_type": "code",
   "execution_count": 348,
   "metadata": {},
   "outputs": [
    {
     "data": {
      "text/plain": [
       "E      528564\n",
       "A       42713\n",
       "B        7151\n",
       "NaN      2556\n",
       "C        1655\n",
       "D          71\n",
       "Name: parcel_shape, dtype: int64"
      ]
     },
     "execution_count": 348,
     "metadata": {},
     "output_type": "execute_result"
    }
   ],
   "source": [
    "data.parcel_shape.value_counts(dropna=False)"
   ]
  },
  {
   "cell_type": "code",
   "execution_count": 349,
   "metadata": {},
   "outputs": [],
   "source": [
    "# Replacing the \"NaN's\" with 'F'\n",
    "data.loc[:, \"parcel_shape\"] = data['parcel_shape'].fillna('F')"
   ]
  },
  {
   "cell_type": "markdown",
   "metadata": {},
   "source": [
    "### Quality Grade"
   ]
  },
  {
   "cell_type": "code",
   "execution_count": 350,
   "metadata": {},
   "outputs": [],
   "source": [
    "# A = Highest\n",
    "# B = Superior\n",
    "# C = Average \n",
    "# D = Above average\n",
    "# E = Below average\n",
    "# F = Low"
   ]
  },
  {
   "cell_type": "code",
   "execution_count": 351,
   "metadata": {},
   "outputs": [
    {
     "data": {
      "text/plain": [
       "C      354312\n",
       "C+      89680\n",
       "NaN     51969\n",
       "B       30966\n",
       "B-      20456\n",
       "C-      13490\n",
       "B+      12312\n",
       "D        3020\n",
       "A-       1756\n",
       "A        1555\n",
       "D+        889\n",
       "3         728\n",
       "A+        540\n",
       "E         318\n",
       "D-        151\n",
       "4         123\n",
       "E-        121\n",
       "E+         65\n",
       "X          58\n",
       "X-         47\n",
       "1          38\n",
       "5          29\n",
       "S          24\n",
       "2          20\n",
       "0          16\n",
       "6          13\n",
       "S+          4\n",
       "7           4\n",
       "X+          4\n",
       "S-          2\n",
       "Name: quality_grade, dtype: int64"
      ]
     },
     "execution_count": 351,
     "metadata": {},
     "output_type": "execute_result"
    }
   ],
   "source": [
    "data.quality_grade.value_counts(dropna=False)"
   ]
  },
  {
   "cell_type": "code",
   "execution_count": 352,
   "metadata": {},
   "outputs": [],
   "source": [
    "# Replace Nan with C becuase that is the average grade\n",
    "data.loc[:, \"quality_grade\"] = data['quality_grade'].fillna('C')"
   ]
  },
  {
   "cell_type": "code",
   "execution_count": 354,
   "metadata": {},
   "outputs": [
    {
     "data": {
      "text/plain": [
       "(582710, 2)"
      ]
     },
     "execution_count": 354,
     "metadata": {},
     "output_type": "execute_result"
    }
   ],
   "source": [
    "x_y = pd.concat([data[\"quality_grade\"], data[\"market_value\"]], axis=1)"
   ]
  },
  {
   "cell_type": "code",
   "execution_count": 362,
   "metadata": {},
   "outputs": [
    {
     "data": {
      "text/plain": [
       "<Axes: >"
      ]
     },
     "execution_count": 362,
     "metadata": {},
     "output_type": "execute_result"
    },
    {
     "data": {
      "image/png": "[encoded data removed]",
      "text/plain": [
       "<Figure size 640x480 with 1 Axes>"
      ]
     },
     "metadata": {},
     "output_type": "display_data"
    }
   ],
   "source": []
  },
  {
   "cell_type": "markdown",
   "metadata": {},
   "source": [
    "### Seperate Utilities"
   ]
  },
  {
   "cell_type": "code",
   "execution_count": null,
   "metadata": {},
   "outputs": [],
   "source": [
    "# D = Non 2 to 4 apartments\n",
    "# B = Part Separate\n",
    "# A = Central (heater, hot water tank, electrical, gas)\n",
    "# C = All seperate (except water)"
   ]
  },
  {
   "cell_type": "code",
   "execution_count": null,
   "metadata": {},
   "outputs": [],
   "source": [
    "data.parcel_shape.value_counts(dropna=False)"
   ]
  },
  {
   "cell_type": "code",
   "execution_count": null,
   "metadata": {},
   "outputs": [],
   "source": []
  }
 ],
 "metadata": {
  "kernelspec": {
   "display_name": "Python 3",
   "language": "python",
   "name": "python3"
  },
  "language_info": {
   "codemirror_mode": {
    "name": "ipython",
    "version": 3
   },
   "file_extension": ".py",
   "mimetype": "text/x-python",
   "name": "python",
   "nbconvert_exporter": "python",
   "pygments_lexer": "ipython3",
   "version": "3.11.1"
  }
 },
 "nbformat": 4,
 "nbformat_minor": 2
}
