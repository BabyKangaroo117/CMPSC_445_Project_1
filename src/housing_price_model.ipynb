{
 "cells": [
  {
   "cell_type": "code",
   "execution_count": 1559,
   "metadata": {},
   "outputs": [],
   "source": [
    "import pandas as pd\n",
    "import numpy as np\n",
    "import matplotlib.pyplot as plt\n",
    "from sklearn.preprocessing import StandardScaler\n",
    "from sklearn.preprocessing import LabelEncoder\n",
    "from sklearn.feature_selection import SelectKBest, chi2\n",
    "from sklearn.model_selection import train_test_split\n",
    "from sklearn.linear_model import LinearRegression\n",
    "from sklearn.metrics import mean_squared_error, r2_score\n",
    "from sklearn.decomposition import PCA\n"
   ]
  },
  {
   "cell_type": "code",
   "execution_count": 1399,
   "metadata": {},
   "outputs": [],
   "source": [
    "data = pd.read_csv(\"../housing_data/opa_properties_public.csv\", low_memory=False)"
   ]
  },
  {
   "cell_type": "code",
   "execution_count": 1400,
   "metadata": {},
   "outputs": [],
   "source": [
    "data_copy = data"
   ]
  },
  {
   "cell_type": "code",
   "execution_count": 1401,
   "metadata": {},
   "outputs": [],
   "source": [
    "data = data_copy"
   ]
  },
  {
   "cell_type": "code",
   "execution_count": 1402,
   "metadata": {},
   "outputs": [
    {
     "data": {
      "text/plain": [
       "(582933, 82)"
      ]
     },
     "execution_count": 1402,
     "metadata": {},
     "output_type": "execute_result"
    }
   ],
   "source": [
    "data.shape"
   ]
  },
  {
   "cell_type": "code",
   "execution_count": 1403,
   "metadata": {},
   "outputs": [
    {
     "data": {
      "text/plain": [
       "Index(['the_geom', 'the_geom_webmercator', 'assessment_date', 'basements',\n",
       "       'beginning_point', 'book_and_page', 'building_code',\n",
       "       'building_code_description', 'category_code',\n",
       "       'category_code_description', 'census_tract', 'central_air',\n",
       "       'cross_reference', 'date_exterior_condition', 'depth',\n",
       "       'exempt_building', 'exempt_land', 'exterior_condition', 'fireplaces',\n",
       "       'frontage', 'fuel', 'garage_spaces', 'garage_type',\n",
       "       'general_construction', 'geographic_ward', 'homestead_exemption',\n",
       "       'house_extension', 'house_number', 'interior_condition', 'location',\n",
       "       'mailing_address_1', 'mailing_address_2', 'mailing_care_of',\n",
       "       'mailing_city_state', 'mailing_street', 'mailing_zip', 'market_value',\n",
       "       'market_value_date', 'number_of_bathrooms', 'number_of_bedrooms',\n",
       "       'number_of_rooms', 'number_stories', 'off_street_open',\n",
       "       'other_building', 'owner_1', 'owner_2', 'parcel_number', 'parcel_shape',\n",
       "       'quality_grade', 'recording_date', 'registry_number', 'sale_date',\n",
       "       'sale_price', 'separate_utilities', 'sewer', 'site_type', 'state_code',\n",
       "       'street_code', 'street_designation', 'street_direction', 'street_name',\n",
       "       'suffix', 'taxable_building', 'taxable_land', 'topography',\n",
       "       'total_area', 'total_livable_area', 'type_heater', 'unfinished', 'unit',\n",
       "       'utility', 'view_type', 'year_built', 'year_built_estimate', 'zip_code',\n",
       "       'zoning', 'pin', 'building_code_new', 'building_code_description_new',\n",
       "       'objectid', 'lat', 'lng'],\n",
       "      dtype='object')"
      ]
     },
     "execution_count": 1403,
     "metadata": {},
     "output_type": "execute_result"
    }
   ],
   "source": [
    "data.columns"
   ]
  },
  {
   "cell_type": "code",
   "execution_count": 1404,
   "metadata": {},
   "outputs": [],
   "source": [
    "# The following columns were deemed to not impact the model based on the data they provide. Many of the columns were missing data and most of the categorical columns have no correlations\n",
    "drop_column_list = ['the_geom', 'assessment_date','beginning_point', 'book_and_page', 'category_code_description', 'cross_reference', 'house_number','location', 'mailing_address_1', 'mailing_address_2', \n",
    "                    'mailing_care_of', 'mailing_city_state', 'mailing_street', 'market_value_date','the_geom_webmercator','other_building','owner_1', 'owner_2', 'parcel_number', 'recording_date', \n",
    "                    'sale_date', 'registry_number', 'sale_price', 'unit', 'objectid','building_code', 'census_tract', 'date_exterior_condition', 'year_built_estimate', 'house_extension', 'mailing_zip', \n",
    "                    'sewer', 'site_type','state_code', 'street_designation', 'street_name', 'street_direction', 'geographic_ward', 'quality_grade', 'building_code_description', 'pin', 'garage_type',\n",
    "                    'street_code', 'building_code_description_new', 'building_code_new', 'unfinished', 'fuel', 'utility', 'number_of_rooms']\n",
    "\n",
    "data = data.drop(drop_column_list, axis = 1)"
   ]
  },
  {
   "cell_type": "code",
   "execution_count": 1405,
   "metadata": {},
   "outputs": [],
   "source": [
    "# Drop empty rows\n",
    "data = data.dropna(subset=[\"market_value\"])"
   ]
  },
  {
   "cell_type": "code",
   "execution_count": 1406,
   "metadata": {},
   "outputs": [
    {
     "data": {
      "text/plain": [
       "False"
      ]
     },
     "execution_count": 1406,
     "metadata": {},
     "output_type": "execute_result"
    }
   ],
   "source": [
    "# Check if there are still null rows\n",
    "data.market_value.isnull().any()"
   ]
  },
  {
   "cell_type": "code",
   "execution_count": 1407,
   "metadata": {},
   "outputs": [
    {
     "data": {
      "text/plain": [
       "(582913, 33)"
      ]
     },
     "execution_count": 1407,
     "metadata": {},
     "output_type": "execute_result"
    }
   ],
   "source": [
    "data.shape"
   ]
  },
  {
   "cell_type": "code",
   "execution_count": 1408,
   "metadata": {},
   "outputs": [
    {
     "data": {
      "text/plain": [
       "33"
      ]
     },
     "execution_count": 1408,
     "metadata": {},
     "output_type": "execute_result"
    }
   ],
   "source": [
    "len(data.columns)"
   ]
  },
  {
   "cell_type": "code",
   "execution_count": 1409,
   "metadata": {},
   "outputs": [
    {
     "data": {
      "text/plain": [
       "Index(['basements', 'category_code', 'central_air', 'depth', 'exempt_building',\n",
       "       'exempt_land', 'exterior_condition', 'fireplaces', 'frontage',\n",
       "       'garage_spaces', 'general_construction', 'homestead_exemption',\n",
       "       'interior_condition', 'market_value', 'number_of_bathrooms',\n",
       "       'number_of_bedrooms', 'number_stories', 'off_street_open',\n",
       "       'parcel_shape', 'separate_utilities', 'suffix', 'taxable_building',\n",
       "       'taxable_land', 'topography', 'total_area', 'total_livable_area',\n",
       "       'type_heater', 'view_type', 'year_built', 'zip_code', 'zoning', 'lat',\n",
       "       'lng'],\n",
       "      dtype='object')"
      ]
     },
     "execution_count": 1409,
     "metadata": {},
     "output_type": "execute_result"
    }
   ],
   "source": [
    "data.columns"
   ]
  },
  {
   "cell_type": "code",
   "execution_count": 1410,
   "metadata": {},
   "outputs": [],
   "source": [
    "# Drop rows that have a market value of 0\n",
    "data = data.drop(data[data.market_value == 0].index)"
   ]
  },
  {
   "cell_type": "code",
   "execution_count": 1411,
   "metadata": {},
   "outputs": [
    {
     "data": {
      "text/plain": [
       "Text(0.5, 0, 'Number of Missing values')"
      ]
     },
     "execution_count": 1411,
     "metadata": {},
     "output_type": "execute_result"
    },
    {
     "data": {
      "image/png": "[encoded data removed]",
      "text/plain": [
       "<Figure size 640x480 with 1 Axes>"
      ]
     },
     "metadata": {},
     "output_type": "display_data"
    }
   ],
   "source": [
    "# Visualize missing values in columns\n",
    "missing = data.isnull().sum()\n",
    "missing = missing[missing >= 100]\n",
    "missing.sort_values(inplace=True)\n",
    "missing.plot.barh()\n",
    "plt.title(\"Features with missing values (nan’s) > 100\")\n",
    "plt.ylabel(\"Features\")\n",
    "plt.xlabel(\"Number of Missing values\")"
   ]
  },
  {
   "cell_type": "markdown",
   "metadata": {},
   "source": [
    "-------------------------------------------------------------------------------------------------------------------------------------------------------------------------------------------------------------\n",
    "# Fill in null data"
   ]
  },
  {
   "cell_type": "markdown",
   "metadata": {},
   "source": [
    "#### Numerical Data Non Categorical\n",
    "- Depth\n",
    "- Longitude\n",
    "- Latitude\n",
    "- Fireplaces\n",
    "- Number of Stories\n",
    "- Number of bathrooms\n",
    "- Number of bedrooms\n",
    "- Number of rooms\n",
    "- Total area\n",
    "- Total livable area\n",
    "- Off street open\n",
    "- Exempt Building\n",
    "- Exempt Land\n",
    "- Garage Spaces\n",
    "- Homestead Exemption\n",
    "- Market Value (Target)\n",
    "- Taxable Building\n",
    "- Taxable Land\n",
    "\n",
    "#### Categorical Char\n",
    "- Basements\n",
    "- Central Air\n",
    "- Garage Type\n",
    "- General Construction\n",
    "- Parcel Shape\n",
    "- Separate Utilities\n",
    "- Suffix\n",
    "- Topography\n",
    "- Heater\n",
    "- View Type\n",
    "- Zoning\n",
    "#### Categorical Numerical\n",
    "- Category Code\n",
    "- Zipcode\n",
    "- Exterior Condition\n",
    "- Year Built\n",
    "- Interior Condition"
   ]
  },
  {
   "cell_type": "markdown",
   "metadata": {},
   "source": [
    "-------------------------------------------------------------------------------------------------------------------------------------------------------------------------------------------------------------\n"
   ]
  },
  {
   "cell_type": "markdown",
   "metadata": {},
   "source": [
    "### Category Code"
   ]
  },
  {
   "cell_type": "markdown",
   "metadata": {},
   "source": [
    "- Code value: 1 = Single Family\n",
    "- Code value: 2 = Multi Family\n",
    "- Code value: 3 = Mixed Use\n",
    "- Code value: 4 = Commercial\n",
    "- Code value: 5 = Industrial\n",
    "- Code value: 6 = Vacant Land"
   ]
  },
  {
   "cell_type": "code",
   "execution_count": 1412,
   "metadata": {},
   "outputs": [
    {
     "data": {
      "text/plain": [
       "1     463162\n",
       "6      42106\n",
       "2      40743\n",
       "3      14300\n",
       "4      12836\n",
       "5       4165\n",
       "14      2813\n",
       "10       840\n",
       "13       834\n",
       "8        507\n",
       "9        129\n",
       "12       119\n",
       "7         97\n",
       "15        27\n",
       "11        19\n",
       "16        13\n",
       "Name: category_code, dtype: int64"
      ]
     },
     "execution_count": 1412,
     "metadata": {},
     "output_type": "execute_result"
    }
   ],
   "source": [
    "data.category_code.value_counts(dropna=False)"
   ]
  },
  {
   "cell_type": "code",
   "execution_count": 1413,
   "metadata": {},
   "outputs": [],
   "source": [
    "# Create a mask to drop rows\n",
    "values_to_drop = [num for num in range(4, 17)]\n",
    "mask_category_code = data[\"category_code\"].isin(values_to_drop)\n",
    "data = data.loc[~mask_category_code]"
   ]
  },
  {
   "cell_type": "code",
   "execution_count": 1414,
   "metadata": {},
   "outputs": [
    {
     "data": {
      "text/plain": [
       "1    463162\n",
       "2     40743\n",
       "3     14300\n",
       "Name: category_code, dtype: int64"
      ]
     },
     "execution_count": 1414,
     "metadata": {},
     "output_type": "execute_result"
    }
   ],
   "source": [
    "# Code value: 1 = Single Family\n",
    "# Code value: 2 = Multi Family\n",
    "# Code value: 3 = Mixed Use\n",
    "data.category_code.value_counts(dropna=False)"
   ]
  },
  {
   "cell_type": "code",
   "execution_count": 1415,
   "metadata": {},
   "outputs": [
    {
     "data": {
      "text/plain": [
       "False"
      ]
     },
     "execution_count": 1415,
     "metadata": {},
     "output_type": "execute_result"
    }
   ],
   "source": [
    "data.category_code.isnull().any()"
   ]
  },
  {
   "cell_type": "markdown",
   "metadata": {},
   "source": [
    "### Depth"
   ]
  },
  {
   "cell_type": "code",
   "execution_count": 1416,
   "metadata": {},
   "outputs": [
    {
     "data": {
      "text/plain": [
       "100.0    33325\n",
       "0.0      31453\n",
       "90.0     20033\n",
       "70.0     15828\n",
       "60.0     15223\n",
       "         ...  \n",
       "504.0        1\n",
       "336.0        1\n",
       "557.0        1\n",
       "596.0        1\n",
       "488.0        1\n",
       "Name: depth, Length: 638, dtype: int64"
      ]
     },
     "execution_count": 1416,
     "metadata": {},
     "output_type": "execute_result"
    }
   ],
   "source": [
    "data.depth.value_counts(dropna=False)"
   ]
  },
  {
   "cell_type": "code",
   "execution_count": 1417,
   "metadata": {},
   "outputs": [],
   "source": [
    "# Delete rows that have a depth of 0\n",
    "data = data.drop(data[data.depth == 0].index)\n",
    "data = data.dropna(subset=[\"depth\"])"
   ]
  },
  {
   "cell_type": "code",
   "execution_count": 1418,
   "metadata": {},
   "outputs": [
    {
     "data": {
      "text/plain": [
       "(483630, 33)"
      ]
     },
     "execution_count": 1418,
     "metadata": {},
     "output_type": "execute_result"
    }
   ],
   "source": [
    "data.shape"
   ]
  },
  {
   "cell_type": "code",
   "execution_count": 1419,
   "metadata": {},
   "outputs": [
    {
     "data": {
      "text/plain": [
       "False"
      ]
     },
     "execution_count": 1419,
     "metadata": {},
     "output_type": "execute_result"
    }
   ],
   "source": [
    "data.depth.isnull().any()"
   ]
  },
  {
   "cell_type": "markdown",
   "metadata": {},
   "source": [
    "### Longitude"
   ]
  },
  {
   "cell_type": "code",
   "execution_count": 1420,
   "metadata": {},
   "outputs": [],
   "source": [
    "# Replace empty longitude values with the mean\n",
    "data[\"lng\"] = data.lng.fillna(data.lng.mean())"
   ]
  },
  {
   "cell_type": "code",
   "execution_count": 1421,
   "metadata": {},
   "outputs": [],
   "source": [
    "# Convert the longitude values to be positive for machine learning purposes\n",
    "data.loc[:, \"lng\"] = data['lng'].abs()"
   ]
  },
  {
   "cell_type": "code",
   "execution_count": 1422,
   "metadata": {},
   "outputs": [
    {
     "data": {
      "text/plain": [
       "False"
      ]
     },
     "execution_count": 1422,
     "metadata": {},
     "output_type": "execute_result"
    }
   ],
   "source": [
    "data.lng.isnull().any()"
   ]
  },
  {
   "cell_type": "markdown",
   "metadata": {},
   "source": [
    "### Latitude\n"
   ]
  },
  {
   "cell_type": "code",
   "execution_count": 1423,
   "metadata": {},
   "outputs": [],
   "source": [
    "# Replace empty latitude values with the mean\n",
    "data[\"lat\"] = data.lat.fillna(data.lat.mean())"
   ]
  },
  {
   "cell_type": "code",
   "execution_count": 1424,
   "metadata": {},
   "outputs": [],
   "source": [
    "# Convert the latitude values to be positive for machine learning purposes\n",
    "data.loc[:, \"lat\"] = data['lat'].abs()"
   ]
  },
  {
   "cell_type": "code",
   "execution_count": 1425,
   "metadata": {},
   "outputs": [
    {
     "data": {
      "text/plain": [
       "False"
      ]
     },
     "execution_count": 1425,
     "metadata": {},
     "output_type": "execute_result"
    }
   ],
   "source": [
    "data.lat.isnull().any()"
   ]
  },
  {
   "cell_type": "markdown",
   "metadata": {},
   "source": [
    "### Basements"
   ]
  },
  {
   "cell_type": "markdown",
   "metadata": {},
   "source": [
    "- [NOTE: REPLACING 'NaN' WITH 'K'] \n",
    "- 0 = No Basement [NOTE: REPLACING '0' WITH 'L']\n",
    "- D = Full – Unknown Finish\n",
    "- F = Partial - Semi-Finished \n",
    "- H = Partial - Unknown Finish\n",
    "- C = Full - Unfinished\n",
    "- A = Full - Finished \n",
    "- J = Unknown Size - Unfinished\n",
    "- E = Partial - Finished \n",
    "- I = Unknown Size - Finished \n",
    "- G = Partial - Unfinished\n",
    "- B = Full - Semi-Finished\n",
    "\n",
    "- 1 = ? Replace with M\n",
    "- 2 = ? Replace with N\n",
    "- 3 = ? Replace with O\n",
    "- 4 = ? Replace with P"
   ]
  },
  {
   "cell_type": "code",
   "execution_count": 1426,
   "metadata": {},
   "outputs": [
    {
     "data": {
      "text/plain": [
       "NaN    157326\n",
       "D      107751\n",
       "F       64119\n",
       "H       57380\n",
       "C       33954\n",
       "A       27565\n",
       "E        9951\n",
       "0        7922\n",
       "J        7551\n",
       "G        4352\n",
       "B        3113\n",
       "I        2042\n",
       "1         488\n",
       "4          91\n",
       "2          20\n",
       "3           5\n",
       "Name: basements, dtype: int64"
      ]
     },
     "execution_count": 1426,
     "metadata": {},
     "output_type": "execute_result"
    }
   ],
   "source": [
    "data.basements.value_counts(dropna=False)\n"
   ]
  },
  {
   "cell_type": "code",
   "execution_count": 1427,
   "metadata": {},
   "outputs": [],
   "source": [
    "data.loc[:, \"basements\"] = data.loc[:, \"basements\"].fillna('K')\n",
    "replacement_dict = {'0': 'L', '1': 'M', '2': 'N', '3': 'O', '4': 'P'}\n",
    "data['basements'] = data['basements'].replace(replacement_dict, regex=True)"
   ]
  },
  {
   "cell_type": "code",
   "execution_count": 1428,
   "metadata": {},
   "outputs": [
    {
     "data": {
      "text/plain": [
       "False"
      ]
     },
     "execution_count": 1428,
     "metadata": {},
     "output_type": "execute_result"
    }
   ],
   "source": [
    "data.basements.isnull().any()"
   ]
  },
  {
   "cell_type": "markdown",
   "metadata": {},
   "source": [
    "### Central Air"
   ]
  },
  {
   "cell_type": "code",
   "execution_count": 1429,
   "metadata": {},
   "outputs": [
    {
     "data": {
      "text/plain": [
       "NaN    214517\n",
       "N      163214\n",
       "Y      104682\n",
       "0        1078\n",
       "1         139\n",
       "Name: central_air, dtype: int64"
      ]
     },
     "execution_count": 1429,
     "metadata": {},
     "output_type": "execute_result"
    }
   ],
   "source": [
    "data.central_air.value_counts(dropna=False)"
   ]
  },
  {
   "cell_type": "code",
   "execution_count": 1430,
   "metadata": {},
   "outputs": [],
   "source": [
    "# Replacing '0' with 'N' (i.e. NO Central Air)\n",
    "data.loc[:, \"central_air\"] = data['central_air'].replace('0', 'N')\n",
    "# Replacing the \"NaNs\" with 'N'\n",
    "data.loc[:, \"central_air\"] = data['central_air'].fillna('N')\n",
    "# Replacing '1' with 'Y' (i.e. Central Air)\n",
    "data.loc[:, \"central_air\"] = data['central_air'].replace('1', 'N')"
   ]
  },
  {
   "cell_type": "code",
   "execution_count": 1431,
   "metadata": {},
   "outputs": [
    {
     "data": {
      "text/plain": [
       "False"
      ]
     },
     "execution_count": 1431,
     "metadata": {},
     "output_type": "execute_result"
    }
   ],
   "source": [
    "data.central_air.isnull().any()"
   ]
  },
  {
   "cell_type": "markdown",
   "metadata": {},
   "source": [
    "### Exterior Condition"
   ]
  },
  {
   "cell_type": "markdown",
   "metadata": {},
   "source": [
    "- 4.0 Average\n",
    "- 3.0 Above Average\n",
    "- 5.0 Below Average\n",
    "- 2.0 Newer Construction / Rehabbed\n",
    "- 7.0 Sealed / Structurally Compromised\n",
    "- 6.0 Vacant\n",
    "- 0.0 Not Applicable"
   ]
  },
  {
   "cell_type": "code",
   "execution_count": 1432,
   "metadata": {},
   "outputs": [
    {
     "data": {
      "text/plain": [
       "4.0    371682\n",
       "3.0     40275\n",
       "5.0     24236\n",
       "NaN     17139\n",
       "1.0     12216\n",
       "2.0     11914\n",
       "7.0      3454\n",
       "6.0      2658\n",
       "0.0        56\n",
       "Name: exterior_condition, dtype: int64"
      ]
     },
     "execution_count": 1432,
     "metadata": {},
     "output_type": "execute_result"
    }
   ],
   "source": [
    "data.exterior_condition.value_counts(dropna=False)"
   ]
  },
  {
   "cell_type": "code",
   "execution_count": 1433,
   "metadata": {},
   "outputs": [],
   "source": [
    "# Fill in nan with not applicable (0.0)\n",
    "data.loc[:, \"exterior_condition\"] = data.loc[:, \"exterior_condition\"].fillna(0.0)"
   ]
  },
  {
   "cell_type": "code",
   "execution_count": 1434,
   "metadata": {},
   "outputs": [
    {
     "data": {
      "text/plain": [
       "False"
      ]
     },
     "execution_count": 1434,
     "metadata": {},
     "output_type": "execute_result"
    }
   ],
   "source": [
    "data.exterior_condition.isnull().any()"
   ]
  },
  {
   "cell_type": "markdown",
   "metadata": {},
   "source": [
    "### General Construction"
   ]
  },
  {
   "cell_type": "markdown",
   "metadata": {},
   "source": [
    "- A = Common brick \n",
    "- B = Brick and Siding \n",
    "- E = Stone \n",
    "- C = Frame and siding \n",
    "- F = Stucco/Cement \n",
    "- G = Other/Mix \n",
    "- H = Brick and stucco \n",
    "- J = Stone/stucco \n",
    "- I = Stucco and siding \n",
    "- D = Frame and shingle "
   ]
  },
  {
   "cell_type": "code",
   "execution_count": 1435,
   "metadata": {},
   "outputs": [
    {
     "data": {
      "text/plain": [
       "A      406305\n",
       "B       32083\n",
       "C       10964\n",
       "E       10930\n",
       "F        7258\n",
       "NaN      4960\n",
       "H        4712\n",
       "G        1877\n",
       "J        1712\n",
       "I        1141\n",
       "3        1014\n",
       "1         284\n",
       "D         251\n",
       "5          99\n",
       "6          27\n",
       "9          11\n",
       "8           1\n",
       "4           1\n",
       "Name: general_construction, dtype: int64"
      ]
     },
     "execution_count": 1435,
     "metadata": {},
     "output_type": "execute_result"
    }
   ],
   "source": [
    "data.general_construction.value_counts(dropna=False)"
   ]
  },
  {
   "cell_type": "code",
   "execution_count": 1436,
   "metadata": {},
   "outputs": [
    {
     "data": {
      "text/plain": [
       "array(['A ', 'E ', nan, 'B ', 'G ', '1 ', 'F ', 'C ', 'I ', 'H ', 'J ',\n",
       "       'D ', '3 ', '5 ', '6 ', '9 ', '8 ', '4 '], dtype=object)"
      ]
     },
     "execution_count": 1436,
     "metadata": {},
     "output_type": "execute_result"
    }
   ],
   "source": [
    "data[\"general_construction\"].unique()"
   ]
  },
  {
   "cell_type": "code",
   "execution_count": 1437,
   "metadata": {},
   "outputs": [],
   "source": [
    "# Replace Nan with other (G)\n",
    "data.loc[:, \"general_construction\"] = data.loc[:, \"general_construction\"].fillna(\"G\")\n",
    "# Replace number with numerical counter part (not sure if this is correct)\n",
    "replacement_dict = {'1 ': 'A ', '3 ': 'C ', '4 ': 'D ', '5 ': 'E ', '6 ': 'F ', '8 ': 'H ', '9 ': 'I '}\n",
    "data.loc[:, \"general_construction\"] = data[\"general_construction\"].replace(replacement_dict)"
   ]
  },
  {
   "cell_type": "code",
   "execution_count": 1438,
   "metadata": {},
   "outputs": [
    {
     "data": {
      "text/plain": [
       "False"
      ]
     },
     "execution_count": 1438,
     "metadata": {},
     "output_type": "execute_result"
    }
   ],
   "source": [
    "data.general_construction.isnull().any()"
   ]
  },
  {
   "cell_type": "markdown",
   "metadata": {},
   "source": [
    "### Parcel Shape"
   ]
  },
  {
   "cell_type": "markdown",
   "metadata": {},
   "source": [
    "- E = Rectangular\n",
    "- A = Other than a square, rectangular or triangle \n",
    "- B = Curves, narrow portions, long access driveways \n",
    "- C = Triangular \n",
    "- F = NaN \n",
    "- D = Long and narrow"
   ]
  },
  {
   "cell_type": "code",
   "execution_count": 1439,
   "metadata": {},
   "outputs": [
    {
     "data": {
      "text/plain": [
       "E      446554\n",
       "A       31971\n",
       "B        4202\n",
       "C         837\n",
       "D          48\n",
       "NaN        18\n",
       "Name: parcel_shape, dtype: int64"
      ]
     },
     "execution_count": 1439,
     "metadata": {},
     "output_type": "execute_result"
    }
   ],
   "source": [
    "data.parcel_shape.value_counts(dropna=False)"
   ]
  },
  {
   "cell_type": "code",
   "execution_count": 1440,
   "metadata": {},
   "outputs": [],
   "source": [
    "# Replacing the \"NaN's\" with 'F'\n",
    "data.loc[:, \"parcel_shape\"] = data['parcel_shape'].fillna('F')"
   ]
  },
  {
   "cell_type": "code",
   "execution_count": 1441,
   "metadata": {},
   "outputs": [
    {
     "data": {
      "text/plain": [
       "False"
      ]
     },
     "execution_count": 1441,
     "metadata": {},
     "output_type": "execute_result"
    }
   ],
   "source": [
    "data.parcel_shape.isnull().any()"
   ]
  },
  {
   "cell_type": "markdown",
   "metadata": {},
   "source": [
    "### Seperate Utilities"
   ]
  },
  {
   "cell_type": "markdown",
   "metadata": {},
   "source": [
    "- D = Non 2 to 4 apartments\n",
    "- B = Part Separate\n",
    "- A = Central (heater, hot water tank, electrical, gas)\n",
    "- C = All seperate (except water)"
   ]
  },
  {
   "cell_type": "code",
   "execution_count": 1442,
   "metadata": {},
   "outputs": [
    {
     "data": {
      "text/plain": [
       "NaN    460218\n",
       "B       10478\n",
       "A        8826\n",
       "C        4108\n",
       "Name: separate_utilities, dtype: int64"
      ]
     },
     "execution_count": 1442,
     "metadata": {},
     "output_type": "execute_result"
    }
   ],
   "source": [
    "data.separate_utilities.value_counts(dropna=False)"
   ]
  },
  {
   "cell_type": "code",
   "execution_count": 1443,
   "metadata": {},
   "outputs": [],
   "source": [
    "data.loc[:, \"separate_utilities\"] = data['separate_utilities'].fillna('D')"
   ]
  },
  {
   "cell_type": "code",
   "execution_count": 1444,
   "metadata": {},
   "outputs": [
    {
     "data": {
      "text/plain": [
       "False"
      ]
     },
     "execution_count": 1444,
     "metadata": {},
     "output_type": "execute_result"
    }
   ],
   "source": [
    "data.separate_utilities.isnull().any()"
   ]
  },
  {
   "cell_type": "markdown",
   "metadata": {},
   "source": [
    "### Suffix"
   ]
  },
  {
   "cell_type": "markdown",
   "metadata": {},
   "source": [
    "- NaN [Replacing NaN’s with N — No suffix needed/provided]\n",
    "- 2      [Replacing 2 with H (half an address)]\n",
    "- R      to indicate Rear in address\n",
    "- A      to indicate Air Rights\n",
    "- L      Leasehold\n",
    "- E      "
   ]
  },
  {
   "cell_type": "code",
   "execution_count": 1445,
   "metadata": {},
   "outputs": [
    {
     "data": {
      "text/plain": [
       "NaN    482825\n",
       "2         383\n",
       "R         372\n",
       "A          48\n",
       "L           2\n",
       "Name: suffix, dtype: int64"
      ]
     },
     "execution_count": 1445,
     "metadata": {},
     "output_type": "execute_result"
    }
   ],
   "source": [
    "data.suffix.value_counts(dropna=False)"
   ]
  },
  {
   "cell_type": "code",
   "execution_count": 1446,
   "metadata": {},
   "outputs": [
    {
     "data": {
      "text/plain": [
       "array([nan, '2', 'R', 'L', 'A'], dtype=object)"
      ]
     },
     "execution_count": 1446,
     "metadata": {},
     "output_type": "execute_result"
    }
   ],
   "source": [
    "data[\"suffix\"].unique()"
   ]
  },
  {
   "cell_type": "code",
   "execution_count": 1447,
   "metadata": {},
   "outputs": [],
   "source": [
    "data.loc[:, \"suffix\"] = data[\"suffix\"].fillna('N')\n",
    "data.loc[:, \"suffix\"] = data[\"suffix\"].replace('2','H')"
   ]
  },
  {
   "cell_type": "code",
   "execution_count": 1448,
   "metadata": {},
   "outputs": [
    {
     "data": {
      "text/plain": [
       "False"
      ]
     },
     "execution_count": 1448,
     "metadata": {},
     "output_type": "execute_result"
    }
   ],
   "source": [
    "data.suffix.isnull().any()"
   ]
  },
  {
   "cell_type": "markdown",
   "metadata": {},
   "source": [
    "### Topography"
   ]
  },
  {
   "cell_type": "markdown",
   "metadata": {},
   "source": [
    "- F = Street level \n",
    "- A = Above Street Level \n",
    "- E = Other and NaN’s \n",
    "- B = Below Street Level \n",
    "- C = Flood Plain \n",
    "- D = Rocky "
   ]
  },
  {
   "cell_type": "code",
   "execution_count": 1449,
   "metadata": {},
   "outputs": [
    {
     "data": {
      "text/plain": [
       "F      444991\n",
       "A       28305\n",
       "NaN      5338\n",
       "E        4509\n",
       "B         231\n",
       "C         152\n",
       "D         104\n",
       "Name: topography, dtype: int64"
      ]
     },
     "execution_count": 1449,
     "metadata": {},
     "output_type": "execute_result"
    }
   ],
   "source": [
    "data.topography.value_counts(dropna=False)"
   ]
  },
  {
   "cell_type": "code",
   "execution_count": 1450,
   "metadata": {},
   "outputs": [],
   "source": [
    "data.loc[:, \"topography\"] = data[\"topography\"].fillna('E')"
   ]
  },
  {
   "cell_type": "code",
   "execution_count": 1451,
   "metadata": {},
   "outputs": [
    {
     "data": {
      "text/plain": [
       "False"
      ]
     },
     "execution_count": 1451,
     "metadata": {},
     "output_type": "execute_result"
    }
   ],
   "source": [
    "data.topography.isnull().any()"
   ]
  },
  {
   "cell_type": "markdown",
   "metadata": {},
   "source": [
    "### Heater"
   ]
  },
  {
   "cell_type": "markdown",
   "metadata": {},
   "source": [
    "- H = Undetermined and NaNs \n",
    "- A = Hot air (ducts) \n",
    "- B = Hot water (radiators or baseboards) \n",
    "- G = Radiant \n",
    "- N = None \n",
    "- C = Electric baseboard \n",
    "- E = Other \n",
    "- D = Outside heat pump "
   ]
  },
  {
   "cell_type": "code",
   "execution_count": 1452,
   "metadata": {},
   "outputs": [
    {
     "data": {
      "text/plain": [
       "NaN    196183\n",
       "H      113768\n",
       "A      103654\n",
       "B       59669\n",
       "G        6475\n",
       "0        1651\n",
       "C        1278\n",
       "E         550\n",
       "D         402\n",
       "Name: type_heater, dtype: int64"
      ]
     },
     "execution_count": 1452,
     "metadata": {},
     "output_type": "execute_result"
    }
   ],
   "source": [
    "data.type_heater.value_counts(dropna=False)"
   ]
  },
  {
   "cell_type": "code",
   "execution_count": 1453,
   "metadata": {},
   "outputs": [],
   "source": [
    "data.loc[:, \"type_heater\"] = data[\"type_heater\"].fillna('H')"
   ]
  },
  {
   "cell_type": "code",
   "execution_count": 1454,
   "metadata": {},
   "outputs": [
    {
     "data": {
      "text/plain": [
       "False"
      ]
     },
     "execution_count": 1454,
     "metadata": {},
     "output_type": "execute_result"
    }
   ],
   "source": [
    "data.type_heater.isnull().any()"
   ]
  },
  {
   "cell_type": "markdown",
   "metadata": {},
   "source": [
    "### View Type"
   ]
  },
  {
   "cell_type": "code",
   "execution_count": 1455,
   "metadata": {},
   "outputs": [
    {
     "data": {
      "text/plain": [
       "I      454497\n",
       "A       10307\n",
       "C        5037\n",
       "D        3462\n",
       "0        3305\n",
       "H        2665\n",
       "NaN      2261\n",
       "E        1933\n",
       "B         163\n",
       "Name: view_type, dtype: int64"
      ]
     },
     "execution_count": 1455,
     "metadata": {},
     "output_type": "execute_result"
    }
   ],
   "source": [
    "data.view_type.value_counts(dropna=False)"
   ]
  },
  {
   "cell_type": "code",
   "execution_count": 1456,
   "metadata": {},
   "outputs": [],
   "source": [
    "data.loc[:, \"view_type\"] = data[\"view_type\"].fillna('N')"
   ]
  },
  {
   "cell_type": "code",
   "execution_count": 1457,
   "metadata": {},
   "outputs": [
    {
     "data": {
      "text/plain": [
       "False"
      ]
     },
     "execution_count": 1457,
     "metadata": {},
     "output_type": "execute_result"
    }
   ],
   "source": [
    "data.view_type.isnull().any()"
   ]
  },
  {
   "cell_type": "markdown",
   "metadata": {},
   "source": [
    "### Fireplaces"
   ]
  },
  {
   "cell_type": "code",
   "execution_count": 1458,
   "metadata": {},
   "outputs": [
    {
     "data": {
      "text/plain": [
       "0.0     448846\n",
       "NaN      20424\n",
       "1.0      11608\n",
       "2.0       1646\n",
       "3.0        654\n",
       "5.0        282\n",
       "4.0        169\n",
       "10.0         1\n",
       "Name: fireplaces, dtype: int64"
      ]
     },
     "execution_count": 1458,
     "metadata": {},
     "output_type": "execute_result"
    }
   ],
   "source": [
    "data.fireplaces.value_counts(dropna=False)"
   ]
  },
  {
   "cell_type": "code",
   "execution_count": 1459,
   "metadata": {},
   "outputs": [],
   "source": [
    "data.loc[:, \"fireplaces\"] = data[\"fireplaces\"].fillna(0.0)"
   ]
  },
  {
   "cell_type": "code",
   "execution_count": 1460,
   "metadata": {},
   "outputs": [
    {
     "data": {
      "text/plain": [
       "False"
      ]
     },
     "execution_count": 1460,
     "metadata": {},
     "output_type": "execute_result"
    }
   ],
   "source": [
    "data.fireplaces.isnull().any()"
   ]
  },
  {
   "cell_type": "markdown",
   "metadata": {},
   "source": [
    "### Number Stories"
   ]
  },
  {
   "cell_type": "code",
   "execution_count": 1461,
   "metadata": {},
   "outputs": [
    {
     "data": {
      "text/plain": [
       "2.0    342450\n",
       "1.0     61658\n",
       "3.0     61289\n",
       "NaN     17145\n",
       "4.0      1070\n",
       "5.0        10\n",
       "6.0         6\n",
       "0.0         2\n",
       "Name: number_stories, dtype: int64"
      ]
     },
     "execution_count": 1461,
     "metadata": {},
     "output_type": "execute_result"
    }
   ],
   "source": [
    "data.number_stories.value_counts(dropna=False)"
   ]
  },
  {
   "cell_type": "code",
   "execution_count": 1462,
   "metadata": {},
   "outputs": [
    {
     "data": {
      "text/plain": [
       "array([nan,  1.,  2.,  3.,  4.,  0.,  5.,  6.])"
      ]
     },
     "execution_count": 1462,
     "metadata": {},
     "output_type": "execute_result"
    }
   ],
   "source": [
    "data[\"number_stories\"].unique()"
   ]
  },
  {
   "cell_type": "code",
   "execution_count": 1463,
   "metadata": {},
   "outputs": [],
   "source": [
    "data.loc[:, \"number_stories\"] = data[\"number_stories\"].fillna(0.0)"
   ]
  },
  {
   "cell_type": "code",
   "execution_count": 1464,
   "metadata": {},
   "outputs": [
    {
     "data": {
      "text/plain": [
       "False"
      ]
     },
     "execution_count": 1464,
     "metadata": {},
     "output_type": "execute_result"
    }
   ],
   "source": [
    "data.number_stories.isnull().any()"
   ]
  },
  {
   "cell_type": "markdown",
   "metadata": {},
   "source": [
    "### Number of bedrooms"
   ]
  },
  {
   "cell_type": "code",
   "execution_count": 1465,
   "metadata": {},
   "outputs": [
    {
     "data": {
      "text/plain": [
       "3.0     284799\n",
       "0.0      93052\n",
       "4.0      49941\n",
       "2.0      27035\n",
       "NaN      17333\n",
       "5.0       5923\n",
       "6.0       3341\n",
       "7.0        727\n",
       "8.0        568\n",
       "1.0        388\n",
       "9.0        247\n",
       "10.0        82\n",
       "12.0        75\n",
       "11.0        50\n",
       "13.0        19\n",
       "14.0        18\n",
       "31.0        10\n",
       "30.0         5\n",
       "16.0         4\n",
       "15.0         4\n",
       "44.0         3\n",
       "18.0         2\n",
       "20.0         2\n",
       "40.0         1\n",
       "45.0         1\n",
       "Name: number_of_bedrooms, dtype: int64"
      ]
     },
     "execution_count": 1465,
     "metadata": {},
     "output_type": "execute_result"
    }
   ],
   "source": [
    "data.number_of_bedrooms.value_counts(dropna=False)"
   ]
  },
  {
   "cell_type": "code",
   "execution_count": 1466,
   "metadata": {},
   "outputs": [
    {
     "name": "stdout",
     "output_type": "stream",
     "text": [
      "3\n"
     ]
    }
   ],
   "source": [
    "mean_data = round(data[\"number_of_bedrooms\"].mean())\n",
    "print(mean_data)"
   ]
  },
  {
   "cell_type": "code",
   "execution_count": 1467,
   "metadata": {},
   "outputs": [],
   "source": [
    "# Replace with the mean\n",
    "data.loc[:, \"number_of_bedrooms\"] = data[\"number_of_bedrooms\"].fillna(mean_data)"
   ]
  },
  {
   "cell_type": "code",
   "execution_count": 1468,
   "metadata": {},
   "outputs": [
    {
     "data": {
      "text/plain": [
       "False"
      ]
     },
     "execution_count": 1468,
     "metadata": {},
     "output_type": "execute_result"
    }
   ],
   "source": [
    "data.number_of_bedrooms.isnull().any()"
   ]
  },
  {
   "cell_type": "markdown",
   "metadata": {},
   "source": [
    "### Number of bathrooms"
   ]
  },
  {
   "cell_type": "code",
   "execution_count": 1469,
   "metadata": {},
   "outputs": [
    {
     "data": {
      "text/plain": [
       "1.0     310087\n",
       "0.0      93995\n",
       "2.0      45165\n",
       "NaN      19934\n",
       "3.0      11016\n",
       "4.0       2392\n",
       "5.0        455\n",
       "6.0        305\n",
       "7.0         97\n",
       "8.0         92\n",
       "10.0        27\n",
       "9.0         26\n",
       "12.0        15\n",
       "11.0        10\n",
       "13.0         4\n",
       "21.0         2\n",
       "15.0         2\n",
       "14.0         2\n",
       "22.0         1\n",
       "17.0         1\n",
       "16.0         1\n",
       "25.0         1\n",
       "Name: number_of_bathrooms, dtype: int64"
      ]
     },
     "execution_count": 1469,
     "metadata": {},
     "output_type": "execute_result"
    }
   ],
   "source": [
    "data.number_of_bathrooms.value_counts(dropna=False)"
   ]
  },
  {
   "cell_type": "code",
   "execution_count": 1470,
   "metadata": {},
   "outputs": [],
   "source": [
    "mean_data = round(data.loc[:, \"number_of_bathrooms\"].mean())"
   ]
  },
  {
   "cell_type": "code",
   "execution_count": 1471,
   "metadata": {},
   "outputs": [],
   "source": [
    "data.loc[:, \"number_of_bathrooms\"] = data[\"number_of_bathrooms\"].fillna(mean_data)"
   ]
  },
  {
   "cell_type": "code",
   "execution_count": 1472,
   "metadata": {},
   "outputs": [
    {
     "data": {
      "text/plain": [
       "False"
      ]
     },
     "execution_count": 1472,
     "metadata": {},
     "output_type": "execute_result"
    }
   ],
   "source": [
    "data.number_of_bathrooms.isnull().any()"
   ]
  },
  {
   "cell_type": "markdown",
   "metadata": {},
   "source": [
    "### Taxable Land"
   ]
  },
  {
   "cell_type": "code",
   "execution_count": 1473,
   "metadata": {},
   "outputs": [
    {
     "data": {
      "text/plain": [
       "28420"
      ]
     },
     "execution_count": 1473,
     "metadata": {},
     "output_type": "execute_result"
    }
   ],
   "source": [
    "data.taxable_land.value_counts(dropna=False).get(0,0)"
   ]
  },
  {
   "cell_type": "code",
   "execution_count": 1474,
   "metadata": {},
   "outputs": [],
   "source": [
    "data = data.dropna(subset=[\"taxable_land\"])"
   ]
  },
  {
   "cell_type": "code",
   "execution_count": 1475,
   "metadata": {},
   "outputs": [
    {
     "data": {
      "text/plain": [
       "False"
      ]
     },
     "execution_count": 1475,
     "metadata": {},
     "output_type": "execute_result"
    }
   ],
   "source": [
    "data.taxable_land.isnull().any()"
   ]
  },
  {
   "cell_type": "markdown",
   "metadata": {},
   "source": [
    "### Taxable Building"
   ]
  },
  {
   "cell_type": "code",
   "execution_count": 1476,
   "metadata": {},
   "outputs": [],
   "source": [
    "data = data.dropna(subset=[\"taxable_building\"])"
   ]
  },
  {
   "cell_type": "code",
   "execution_count": 1477,
   "metadata": {},
   "outputs": [
    {
     "data": {
      "text/plain": [
       "False"
      ]
     },
     "execution_count": 1477,
     "metadata": {},
     "output_type": "execute_result"
    }
   ],
   "source": [
    "data.taxable_building.isnull().any()"
   ]
  },
  {
   "cell_type": "markdown",
   "metadata": {},
   "source": [
    "### Total Area"
   ]
  },
  {
   "cell_type": "code",
   "execution_count": 1478,
   "metadata": {},
   "outputs": [
    {
     "data": {
      "text/plain": [
       "0"
      ]
     },
     "execution_count": 1478,
     "metadata": {},
     "output_type": "execute_result"
    }
   ],
   "source": [
    "data.total_area.value_counts(dropna=False).get(0,0)"
   ]
  },
  {
   "cell_type": "code",
   "execution_count": 1479,
   "metadata": {},
   "outputs": [],
   "source": [
    "data = data[data[\"total_area\"] != 0]"
   ]
  },
  {
   "cell_type": "code",
   "execution_count": 1480,
   "metadata": {},
   "outputs": [],
   "source": [
    "data = data.dropna(subset=[\"total_area\"])"
   ]
  },
  {
   "cell_type": "code",
   "execution_count": 1481,
   "metadata": {},
   "outputs": [
    {
     "data": {
      "text/plain": [
       "False"
      ]
     },
     "execution_count": 1481,
     "metadata": {},
     "output_type": "execute_result"
    }
   ],
   "source": [
    "data.total_area.isnull().any()"
   ]
  },
  {
   "cell_type": "markdown",
   "metadata": {},
   "source": [
    "### Total livable area"
   ]
  },
  {
   "cell_type": "code",
   "execution_count": 1482,
   "metadata": {},
   "outputs": [
    {
     "data": {
      "text/plain": [
       "91"
      ]
     },
     "execution_count": 1482,
     "metadata": {},
     "output_type": "execute_result"
    }
   ],
   "source": [
    "data.total_livable_area.value_counts(dropna=False).get(0,0)"
   ]
  },
  {
   "cell_type": "code",
   "execution_count": 1483,
   "metadata": {},
   "outputs": [],
   "source": [
    "area_mean = data.total_livable_area.mean()"
   ]
  },
  {
   "cell_type": "code",
   "execution_count": 1484,
   "metadata": {},
   "outputs": [],
   "source": [
    "data.loc[:, \"total_livable_area\"] = data[\"total_livable_area\"].fillna(area_mean)"
   ]
  },
  {
   "cell_type": "code",
   "execution_count": 1485,
   "metadata": {},
   "outputs": [],
   "source": [
    "data = data[data[\"total_livable_area\"] != 0]"
   ]
  },
  {
   "cell_type": "code",
   "execution_count": 1486,
   "metadata": {},
   "outputs": [
    {
     "data": {
      "text/plain": [
       "False"
      ]
     },
     "execution_count": 1486,
     "metadata": {},
     "output_type": "execute_result"
    }
   ],
   "source": [
    "data.total_livable_area.isnull().any()"
   ]
  },
  {
   "cell_type": "markdown",
   "metadata": {},
   "source": [
    "### Frontage\n"
   ]
  },
  {
   "cell_type": "code",
   "execution_count": 1487,
   "metadata": {},
   "outputs": [
    {
     "name": "stdout",
     "output_type": "stream",
     "text": [
      "23\n"
     ]
    }
   ],
   "source": [
    "area_mean = round(data.frontage.mean())\n",
    "print(area_mean)"
   ]
  },
  {
   "cell_type": "code",
   "execution_count": 1488,
   "metadata": {},
   "outputs": [],
   "source": [
    "data.loc[:, \"frontage\"] = data[\"frontage\"].fillna(area_mean)"
   ]
  },
  {
   "cell_type": "code",
   "execution_count": 1489,
   "metadata": {},
   "outputs": [
    {
     "data": {
      "text/plain": [
       "False"
      ]
     },
     "execution_count": 1489,
     "metadata": {},
     "output_type": "execute_result"
    }
   ],
   "source": [
    "data.frontage.isnull().any()"
   ]
  },
  {
   "cell_type": "markdown",
   "metadata": {},
   "source": [
    "### Exempt building"
   ]
  },
  {
   "cell_type": "code",
   "execution_count": 1490,
   "metadata": {},
   "outputs": [],
   "source": [
    "data = data.dropna(subset=[\"exempt_building\"])"
   ]
  },
  {
   "cell_type": "markdown",
   "metadata": {},
   "source": [
    "### Exempt Land"
   ]
  },
  {
   "cell_type": "code",
   "execution_count": 1491,
   "metadata": {},
   "outputs": [],
   "source": [
    "data = data.dropna(subset=[\"exempt_land\"])"
   ]
  },
  {
   "cell_type": "markdown",
   "metadata": {},
   "source": [
    "### Off Street Open"
   ]
  },
  {
   "cell_type": "code",
   "execution_count": 1492,
   "metadata": {},
   "outputs": [],
   "source": [
    "data = data.dropna(subset=[\"off_street_open\"])"
   ]
  },
  {
   "cell_type": "markdown",
   "metadata": {},
   "source": [
    "### Zoning"
   ]
  },
  {
   "cell_type": "code",
   "execution_count": 1493,
   "metadata": {},
   "outputs": [],
   "source": [
    "data = data.dropna(subset=[\"zoning\"])"
   ]
  },
  {
   "cell_type": "markdown",
   "metadata": {},
   "source": [
    "### ZipCode"
   ]
  },
  {
   "cell_type": "code",
   "execution_count": 1494,
   "metadata": {},
   "outputs": [],
   "source": [
    "data = data.dropna(subset=[\"zip_code\"])"
   ]
  },
  {
   "cell_type": "markdown",
   "metadata": {},
   "source": [
    "### Year Built"
   ]
  },
  {
   "cell_type": "code",
   "execution_count": 1495,
   "metadata": {},
   "outputs": [],
   "source": [
    "data = data.dropna(subset=[\"year_built\"])"
   ]
  },
  {
   "cell_type": "markdown",
   "metadata": {},
   "source": [
    "### Garage Spaces"
   ]
  },
  {
   "cell_type": "code",
   "execution_count": 1496,
   "metadata": {},
   "outputs": [],
   "source": [
    "data = data.dropna(subset=[\"garage_spaces\"])"
   ]
  },
  {
   "cell_type": "markdown",
   "metadata": {},
   "source": [
    "### Interior Condition"
   ]
  },
  {
   "cell_type": "code",
   "execution_count": 1497,
   "metadata": {},
   "outputs": [],
   "source": [
    "data = data.dropna(subset=[\"interior_condition\"])"
   ]
  },
  {
   "cell_type": "markdown",
   "metadata": {},
   "source": [
    "-------------------------------------------------------------------------------------------------------------------------------------------------------------------------------------------------------------\n",
    "# Remove Outliers"
   ]
  },
  {
   "cell_type": "markdown",
   "metadata": {},
   "source": [
    "#### Numerical Data\n",
    "- Depth\n",
    "- Fireplaces\n",
    "- Number of Stories\n",
    "- Number of bathrooms\n",
    "- Number of bedrooms\n",
    "- Number of rooms\n"
   ]
  },
  {
   "cell_type": "markdown",
   "metadata": {},
   "source": [
    "### Depth"
   ]
  },
  {
   "cell_type": "code",
   "execution_count": 1498,
   "metadata": {},
   "outputs": [],
   "source": [
    "# Calculate Q1, Q3, and IQR\n",
    "q1 = np.percentile(data[\"depth\"], 25)\n",
    "q3 = np.percentile(data[\"depth\"], 75)\n",
    "iqr = q3 - q1\n",
    "\n",
    "# Define lower and upper bounds\n",
    "lower_bound = q1 - 1.5 * iqr\n",
    "upper_bound = q3 + 1.5 * iqr\n"
   ]
  },
  {
   "cell_type": "code",
   "execution_count": 1499,
   "metadata": {},
   "outputs": [],
   "source": [
    "data = data[(data['depth'] > lower_bound) & (data['depth'] < upper_bound)]"
   ]
  },
  {
   "cell_type": "markdown",
   "metadata": {},
   "source": [
    "### Fireplace"
   ]
  },
  {
   "cell_type": "code",
   "execution_count": 1500,
   "metadata": {},
   "outputs": [],
   "source": [
    "data = data[(data[\"fireplaces\"] >= 0.0) & (data[\"fireplaces\"] <= 5.0) ]"
   ]
  },
  {
   "cell_type": "code",
   "execution_count": 1501,
   "metadata": {},
   "outputs": [
    {
     "data": {
      "text/plain": [
       "(449050, 33)"
      ]
     },
     "execution_count": 1501,
     "metadata": {},
     "output_type": "execute_result"
    }
   ],
   "source": [
    "data.shape"
   ]
  },
  {
   "cell_type": "markdown",
   "metadata": {},
   "source": [
    "### Number of Stories"
   ]
  },
  {
   "cell_type": "code",
   "execution_count": 1502,
   "metadata": {},
   "outputs": [],
   "source": [
    "data = data[(data[\"number_stories\"] >= 0.0) & (data[\"number_stories\"] <= 4.0) ]"
   ]
  },
  {
   "cell_type": "code",
   "execution_count": 1503,
   "metadata": {},
   "outputs": [
    {
     "data": {
      "text/plain": [
       "(449038, 33)"
      ]
     },
     "execution_count": 1503,
     "metadata": {},
     "output_type": "execute_result"
    }
   ],
   "source": [
    "data.shape"
   ]
  },
  {
   "cell_type": "markdown",
   "metadata": {},
   "source": [
    "### Number of Bathrooms"
   ]
  },
  {
   "cell_type": "code",
   "execution_count": 1504,
   "metadata": {},
   "outputs": [],
   "source": [
    "data = data[(data[\"number_of_bathrooms\"] >= 0.0) & (data[\"number_of_bathrooms\"] <= 6.0)]"
   ]
  },
  {
   "cell_type": "code",
   "execution_count": 1505,
   "metadata": {},
   "outputs": [
    {
     "data": {
      "text/plain": [
       "(448815, 33)"
      ]
     },
     "execution_count": 1505,
     "metadata": {},
     "output_type": "execute_result"
    }
   ],
   "source": [
    "data.shape"
   ]
  },
  {
   "cell_type": "markdown",
   "metadata": {},
   "source": [
    "### Number of Bedrooms"
   ]
  },
  {
   "cell_type": "code",
   "execution_count": 1506,
   "metadata": {},
   "outputs": [],
   "source": [
    "data = data[(data[\"number_of_bedrooms\"] >= 0.0) & (data[\"number_of_bedrooms\"] <= 10.0)]"
   ]
  },
  {
   "cell_type": "code",
   "execution_count": 1507,
   "metadata": {},
   "outputs": [
    {
     "data": {
      "text/plain": [
       "(448715, 33)"
      ]
     },
     "execution_count": 1507,
     "metadata": {},
     "output_type": "execute_result"
    }
   ],
   "source": [
    "data.shape"
   ]
  },
  {
   "cell_type": "markdown",
   "metadata": {},
   "source": [
    "# Feature Selection Categorical Data\n",
    "-------------------------------------------------------------------------------------------------------------------------------------------------------------------------------------------------------------"
   ]
  },
  {
   "cell_type": "markdown",
   "metadata": {},
   "source": [
    "#### Categorical Char\n",
    "- Basements\n",
    "- Central Air\n",
    "- Garage Type\n",
    "- General Construction\n",
    "- Parcel Shape\n",
    "- Separate Utilities\n",
    "- Suffix\n",
    "- Topography\n",
    "- Heater\n",
    "- Utility\n",
    "- View Type\n",
    "- Zoning\n",
    "#### Categorical Numerical\n",
    "- Category Code\n",
    "- Zipcode\n",
    "- Exterior Condition\n",
    "- Year Built\n",
    "- Interior Condition"
   ]
  },
  {
   "cell_type": "code",
   "execution_count": 1508,
   "metadata": {},
   "outputs": [],
   "source": [
    "categories = [\"basements\", \"central_air\", \"general_construction\", \"parcel_shape\", \"separate_utilities\", \"suffix\", \"topography\", \"type_heater\", \"view_type\", \"zoning\", \"exterior_condition\", \"interior_condition\", \"category_code\", \"zip_code\", \"year_built\"]"
   ]
  },
  {
   "cell_type": "code",
   "execution_count": 1509,
   "metadata": {},
   "outputs": [
    {
     "data": {
      "text/plain": [
       "15"
      ]
     },
     "execution_count": 1509,
     "metadata": {},
     "output_type": "execute_result"
    }
   ],
   "source": [
    "len(categories)"
   ]
  },
  {
   "cell_type": "code",
   "execution_count": 1510,
   "metadata": {},
   "outputs": [],
   "source": [
    "label_encoder = LabelEncoder()"
   ]
  },
  {
   "cell_type": "code",
   "execution_count": 1511,
   "metadata": {},
   "outputs": [],
   "source": [
    "data[categories] = data[categories].apply(lambda col: label_encoder.fit_transform(col))\n"
   ]
  },
  {
   "cell_type": "code",
   "execution_count": 1512,
   "metadata": {},
   "outputs": [],
   "source": [
    "categorical_data = data[categories]"
   ]
  },
  {
   "cell_type": "code",
   "execution_count": 1513,
   "metadata": {},
   "outputs": [],
   "source": [
    "target_data = data[\"market_value\"]"
   ]
  },
  {
   "cell_type": "code",
   "execution_count": 1514,
   "metadata": {},
   "outputs": [],
   "source": [
    "# Apply chi-squared feature selection\n",
    "k_best = SelectKBest(chi2, k=5)\n",
    "X_chi2_selected = k_best.fit_transform(categorical_data, target_data)\n",
    "selected_features = categorical_data.columns[k_best.get_support()]"
   ]
  },
  {
   "cell_type": "code",
   "execution_count": 1515,
   "metadata": {},
   "outputs": [
    {
     "name": "stdout",
     "output_type": "stream",
     "text": [
      "Original DataFrame:\n",
      "        basements  central_air  general_construction  parcel_shape  \\\n",
      "27              3            0                     0             0   \n",
      "66             10            0                     0             4   \n",
      "72              3            0                     0             0   \n",
      "75             10            0                     0             4   \n",
      "132            10            0                     0             4   \n",
      "...           ...          ...                   ...           ...   \n",
      "582906          5            0                     0             4   \n",
      "582910          7            0                     0             4   \n",
      "582922         10            0                     0             4   \n",
      "582923          3            0                     0             4   \n",
      "582925         10            0                     0             4   \n",
      "\n",
      "        separate_utilities  suffix  topography  type_heater  view_type  \\\n",
      "27                       3       2           5            7          7   \n",
      "66                       3       2           5            7          7   \n",
      "72                       3       2           5            7          7   \n",
      "75                       3       2           5            7          7   \n",
      "132                      3       2           5            7          7   \n",
      "...                    ...     ...         ...          ...        ...   \n",
      "582906                   3       2           5            7          7   \n",
      "582910                   3       2           5            2          7   \n",
      "582922                   3       2           5            7          7   \n",
      "582923                   3       2           5            7          7   \n",
      "582925                   3       2           5            7          7   \n",
      "\n",
      "        zoning  exterior_condition  interior_condition  category_code  \\\n",
      "27          25                   4                   4              0   \n",
      "66          13                   4                   4              1   \n",
      "72          25                   3                   3              1   \n",
      "75          25                   4                   4              0   \n",
      "132         13                   4                   4              1   \n",
      "...        ...                 ...                 ...            ...   \n",
      "582906      23                   4                   4              0   \n",
      "582910      25                   5                   4              0   \n",
      "582922      25                   5                   4              0   \n",
      "582923      25                   3                   4              0   \n",
      "582925      25                   5                   4              0   \n",
      "\n",
      "        zip_code  year_built  \n",
      "27            16          99  \n",
      "66            12          90  \n",
      "72            21         135  \n",
      "75            23         115  \n",
      "132           23         115  \n",
      "...          ...         ...  \n",
      "582906        42         125  \n",
      "582910        35         150  \n",
      "582922        23         115  \n",
      "582923        36         120  \n",
      "582925        24         125  \n",
      "\n",
      "[448715 rows x 15 columns]\n",
      "\n",
      "Selected features after chi-squared feature selection:\n",
      "[[  3   0   7  16  99]\n",
      " [ 10   0   7  12  90]\n",
      " [  3   0   7  21 135]\n",
      " ...\n",
      " [ 10   0   7  23 115]\n",
      " [  3   0   7  36 120]\n",
      " [ 10   0   7  24 125]]\n"
     ]
    }
   ],
   "source": [
    "# Display the original and selected features\n",
    "print(\"Original DataFrame:\")\n",
    "print(categorical_data)\n",
    "\n",
    "print(\"\\nSelected features after chi-squared feature selection:\")\n",
    "print(X_chi2_selected)"
   ]
  },
  {
   "cell_type": "code",
   "execution_count": 1516,
   "metadata": {},
   "outputs": [
    {
     "name": "stdout",
     "output_type": "stream",
     "text": [
      "\n",
      "Selected feature names:\n",
      "Index(['basements', 'general_construction', 'type_heater', 'zip_code',\n",
      "       'year_built'],\n",
      "      dtype='object')\n"
     ]
    }
   ],
   "source": [
    "print(\"\\nSelected feature names:\")\n",
    "print(selected_features)"
   ]
  },
  {
   "cell_type": "code",
   "execution_count": 1517,
   "metadata": {},
   "outputs": [],
   "source": [
    "# Drop columns\n",
    "categories = [\"basements\", \"central_air\", \"general_construction\", \"parcel_shape\", \n",
    "              \"separate_utilities\", \"suffix\", \"topography\", \"type_heater\",\n",
    "                \"view_type\", \"zoning\", \"exterior_condition\", \"interior_condition\", \n",
    "                \"category_code\", \"zip_code\", \"year_built\"]\n",
    "\n",
    "drop_categories = [cat for cat in categories if cat not in selected_features]"
   ]
  },
  {
   "cell_type": "code",
   "execution_count": 1518,
   "metadata": {},
   "outputs": [],
   "source": [
    "data = data.drop(drop_categories, axis = 1)"
   ]
  },
  {
   "cell_type": "markdown",
   "metadata": {},
   "source": [
    "# Feature Selection Numerical Data"
   ]
  },
  {
   "cell_type": "markdown",
   "metadata": {},
   "source": [
    "#### Numerical Data Non Categorical\n",
    "- Depth\n",
    "- Longitude\n",
    "- Latitude\n",
    "- Fireplaces\n",
    "- Number of Stories\n",
    "- Number of bathrooms\n",
    "- Number of bedrooms\n",
    "- Number of rooms\n",
    "- Total area\n",
    "- Total livable area\n",
    "- Off street open\n",
    "- Exempt Building\n",
    "- Exempt Land\n",
    "- Garage Spaces\n",
    "- Homestead Exemption\n",
    "- Market Value (Target)\n",
    "- Taxable Building\n",
    "- Taxable Land\n"
   ]
  },
  {
   "cell_type": "code",
   "execution_count": 1519,
   "metadata": {},
   "outputs": [
    {
     "name": "stdout",
     "output_type": "stream",
     "text": [
      "market_value            1.000000\n",
      "taxable_land            0.979568\n",
      "taxable_building        0.815605\n",
      "total_livable_area      0.598914\n",
      "exempt_building         0.436827\n",
      "number_stories          0.311470\n",
      "fireplaces              0.302930\n",
      "year_built              0.179355\n",
      "general_construction    0.174378\n",
      "number_of_bathrooms     0.172300\n",
      "total_area              0.151038\n",
      "garage_spaces           0.140064\n",
      "frontage                0.138953\n",
      "depth                   0.117252\n",
      "homestead_exemption     0.063869\n",
      "off_street_open         0.006984\n",
      "lng                    -0.051796\n",
      "lat                    -0.054748\n",
      "exempt_land            -0.067769\n",
      "number_of_bedrooms     -0.068293\n",
      "zip_code               -0.089965\n",
      "basements              -0.170572\n",
      "type_heater            -0.240645\n",
      "Name: market_value, dtype: float64\n"
     ]
    }
   ],
   "source": [
    "corr = data.corr()\n",
    "corr.sort_values([\"market_value\"],ascending = False, inplace = True)\n",
    "print(corr.market_value)"
   ]
  },
  {
   "cell_type": "markdown",
   "metadata": {},
   "source": [
    "# One Hot Encoding for Categories"
   ]
  },
  {
   "cell_type": "code",
   "execution_count": 1520,
   "metadata": {},
   "outputs": [],
   "source": [
    "# Perform one-hot encoding on the 'Category' column\n",
    "data = pd.get_dummies(data, columns=['basements'], prefix='basement')"
   ]
  },
  {
   "cell_type": "code",
   "execution_count": 1521,
   "metadata": {},
   "outputs": [],
   "source": [
    "# # Perform one-hot encoding on the 'Category' column\n",
    "# df_encoded = pd.get_dummies(df_encoded, columns=['central_air'], prefix='air')"
   ]
  },
  {
   "cell_type": "code",
   "execution_count": 1522,
   "metadata": {},
   "outputs": [],
   "source": [
    "# # Perform one-hot encoding on the 'Category' column\n",
    "# df_encoded = pd.get_dummies(df_encoded, columns=['fuel'], prefix='fuel')"
   ]
  },
  {
   "cell_type": "code",
   "execution_count": 1523,
   "metadata": {},
   "outputs": [],
   "source": [
    "# # Perform one-hot encoding on the 'Category' column\n",
    "# df_encoded = pd.get_dummies(df_encoded, columns=['garage_type'], prefix='garage')"
   ]
  },
  {
   "cell_type": "code",
   "execution_count": 1524,
   "metadata": {},
   "outputs": [],
   "source": [
    "# Perform one-hot encoding on the 'Category' column\n",
    "data = pd.get_dummies(data, columns=['general_construction'], prefix='construction')"
   ]
  },
  {
   "cell_type": "code",
   "execution_count": 1525,
   "metadata": {},
   "outputs": [],
   "source": [
    "# # Perform one-hot encoding on the 'Category' column\n",
    "# df_encoded = pd.get_dummies(df_encoded, columns=['parcel_shape'], prefix='parcel')"
   ]
  },
  {
   "cell_type": "code",
   "execution_count": 1526,
   "metadata": {},
   "outputs": [],
   "source": [
    "# # Perform one-hot encoding on the 'Category' column\n",
    "# df_encoded = pd.get_dummies(df_encoded, columns=['separate_utilities'], prefix='separate_utilites')"
   ]
  },
  {
   "cell_type": "code",
   "execution_count": 1527,
   "metadata": {},
   "outputs": [],
   "source": [
    "# # Perform one-hot encoding on the 'Category' column\n",
    "# df_encoded = pd.get_dummies(df_encoded, columns=['suffix'], prefix='suffix')"
   ]
  },
  {
   "cell_type": "code",
   "execution_count": 1528,
   "metadata": {},
   "outputs": [],
   "source": [
    "# # Perform one-hot encoding on the 'Category' column\n",
    "# df_encoded = pd.get_dummies(df_encoded, columns=['topography'], prefix='topography')"
   ]
  },
  {
   "cell_type": "code",
   "execution_count": 1529,
   "metadata": {},
   "outputs": [],
   "source": [
    "# Perform one-hot encoding on the 'Category' column\n",
    "data = pd.get_dummies(data, columns=['type_heater'], prefix='heater')"
   ]
  },
  {
   "cell_type": "code",
   "execution_count": 1530,
   "metadata": {},
   "outputs": [],
   "source": [
    "# # Perform one-hot encoding on the 'Category' column\n",
    "# df_encoded = pd.get_dummies(df_encoded, columns=['utility'], prefix='utility')"
   ]
  },
  {
   "cell_type": "code",
   "execution_count": 1531,
   "metadata": {},
   "outputs": [],
   "source": [
    "# Perform one-hot encoding on the 'Category' column\n",
    "# df_encoded = pd.get_dummies(df_encoded, columns=['view_type'], prefix='view')"
   ]
  },
  {
   "cell_type": "markdown",
   "metadata": {},
   "source": [
    "# Frequency Encoding"
   ]
  },
  {
   "cell_type": "code",
   "execution_count": 1532,
   "metadata": {},
   "outputs": [],
   "source": [
    "zip_code_counts = data['zip_code'].value_counts()\n",
    "\n",
    "# Map the frequencies to the original 'ZipCode' column\n",
    "data['zip_code'] = data['zip_code'].map(zip_code_counts)"
   ]
  },
  {
   "cell_type": "code",
   "execution_count": 1533,
   "metadata": {},
   "outputs": [],
   "source": [
    "year_counts = data['year_built'].value_counts()\n",
    "\n",
    "# Map the frequencies to the original 'ZipCode' column\n",
    "data['year_built'] = data['year_built'].map(year_counts)"
   ]
  },
  {
   "cell_type": "code",
   "execution_count": 1622,
   "metadata": {},
   "outputs": [
    {
     "name": "stdout",
     "output_type": "stream",
     "text": [
      "market_value           1.000000\n",
      "taxable_land           0.979568\n",
      "taxable_building       0.815605\n",
      "total_livable_area     0.598914\n",
      "exempt_building        0.436827\n",
      "number_stories         0.311470\n",
      "fireplaces             0.302930\n",
      "heater_1               0.251744\n",
      "basement_0             0.220514\n",
      "number_of_bathrooms    0.172300\n",
      "total_area             0.151038\n",
      "construction_2         0.142999\n",
      "garage_spaces          0.140064\n",
      "frontage               0.138953\n",
      "depth                  0.117252\n",
      "construction_4         0.081927\n",
      "basement_11            0.079269\n",
      "construction_8         0.076966\n",
      "basement_4             0.074529\n",
      "construction_6         0.072306\n",
      "heater_4               0.070202\n",
      "basement_2             0.064429\n",
      "homestead_exemption    0.063869\n",
      "basement_1             0.044098\n",
      "construction_10        0.043113\n",
      "construction_5         0.041856\n",
      "basement_12            0.037034\n",
      "basement_8             0.036529\n",
      "construction_7         0.022960\n",
      "construction_9         0.022124\n",
      "heater_3               0.019094\n",
      "construction_1         0.015478\n",
      "heater_2               0.013328\n",
      "heater_5               0.012818\n",
      "construction_3         0.010804\n",
      "off_street_open        0.006984\n",
      "basement_15            0.005624\n",
      "basement_6             0.004412\n",
      "basement_13            0.003952\n",
      "basement_14           -0.000200\n",
      "basement_7            -0.000244\n",
      "heater_0              -0.009871\n",
      "heater_6              -0.012426\n",
      "basement_9            -0.013405\n",
      "basement_5            -0.026500\n",
      "basement_3            -0.032046\n",
      "lng                   -0.051796\n",
      "lat                   -0.054748\n",
      "exempt_land           -0.067769\n",
      "number_of_bedrooms    -0.068293\n",
      "basement_10           -0.149616\n",
      "construction_0        -0.169382\n",
      "year_built            -0.221595\n",
      "heater_7              -0.226933\n",
      "zip_code              -0.300076\n",
      "Name: market_value, dtype: float64\n"
     ]
    }
   ],
   "source": [
    "corr = data.corr()\n",
    "corr.sort_values([\"market_value\"],ascending = False, inplace = True)\n",
    "print(corr.market_value)"
   ]
  },
  {
   "cell_type": "markdown",
   "metadata": {},
   "source": [
    "# Linear Regression Model"
   ]
  },
  {
   "cell_type": "code",
   "execution_count": 1643,
   "metadata": {},
   "outputs": [],
   "source": [
    "X = data.loc[:, data.columns != \"market_value\"]\n",
    "y = data[\"market_value\"]"
   ]
  },
  {
   "cell_type": "code",
   "execution_count": 1644,
   "metadata": {},
   "outputs": [],
   "source": [
    "X_values = StandardScaler().fit_transform(X)"
   ]
  },
  {
   "cell_type": "code",
   "execution_count": 1645,
   "metadata": {},
   "outputs": [],
   "source": [
    "X_train, X_test, y_train, y_test = train_test_split(X_values, y, test_size=0.4, random_state=42)"
   ]
  },
  {
   "cell_type": "code",
   "execution_count": 1612,
   "metadata": {},
   "outputs": [
    {
     "name": "stdout",
     "output_type": "stream",
     "text": [
      "0.6928591961704287\n",
      "[1365.23640264 1222.28728528 1052.90662516  915.34693027  865.45932413\n",
      "  815.41271323  796.38190309  764.30582934  735.7817332   727.64145238\n",
      "  696.58445151  694.77062284  691.82589545  685.62432468  685.36938647\n",
      "  677.32217468  677.19257814  675.18023015  673.16820078  672.00355432\n",
      "  670.42194162  669.97993207  668.37057756  667.26244449  666.38657087\n",
      "  664.67744754  663.64661435]\n"
     ]
    }
   ],
   "source": [
    "print(sum(pca.explained_variance_ratio_))\n",
    "print(pca.singular_values_)"
   ]
  },
  {
   "cell_type": "code",
   "execution_count": 1646,
   "metadata": {},
   "outputs": [],
   "source": [
    "# Create a linear regression model\n",
    "model = LinearRegression()\n",
    "\n",
    "# Train the model on the training data\n",
    "model.fit(X_train, y_train)\n",
    "\n",
    "# Make predictions on the testing data\n",
    "y_pred = model.predict(X_test)"
   ]
  },
  {
   "cell_type": "code",
   "execution_count": 1647,
   "metadata": {},
   "outputs": [
    {
     "name": "stdout",
     "output_type": "stream",
     "text": [
      "4529516043.874015\n"
     ]
    }
   ],
   "source": [
    "mse = mean_squared_error(y_test, y_pred)\n",
    "print(mse)"
   ]
  },
  {
   "cell_type": "code",
   "execution_count": 1648,
   "metadata": {},
   "outputs": [
    {
     "name": "stdout",
     "output_type": "stream",
     "text": [
      "0.8409493077194903\n"
     ]
    }
   ],
   "source": [
    "r2 = r2_score(y_test, y_pred)\n",
    "print(r2)"
   ]
  },
  {
   "cell_type": "code",
   "execution_count": 1558,
   "metadata": {},
   "outputs": [
    {
     "data": {
      "text/plain": [
       "array([ 102600., 1174000.,  477700., ...,   73400.,  137900.,  225600.])"
      ]
     },
     "execution_count": 1558,
     "metadata": {},
     "output_type": "execute_result"
    }
   ],
   "source": []
  }
 ],
 "metadata": {
  "kernelspec": {
   "display_name": "Python 3",
   "language": "python",
   "name": "python3"
  },
  "language_info": {
   "codemirror_mode": {
    "name": "ipython",
    "version": 3
   },
   "file_extension": ".py",
   "mimetype": "text/x-python",
   "name": "python",
   "nbconvert_exporter": "python",
   "pygments_lexer": "ipython3",
   "version": "3.11.1"
  }
 },
 "nbformat": 4,
 "nbformat_minor": 2
}
