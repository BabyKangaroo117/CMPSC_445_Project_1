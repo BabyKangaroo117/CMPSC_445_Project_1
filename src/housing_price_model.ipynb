{
 "cells": [
  {
   "cell_type": "code",
   "execution_count": 301,
   "metadata": {},
   "outputs": [
    {
     "name": "stdout",
     "output_type": "stream",
     "text": [
      "Requirement already satisfied: seaborn in c:\\users\\gympr\\appdata\\local\\programs\\python\\python311\\lib\\site-packages (0.13.2)\n",
      "Requirement already satisfied: numpy!=1.24.0,>=1.20 in c:\\users\\gympr\\appdata\\local\\programs\\python\\python311\\lib\\site-packages (from seaborn) (1.24.2)\n",
      "Requirement already satisfied: pandas>=1.2 in c:\\users\\gympr\\appdata\\local\\programs\\python\\python311\\lib\\site-packages (from seaborn) (1.5.3)\n",
      "Requirement already satisfied: matplotlib!=3.6.1,>=3.4 in c:\\users\\gympr\\appdata\\local\\programs\\python\\python311\\lib\\site-packages (from seaborn) (3.8.1)\n",
      "Requirement already satisfied: contourpy>=1.0.1 in c:\\users\\gympr\\appdata\\local\\programs\\python\\python311\\lib\\site-packages (from matplotlib!=3.6.1,>=3.4->seaborn) (1.2.0)\n",
      "Requirement already satisfied: cycler>=0.10 in c:\\users\\gympr\\appdata\\local\\programs\\python\\python311\\lib\\site-packages (from matplotlib!=3.6.1,>=3.4->seaborn) (0.12.1)\n",
      "Requirement already satisfied: fonttools>=4.22.0 in c:\\users\\gympr\\appdata\\local\\programs\\python\\python311\\lib\\site-packages (from matplotlib!=3.6.1,>=3.4->seaborn) (4.44.0)\n",
      "Requirement already satisfied: kiwisolver>=1.3.1 in c:\\users\\gympr\\appdata\\local\\programs\\python\\python311\\lib\\site-packages (from matplotlib!=3.6.1,>=3.4->seaborn) (1.4.5)\n",
      "Requirement already satisfied: packaging>=20.0 in c:\\users\\gympr\\appdata\\local\\programs\\python\\python311\\lib\\site-packages (from matplotlib!=3.6.1,>=3.4->seaborn) (23.2)\n",
      "Requirement already satisfied: pillow>=8 in c:\\users\\gympr\\appdata\\local\\programs\\python\\python311\\lib\\site-packages (from matplotlib!=3.6.1,>=3.4->seaborn) (10.1.0)\n",
      "Requirement already satisfied: pyparsing>=2.3.1 in c:\\users\\gympr\\appdata\\local\\programs\\python\\python311\\lib\\site-packages (from matplotlib!=3.6.1,>=3.4->seaborn) (3.1.1)\n",
      "Requirement already satisfied: python-dateutil>=2.7 in c:\\users\\gympr\\appdata\\local\\programs\\python\\python311\\lib\\site-packages (from matplotlib!=3.6.1,>=3.4->seaborn) (2.8.2)\n",
      "Requirement already satisfied: pytz>=2020.1 in c:\\users\\gympr\\appdata\\local\\programs\\python\\python311\\lib\\site-packages (from pandas>=1.2->seaborn) (2022.7.1)\n",
      "Requirement already satisfied: six>=1.5 in c:\\users\\gympr\\appdata\\local\\programs\\python\\python311\\lib\\site-packages (from python-dateutil>=2.7->matplotlib!=3.6.1,>=3.4->seaborn) (1.16.0)\n",
      "Note: you may need to restart the kernel to use updated packages.\n"
     ]
    },
    {
     "name": "stderr",
     "output_type": "stream",
     "text": [
      "\n",
      "[notice] A new release of pip is available: 23.3.1 -> 24.0\n",
      "[notice] To update, run: python.exe -m pip install --upgrade pip\n"
     ]
    }
   ],
   "source": [
    "%pip install seaborn"
   ]
  },
  {
   "cell_type": "code",
   "execution_count": 302,
   "metadata": {},
   "outputs": [],
   "source": [
    "import pandas as pd\n",
    "import numpy as np\n",
    "import matplotlib.pyplot as plt\n",
    "import seaborn as sns # for making prettier plots!\n",
    "import regex as re"
   ]
  },
  {
   "cell_type": "code",
   "execution_count": 303,
   "metadata": {},
   "outputs": [],
   "source": [
    "data = pd.read_csv(\"../housing_data/opa_properties_public.csv\", low_memory=False)"
   ]
  },
  {
   "cell_type": "code",
   "execution_count": 304,
   "metadata": {},
   "outputs": [],
   "source": [
    "data_copy = data"
   ]
  },
  {
   "cell_type": "code",
   "execution_count": 305,
   "metadata": {},
   "outputs": [],
   "source": [
    "data = data_copy"
   ]
  },
  {
   "cell_type": "code",
   "execution_count": 306,
   "metadata": {},
   "outputs": [
    {
     "data": {
      "text/plain": [
       "(582933, 82)"
      ]
     },
     "execution_count": 306,
     "metadata": {},
     "output_type": "execute_result"
    }
   ],
   "source": [
    "data.shape"
   ]
  },
  {
   "cell_type": "code",
   "execution_count": 307,
   "metadata": {},
   "outputs": [
    {
     "data": {
      "text/plain": [
       "Index(['the_geom', 'the_geom_webmercator', 'assessment_date', 'basements',\n",
       "       'beginning_point', 'book_and_page', 'building_code',\n",
       "       'building_code_description', 'category_code',\n",
       "       'category_code_description', 'census_tract', 'central_air',\n",
       "       'cross_reference', 'date_exterior_condition', 'depth',\n",
       "       'exempt_building', 'exempt_land', 'exterior_condition', 'fireplaces',\n",
       "       'frontage', 'fuel', 'garage_spaces', 'garage_type',\n",
       "       'general_construction', 'geographic_ward', 'homestead_exemption',\n",
       "       'house_extension', 'house_number', 'interior_condition', 'location',\n",
       "       'mailing_address_1', 'mailing_address_2', 'mailing_care_of',\n",
       "       'mailing_city_state', 'mailing_street', 'mailing_zip', 'market_value',\n",
       "       'market_value_date', 'number_of_bathrooms', 'number_of_bedrooms',\n",
       "       'number_of_rooms', 'number_stories', 'off_street_open',\n",
       "       'other_building', 'owner_1', 'owner_2', 'parcel_number', 'parcel_shape',\n",
       "       'quality_grade', 'recording_date', 'registry_number', 'sale_date',\n",
       "       'sale_price', 'separate_utilities', 'sewer', 'site_type', 'state_code',\n",
       "       'street_code', 'street_designation', 'street_direction', 'street_name',\n",
       "       'suffix', 'taxable_building', 'taxable_land', 'topography',\n",
       "       'total_area', 'total_livable_area', 'type_heater', 'unfinished', 'unit',\n",
       "       'utility', 'view_type', 'year_built', 'year_built_estimate', 'zip_code',\n",
       "       'zoning', 'pin', 'building_code_new', 'building_code_description_new',\n",
       "       'objectid', 'lat', 'lng'],\n",
       "      dtype='object')"
      ]
     },
     "execution_count": 307,
     "metadata": {},
     "output_type": "execute_result"
    }
   ],
   "source": [
    "data.columns"
   ]
  },
  {
   "cell_type": "code",
   "execution_count": 308,
   "metadata": {},
   "outputs": [],
   "source": [
    "# The following columns were deemed to not impact the model based on the data they provide. Many of the columns were missing data and most of the categorical columns have no correlations\n",
    "drop_column_list = ['the_geom', 'assessment_date','beginning_point', 'book_and_page', 'category_code_description', 'cross_reference', 'house_number','location', 'mailing_address_1', 'mailing_address_2', \n",
    "                    'mailing_care_of', 'mailing_city_state', 'mailing_street', 'market_value_date','the_geom_webmercator','other_building','owner_1', 'owner_2', 'parcel_number', 'recording_date', \n",
    "                    'sale_date', 'registry_number', 'sale_price', 'unit', 'objectid','building_code', 'census_tract', 'date_exterior_condition', 'year_built_estimate', 'house_extension', 'mailing_zip', \n",
    "                    'sewer', 'site_type','state_code', 'street_designation', 'street_name', 'street_direction', 'geographic_ward', 'quality_grade']\n",
    "\n",
    "data = data.drop(drop_column_list, axis = 1)"
   ]
  },
  {
   "cell_type": "code",
   "execution_count": 309,
   "metadata": {},
   "outputs": [],
   "source": [
    "# Drop empty rows\n",
    "data = data.dropna(subset=[\"market_value\"])"
   ]
  },
  {
   "cell_type": "code",
   "execution_count": 310,
   "metadata": {},
   "outputs": [
    {
     "data": {
      "text/plain": [
       "False"
      ]
     },
     "execution_count": 310,
     "metadata": {},
     "output_type": "execute_result"
    }
   ],
   "source": [
    "# Check if there are still null rows\n",
    "data.market_value.isnull().any()"
   ]
  },
  {
   "cell_type": "code",
   "execution_count": 311,
   "metadata": {},
   "outputs": [
    {
     "data": {
      "text/plain": [
       "(582913, 43)"
      ]
     },
     "execution_count": 311,
     "metadata": {},
     "output_type": "execute_result"
    }
   ],
   "source": [
    "data.shape"
   ]
  },
  {
   "cell_type": "code",
   "execution_count": 312,
   "metadata": {},
   "outputs": [],
   "source": [
    "# Drop rows that have a market value of 0\n",
    "data = data.drop(data[data.market_value == 0].index)"
   ]
  },
  {
   "cell_type": "code",
   "execution_count": 313,
   "metadata": {},
   "outputs": [
    {
     "data": {
      "text/plain": [
       "Text(0.5, 0, 'Number of Missing values')"
      ]
     },
     "execution_count": 313,
     "metadata": {},
     "output_type": "execute_result"
    },
    {
     "data": {
      "image/png": "[encoded data removed]",
      "text/plain": [
       "<Figure size 640x480 with 1 Axes>"
      ]
     },
     "metadata": {},
     "output_type": "display_data"
    }
   ],
   "source": [
    "# Visualize missing values in columns\n",
    "missing = data.isnull().sum()\n",
    "missing = missing[missing >= 100]\n",
    "missing.sort_values(inplace=True)\n",
    "missing.plot.barh()\n",
    "plt.title(\"Features with missing values (nan’s) > 100\")\n",
    "plt.ylabel(\"Features\")\n",
    "plt.xlabel(\"Number of Missing values\")"
   ]
  },
  {
   "cell_type": "markdown",
   "metadata": {},
   "source": [
    "-------------------------------------------------------------------------------------------------------------------------------------------------------------------------------------------------------------\n",
    "# Fill in null data"
   ]
  },
  {
   "cell_type": "markdown",
   "metadata": {},
   "source": [
    "#### Numerical Data\n",
    "- Category Code\n",
    "- Depth\n",
    "- Longitude\n",
    "- Latitude\n",
    "- Zipcode\n",
    "- Exterior Condition\n",
    "- Fireplaces\n",
    "- Number of Stories\n",
    "- Number of bathrooms\n",
    "- Number of bedrooms\n",
    "- Number of rooms\n",
    "\n",
    "#### Categorical\n",
    "- Basements\n",
    "- Central Air\n",
    "- Fuel\n",
    "- Garage Type\n",
    "- General Construction\n",
    "- Parcel Shape\n",
    "- Separate Utilities\n",
    "- Suffix\n",
    "- Topography\n",
    "- Heater\n",
    "- Utility\n",
    "- View Type"
   ]
  },
  {
   "cell_type": "markdown",
   "metadata": {},
   "source": [
    "-------------------------------------------------------------------------------------------------------------------------------------------------------------------------------------------------------------\n"
   ]
  },
  {
   "cell_type": "markdown",
   "metadata": {},
   "source": [
    "### Category Code"
   ]
  },
  {
   "cell_type": "markdown",
   "metadata": {},
   "source": [
    "- Code value: 1 = Single Family\n",
    "- Code value: 2 = Multi Family\n",
    "- Code value: 3 = Mixed Use\n",
    "- Code value: 4 = Commercial\n",
    "- Code value: 5 = Industrial\n",
    "- Code value: 6 = Vacant Land"
   ]
  },
  {
   "cell_type": "code",
   "execution_count": 314,
   "metadata": {},
   "outputs": [
    {
     "data": {
      "text/plain": [
       "1     463162\n",
       "6      42106\n",
       "2      40743\n",
       "3      14300\n",
       "4      12836\n",
       "5       4165\n",
       "14      2813\n",
       "10       840\n",
       "13       834\n",
       "8        507\n",
       "9        129\n",
       "12       119\n",
       "7         97\n",
       "15        27\n",
       "11        19\n",
       "16        13\n",
       "Name: category_code, dtype: int64"
      ]
     },
     "execution_count": 314,
     "metadata": {},
     "output_type": "execute_result"
    }
   ],
   "source": [
    "data.category_code.value_counts(dropna=False)"
   ]
  },
  {
   "cell_type": "code",
   "execution_count": 315,
   "metadata": {},
   "outputs": [],
   "source": [
    "# Create a mask to drop rows\n",
    "values_to_drop = [num for num in range(4, 17)]\n",
    "mask_category_code = data[\"category_code\"].isin(values_to_drop)\n",
    "data = data.loc[~mask_category_code]"
   ]
  },
  {
   "cell_type": "code",
   "execution_count": 316,
   "metadata": {},
   "outputs": [
    {
     "data": {
      "text/plain": [
       "1    463162\n",
       "2     40743\n",
       "3     14300\n",
       "Name: category_code, dtype: int64"
      ]
     },
     "execution_count": 316,
     "metadata": {},
     "output_type": "execute_result"
    }
   ],
   "source": [
    "# Code value: 1 = Single Family\n",
    "# Code value: 2 = Multi Family\n",
    "# Code value: 3 = Mixed Use\n",
    "data.category_code.value_counts(dropna=False)"
   ]
  },
  {
   "cell_type": "code",
   "execution_count": 317,
   "metadata": {},
   "outputs": [
    {
     "data": {
      "text/plain": [
       "(518205, 43)"
      ]
     },
     "execution_count": 317,
     "metadata": {},
     "output_type": "execute_result"
    }
   ],
   "source": [
    "data.shape"
   ]
  },
  {
   "cell_type": "markdown",
   "metadata": {},
   "source": [
    "### Depth"
   ]
  },
  {
   "cell_type": "code",
   "execution_count": 318,
   "metadata": {},
   "outputs": [
    {
     "data": {
      "text/plain": [
       "100.0    33325\n",
       "0.0      31453\n",
       "90.0     20033\n",
       "70.0     15828\n",
       "60.0     15223\n",
       "         ...  \n",
       "504.0        1\n",
       "336.0        1\n",
       "557.0        1\n",
       "596.0        1\n",
       "488.0        1\n",
       "Name: depth, Length: 638, dtype: int64"
      ]
     },
     "execution_count": 318,
     "metadata": {},
     "output_type": "execute_result"
    }
   ],
   "source": [
    "data.depth.value_counts(dropna=False)"
   ]
  },
  {
   "cell_type": "code",
   "execution_count": 319,
   "metadata": {},
   "outputs": [],
   "source": [
    "# Delete rows that have a depth of 0\n",
    "data = data.drop(data[data.depth == 0].index)\n",
    "data = data.dropna(subset=[\"depth\"])"
   ]
  },
  {
   "cell_type": "code",
   "execution_count": 320,
   "metadata": {},
   "outputs": [
    {
     "data": {
      "text/plain": [
       "(483630, 43)"
      ]
     },
     "execution_count": 320,
     "metadata": {},
     "output_type": "execute_result"
    }
   ],
   "source": [
    "data.shape"
   ]
  },
  {
   "cell_type": "markdown",
   "metadata": {},
   "source": [
    "### Longitude"
   ]
  },
  {
   "cell_type": "code",
   "execution_count": 321,
   "metadata": {},
   "outputs": [],
   "source": [
    "# Replace empty longitude values with the mean\n",
    "data[\"lng\"] = data.lng.fillna(data.lng.mean())"
   ]
  },
  {
   "cell_type": "code",
   "execution_count": 322,
   "metadata": {},
   "outputs": [],
   "source": [
    "# Convert the longitude values to be positive for machine learning purposes\n",
    "data.loc[:, \"lng\"] = data['lng'].abs()"
   ]
  },
  {
   "cell_type": "markdown",
   "metadata": {},
   "source": [
    "### Latitude\n"
   ]
  },
  {
   "cell_type": "code",
   "execution_count": 323,
   "metadata": {},
   "outputs": [],
   "source": [
    "# Replace empty latitude values with the mean\n",
    "data[\"lat\"] = data.lat.fillna(data.lat.mean())"
   ]
  },
  {
   "cell_type": "code",
   "execution_count": 324,
   "metadata": {},
   "outputs": [],
   "source": [
    "# Convert the latitude values to be positive for machine learning purposes\n",
    "data.loc[:, \"lat\"] = data['lat'].abs()"
   ]
  },
  {
   "cell_type": "code",
   "execution_count": 325,
   "metadata": {},
   "outputs": [
    {
     "data": {
      "text/plain": [
       "(483630, 43)"
      ]
     },
     "execution_count": 325,
     "metadata": {},
     "output_type": "execute_result"
    }
   ],
   "source": [
    "data.shape"
   ]
  },
  {
   "cell_type": "markdown",
   "metadata": {},
   "source": [
    "### Basements"
   ]
  },
  {
   "cell_type": "markdown",
   "metadata": {},
   "source": [
    "- [NOTE: REPLACING 'NaN' WITH 'K'] \n",
    "- 0 = No Basement [NOTE: REPLACING '0' WITH 'L']\n",
    "- D = Full – Unknown Finish\n",
    "- F = Partial - Semi-Finished \n",
    "- H = Partial - Unknown Finish\n",
    "- C = Full - Unfinished\n",
    "- A = Full - Finished \n",
    "- J = Unknown Size - Unfinished\n",
    "- E = Partial - Finished \n",
    "- I = Unknown Size - Finished \n",
    "- G = Partial - Unfinished\n",
    "- B = Full - Semi-Finished\n",
    "\n",
    "- 1 = ? Replace with M\n",
    "- 2 = ? Replace with N\n",
    "- 3 = ? Replace with O\n",
    "- 4 = ? Replace with P"
   ]
  },
  {
   "cell_type": "code",
   "execution_count": 326,
   "metadata": {},
   "outputs": [
    {
     "data": {
      "text/plain": [
       "NaN    157326\n",
       "D      107751\n",
       "F       64119\n",
       "H       57380\n",
       "C       33954\n",
       "A       27565\n",
       "E        9951\n",
       "0        7922\n",
       "J        7551\n",
       "G        4352\n",
       "B        3113\n",
       "I        2042\n",
       "1         488\n",
       "4          91\n",
       "2          20\n",
       "3           5\n",
       "Name: basements, dtype: int64"
      ]
     },
     "execution_count": 326,
     "metadata": {},
     "output_type": "execute_result"
    }
   ],
   "source": [
    "data.basements.value_counts(dropna=False)\n"
   ]
  },
  {
   "cell_type": "code",
   "execution_count": 327,
   "metadata": {},
   "outputs": [],
   "source": [
    "data.loc[:, \"basements\"] = data.loc[:, \"basements\"].fillna('K')\n",
    "replacement_dict = {'0': 'L', '1': 'M', '2': 'N', '3': 'O', '4': 'P'}\n",
    "data['basements'] = data['basements'].replace(replacement_dict, regex=True)"
   ]
  },
  {
   "cell_type": "markdown",
   "metadata": {},
   "source": [
    "### Central Air"
   ]
  },
  {
   "cell_type": "code",
   "execution_count": 328,
   "metadata": {},
   "outputs": [
    {
     "data": {
      "text/plain": [
       "NaN    214517\n",
       "N      163214\n",
       "Y      104682\n",
       "0        1078\n",
       "1         139\n",
       "Name: central_air, dtype: int64"
      ]
     },
     "execution_count": 328,
     "metadata": {},
     "output_type": "execute_result"
    }
   ],
   "source": [
    "data.central_air.value_counts(dropna=False)"
   ]
  },
  {
   "cell_type": "code",
   "execution_count": 329,
   "metadata": {},
   "outputs": [],
   "source": [
    "# Replacing '0' with 'N' (i.e. NO Central Air)\n",
    "data.loc[:, \"central_air\"] = data['central_air'].replace('0', 'N')\n",
    "# Replacing the \"NaNs\" with 'N'\n",
    "data.loc[:, \"central_air\"] = data['central_air'].fillna('N')\n",
    "# Replacing '1' with 'Y' (i.e. Central Air)\n",
    "data.loc[:, \"central_air\"] = data['central_air'].replace('1', 'N')"
   ]
  },
  {
   "cell_type": "markdown",
   "metadata": {},
   "source": [
    "### Exterior Condition"
   ]
  },
  {
   "cell_type": "markdown",
   "metadata": {},
   "source": [
    "- 4.0 Average\n",
    "- 3.0 Above Average\n",
    "- 5.0 Below Average\n",
    "- 2.0 Newer Construction / Rehabbed\n",
    "- 7.0 Sealed / Structurally Compromised\n",
    "- 6.0 Vacant\n",
    "- 0.0 Not Applicable"
   ]
  },
  {
   "cell_type": "code",
   "execution_count": 330,
   "metadata": {},
   "outputs": [
    {
     "data": {
      "text/plain": [
       "4.0    371682\n",
       "3.0     40275\n",
       "5.0     24236\n",
       "NaN     17139\n",
       "1.0     12216\n",
       "2.0     11914\n",
       "7.0      3454\n",
       "6.0      2658\n",
       "0.0        56\n",
       "Name: exterior_condition, dtype: int64"
      ]
     },
     "execution_count": 330,
     "metadata": {},
     "output_type": "execute_result"
    }
   ],
   "source": [
    "data.exterior_condition.value_counts(dropna=False)"
   ]
  },
  {
   "cell_type": "code",
   "execution_count": 331,
   "metadata": {},
   "outputs": [],
   "source": [
    "# Fill in nan with not applicable (0.0)\n",
    "data.loc[:, \"exterior_condition\"] = data.loc[:, \"exterior_condition\"].fillna(0.0)"
   ]
  },
  {
   "cell_type": "markdown",
   "metadata": {},
   "source": [
    "### Fuel Heating"
   ]
  },
  {
   "cell_type": "markdown",
   "metadata": {},
   "source": [
    "- A = Natural Gas\n",
    "- C = Electric\n",
    "- B = Oil heat\n",
    "- E = Solar\n",
    "- G = Other \n",
    "- H = None"
   ]
  },
  {
   "cell_type": "code",
   "execution_count": 332,
   "metadata": {},
   "outputs": [
    {
     "data": {
      "text/plain": [
       "NaN    439885\n",
       "A       42484\n",
       "C         837\n",
       "B         347\n",
       "G          44\n",
       "E          16\n",
       "H          11\n",
       "I           6\n",
       "Name: fuel, dtype: int64"
      ]
     },
     "execution_count": 332,
     "metadata": {},
     "output_type": "execute_result"
    }
   ],
   "source": [
    "data.fuel.value_counts(dropna=False)"
   ]
  },
  {
   "cell_type": "code",
   "execution_count": 333,
   "metadata": {},
   "outputs": [],
   "source": [
    "# Replace Nan with other (G)\n",
    "data.loc[:, \"fuel\"] = data.loc[:, \"fuel\"].fillna('G')"
   ]
  },
  {
   "cell_type": "markdown",
   "metadata": {},
   "source": [
    "### Garage Type"
   ]
  },
  {
   "cell_type": "code",
   "execution_count": 334,
   "metadata": {},
   "outputs": [
    {
     "data": {
      "text/plain": [
       "NaN    465252\n",
       "3.0      8161\n",
       "0.0      5109\n",
       "1.0      3725\n",
       "2.0      1383\n",
       "Name: garage_type, dtype: int64"
      ]
     },
     "execution_count": 334,
     "metadata": {},
     "output_type": "execute_result"
    }
   ],
   "source": [
    "data.garage_type.value_counts(dropna=False)"
   ]
  },
  {
   "cell_type": "code",
   "execution_count": 335,
   "metadata": {},
   "outputs": [],
   "source": [
    "# Replace Nan with no garage (0.0)\n",
    "data.loc[:, \"garage_type\"] = data.loc[:, \"garage_type\"].fillna(0.0)"
   ]
  },
  {
   "cell_type": "markdown",
   "metadata": {},
   "source": [
    "### General Construction"
   ]
  },
  {
   "cell_type": "markdown",
   "metadata": {},
   "source": [
    "- A = Common brick \n",
    "- B = Brick and Siding \n",
    "- E = Stone \n",
    "- C = Frame and siding \n",
    "- F = Stucco/Cement \n",
    "- G = Other/Mix \n",
    "- H = Brick and stucco \n",
    "- J = Stone/stucco \n",
    "- I = Stucco and siding \n",
    "- D = Frame and shingle "
   ]
  },
  {
   "cell_type": "code",
   "execution_count": 336,
   "metadata": {},
   "outputs": [
    {
     "data": {
      "text/plain": [
       "A      406305\n",
       "B       32083\n",
       "C       10964\n",
       "E       10930\n",
       "F        7258\n",
       "NaN      4960\n",
       "H        4712\n",
       "G        1877\n",
       "J        1712\n",
       "I        1141\n",
       "3        1014\n",
       "1         284\n",
       "D         251\n",
       "5          99\n",
       "6          27\n",
       "9          11\n",
       "8           1\n",
       "4           1\n",
       "Name: general_construction, dtype: int64"
      ]
     },
     "execution_count": 336,
     "metadata": {},
     "output_type": "execute_result"
    }
   ],
   "source": [
    "data.general_construction.value_counts(dropna=False)"
   ]
  },
  {
   "cell_type": "code",
   "execution_count": 337,
   "metadata": {},
   "outputs": [
    {
     "data": {
      "text/plain": [
       "array(['A ', 'E ', nan, 'B ', 'G ', '1 ', 'F ', 'C ', 'I ', 'H ', 'J ',\n",
       "       'D ', '3 ', '5 ', '6 ', '9 ', '8 ', '4 '], dtype=object)"
      ]
     },
     "execution_count": 337,
     "metadata": {},
     "output_type": "execute_result"
    }
   ],
   "source": [
    "data[\"general_construction\"].unique()"
   ]
  },
  {
   "cell_type": "code",
   "execution_count": 338,
   "metadata": {},
   "outputs": [],
   "source": [
    "# Replace Nan with other (G)\n",
    "data.loc[:, \"general_construction\"] = data.loc[:, \"general_construction\"].fillna(\"G\")\n",
    "# Replace number with numerical counter part (not sure if this is correct)\n",
    "replacement_dict = {'1 ': 'A ', '3 ': 'C ', '4 ': 'D ', '5 ': 'E ', '6 ': 'F ', '8 ': 'H ', '9 ': 'I '}\n",
    "data.loc[:, \"general_construction\"] = data[\"general_construction\"].replace(replacement_dict)"
   ]
  },
  {
   "cell_type": "markdown",
   "metadata": {},
   "source": [
    "### Parcel Shape"
   ]
  },
  {
   "cell_type": "markdown",
   "metadata": {},
   "source": [
    "- E = Rectangular\n",
    "- A = Other than a square, rectangular or triangle \n",
    "- B = Curves, narrow portions, long access driveways \n",
    "- C = Triangular \n",
    "- F = NaN \n",
    "- D = Long and narrow"
   ]
  },
  {
   "cell_type": "code",
   "execution_count": 339,
   "metadata": {},
   "outputs": [
    {
     "data": {
      "text/plain": [
       "E      446554\n",
       "A       31971\n",
       "B        4202\n",
       "C         837\n",
       "D          48\n",
       "NaN        18\n",
       "Name: parcel_shape, dtype: int64"
      ]
     },
     "execution_count": 339,
     "metadata": {},
     "output_type": "execute_result"
    }
   ],
   "source": [
    "data.parcel_shape.value_counts(dropna=False)"
   ]
  },
  {
   "cell_type": "code",
   "execution_count": 340,
   "metadata": {},
   "outputs": [],
   "source": [
    "# Replacing the \"NaN's\" with 'F'\n",
    "data.loc[:, \"parcel_shape\"] = data['parcel_shape'].fillna('F')"
   ]
  },
  {
   "cell_type": "markdown",
   "metadata": {},
   "source": [
    "### Seperate Utilities"
   ]
  },
  {
   "cell_type": "markdown",
   "metadata": {},
   "source": [
    "- D = Non 2 to 4 apartments\n",
    "- B = Part Separate\n",
    "- A = Central (heater, hot water tank, electrical, gas)\n",
    "- C = All seperate (except water)"
   ]
  },
  {
   "cell_type": "code",
   "execution_count": 341,
   "metadata": {},
   "outputs": [
    {
     "data": {
      "text/plain": [
       "NaN    460218\n",
       "B       10478\n",
       "A        8826\n",
       "C        4108\n",
       "Name: separate_utilities, dtype: int64"
      ]
     },
     "execution_count": 341,
     "metadata": {},
     "output_type": "execute_result"
    }
   ],
   "source": [
    "data.separate_utilities.value_counts(dropna=False)"
   ]
  },
  {
   "cell_type": "code",
   "execution_count": 342,
   "metadata": {},
   "outputs": [],
   "source": [
    "data.loc[:, \"separate_utilities\"] = data['separate_utilities'].fillna('D')"
   ]
  },
  {
   "cell_type": "markdown",
   "metadata": {},
   "source": [
    "### Suffix"
   ]
  },
  {
   "cell_type": "markdown",
   "metadata": {},
   "source": [
    "- NaN [Replacing NaN’s with N — No suffix needed/provided]\n",
    "- 2      [Replacing 2 with H (half an address)]\n",
    "- R      to indicate Rear in address\n",
    "- A      to indicate Air Rights\n",
    "- L      Leasehold\n",
    "- E      "
   ]
  },
  {
   "cell_type": "code",
   "execution_count": 343,
   "metadata": {},
   "outputs": [
    {
     "data": {
      "text/plain": [
       "NaN    482825\n",
       "2         383\n",
       "R         372\n",
       "A          48\n",
       "L           2\n",
       "Name: suffix, dtype: int64"
      ]
     },
     "execution_count": 343,
     "metadata": {},
     "output_type": "execute_result"
    }
   ],
   "source": [
    "data.suffix.value_counts(dropna=False)"
   ]
  },
  {
   "cell_type": "code",
   "execution_count": 344,
   "metadata": {},
   "outputs": [
    {
     "data": {
      "text/plain": [
       "array([nan, '2', 'R', 'L', 'A'], dtype=object)"
      ]
     },
     "execution_count": 344,
     "metadata": {},
     "output_type": "execute_result"
    }
   ],
   "source": [
    "data[\"suffix\"].unique()"
   ]
  },
  {
   "cell_type": "code",
   "execution_count": 345,
   "metadata": {},
   "outputs": [],
   "source": [
    "data.loc[:, \"suffix\"] = data[\"suffix\"].fillna('N')\n",
    "data.loc[:, \"suffix\"] = data[\"suffix\"].replace('2','H')"
   ]
  },
  {
   "cell_type": "markdown",
   "metadata": {},
   "source": [
    "### Topography"
   ]
  },
  {
   "cell_type": "markdown",
   "metadata": {},
   "source": [
    "- F = Street level \n",
    "- A = Above Street Level \n",
    "- E = Other and NaN’s \n",
    "- B = Below Street Level \n",
    "- C = Flood Plain \n",
    "- D = Rocky "
   ]
  },
  {
   "cell_type": "code",
   "execution_count": 346,
   "metadata": {},
   "outputs": [
    {
     "data": {
      "text/plain": [
       "F      444991\n",
       "A       28305\n",
       "NaN      5338\n",
       "E        4509\n",
       "B         231\n",
       "C         152\n",
       "D         104\n",
       "Name: topography, dtype: int64"
      ]
     },
     "execution_count": 346,
     "metadata": {},
     "output_type": "execute_result"
    }
   ],
   "source": [
    "data.topography.value_counts(dropna=False)"
   ]
  },
  {
   "cell_type": "code",
   "execution_count": 347,
   "metadata": {},
   "outputs": [],
   "source": [
    "data.loc[:, \"topography\"] = data[\"topography\"].fillna('E')"
   ]
  },
  {
   "cell_type": "markdown",
   "metadata": {},
   "source": [
    "### Heater"
   ]
  },
  {
   "cell_type": "markdown",
   "metadata": {},
   "source": [
    "- H = Undetermined and NaNs \n",
    "- A = Hot air (ducts) \n",
    "- B = Hot water (radiators or baseboards) \n",
    "- G = Radiant \n",
    "- N = None \n",
    "- C = Electric baseboard \n",
    "- E = Other \n",
    "- D = Outside heat pump "
   ]
  },
  {
   "cell_type": "code",
   "execution_count": 348,
   "metadata": {},
   "outputs": [
    {
     "data": {
      "text/plain": [
       "NaN    196183\n",
       "H      113768\n",
       "A      103654\n",
       "B       59669\n",
       "G        6475\n",
       "0        1651\n",
       "C        1278\n",
       "E         550\n",
       "D         402\n",
       "Name: type_heater, dtype: int64"
      ]
     },
     "execution_count": 348,
     "metadata": {},
     "output_type": "execute_result"
    }
   ],
   "source": [
    "data.type_heater.value_counts(dropna=False)"
   ]
  },
  {
   "cell_type": "code",
   "execution_count": 349,
   "metadata": {},
   "outputs": [],
   "source": [
    "data.loc[:, \"type_heater\"] = data[\"type_heater\"].fillna('H')"
   ]
  },
  {
   "cell_type": "markdown",
   "metadata": {},
   "source": [
    "### Utility"
   ]
  },
  {
   "cell_type": "markdown",
   "metadata": {},
   "source": [
    "A = None and NaNs \n",
    "\n",
    "B = Modernized \n",
    "\n",
    "D = Modernized and remodeled \n",
    "\n",
    "C = Remodeled (relates to design and floor plan) "
   ]
  },
  {
   "cell_type": "code",
   "execution_count": 350,
   "metadata": {},
   "outputs": [
    {
     "data": {
      "text/plain": [
       "NaN    483630\n",
       "Name: utility, dtype: int64"
      ]
     },
     "execution_count": 350,
     "metadata": {},
     "output_type": "execute_result"
    }
   ],
   "source": [
    "data.utility.value_counts(dropna=False)"
   ]
  },
  {
   "cell_type": "markdown",
   "metadata": {},
   "source": [
    "### View Type"
   ]
  },
  {
   "cell_type": "code",
   "execution_count": 351,
   "metadata": {},
   "outputs": [
    {
     "data": {
      "text/plain": [
       "I      454497\n",
       "A       10307\n",
       "C        5037\n",
       "D        3462\n",
       "0        3305\n",
       "H        2665\n",
       "NaN      2261\n",
       "E        1933\n",
       "B         163\n",
       "Name: view_type, dtype: int64"
      ]
     },
     "execution_count": 351,
     "metadata": {},
     "output_type": "execute_result"
    }
   ],
   "source": [
    "data.view_type.value_counts(dropna=False)"
   ]
  },
  {
   "cell_type": "code",
   "execution_count": 352,
   "metadata": {},
   "outputs": [],
   "source": [
    "data.loc[:, \"view_type\"] = data[\"view_type\"].fillna('N')"
   ]
  },
  {
   "cell_type": "markdown",
   "metadata": {},
   "source": [
    "### Fireplaces"
   ]
  },
  {
   "cell_type": "code",
   "execution_count": 369,
   "metadata": {},
   "outputs": [
    {
     "data": {
      "text/plain": [
       "0.0     459905\n",
       "1.0      10039\n",
       "2.0       1198\n",
       "3.0        407\n",
       "5.0        142\n",
       "4.0         86\n",
       "10.0         1\n",
       "Name: fireplaces, dtype: int64"
      ]
     },
     "execution_count": 369,
     "metadata": {},
     "output_type": "execute_result"
    }
   ],
   "source": [
    "data.fireplaces.value_counts(dropna=False)"
   ]
  },
  {
   "cell_type": "code",
   "execution_count": 354,
   "metadata": {},
   "outputs": [],
   "source": [
    "data.loc[:, \"fireplaces\"] = data[\"fireplaces\"].fillna(0.0)"
   ]
  },
  {
   "cell_type": "markdown",
   "metadata": {},
   "source": [
    "### Number Stories"
   ]
  },
  {
   "cell_type": "code",
   "execution_count": 372,
   "metadata": {},
   "outputs": [
    {
     "data": {
      "text/plain": [
       "2.0    337287\n",
       "1.0     59234\n",
       "3.0     57980\n",
       "0.0     16236\n",
       "4.0      1024\n",
       "5.0        10\n",
       "6.0         6\n",
       "Name: number_stories, dtype: int64"
      ]
     },
     "execution_count": 372,
     "metadata": {},
     "output_type": "execute_result"
    }
   ],
   "source": [
    "data.number_stories.value_counts(dropna=False)"
   ]
  },
  {
   "cell_type": "code",
   "execution_count": 356,
   "metadata": {},
   "outputs": [
    {
     "data": {
      "text/plain": [
       "array([nan,  1.,  2.,  3.,  4.,  0.,  5.,  6.])"
      ]
     },
     "execution_count": 356,
     "metadata": {},
     "output_type": "execute_result"
    }
   ],
   "source": [
    "data[\"number_stories\"].unique()"
   ]
  },
  {
   "cell_type": "code",
   "execution_count": 357,
   "metadata": {},
   "outputs": [],
   "source": [
    "data.loc[:, \"number_stories\"] = data[\"number_stories\"].fillna(0.0)"
   ]
  },
  {
   "cell_type": "markdown",
   "metadata": {},
   "source": [
    "### Number of rooms"
   ]
  },
  {
   "cell_type": "markdown",
   "metadata": {},
   "source": [
    "- Missing to much data. Doesnt make sense to take the mean of the rooms."
   ]
  },
  {
   "cell_type": "code",
   "execution_count": 385,
   "metadata": {},
   "outputs": [
    {
     "data": {
      "text/plain": [
       "NaN     462159\n",
       "6.0       5118\n",
       "7.0       1390\n",
       "5.0        839\n",
       "8.0        610\n",
       "10.0       387\n",
       "12.0       309\n",
       "9.0        231\n",
       "11.0        63\n",
       "4.0         59\n",
       "18.0        40\n",
       "15.0        40\n",
       "3.0         33\n",
       "14.0        32\n",
       "13.0        25\n",
       "16.0        15\n",
       "20.0        15\n",
       "17.0         6\n",
       "21.0         4\n",
       "2.0          3\n",
       "28.0         3\n",
       "24.0         2\n",
       "1.0          1\n",
       "19.0         1\n",
       "30.0         1\n",
       "23.0         1\n",
       "22.0         1\n",
       "25.0         1\n",
       "27.0         1\n",
       "Name: number_of_rooms, dtype: int64"
      ]
     },
     "execution_count": 385,
     "metadata": {},
     "output_type": "execute_result"
    }
   ],
   "source": [
    "data.number_of_rooms.value_counts(dropna=False)"
   ]
  },
  {
   "cell_type": "markdown",
   "metadata": {},
   "source": [
    "### Number of bedrooms"
   ]
  },
  {
   "cell_type": "code",
   "execution_count": 384,
   "metadata": {},
   "outputs": [
    {
     "data": {
      "text/plain": [
       "3.0     298613\n",
       "0.0      88453\n",
       "4.0      47983\n",
       "2.0      26791\n",
       "5.0       5194\n",
       "6.0       2819\n",
       "7.0        499\n",
       "8.0        431\n",
       "1.0        353\n",
       "9.0        203\n",
       "10.0        51\n",
       "Name: number_of_bedrooms, dtype: int64"
      ]
     },
     "execution_count": 384,
     "metadata": {},
     "output_type": "execute_result"
    }
   ],
   "source": [
    "data.number_of_bedrooms.value_counts(dropna=False)"
   ]
  },
  {
   "cell_type": "code",
   "execution_count": 360,
   "metadata": {},
   "outputs": [
    {
     "data": {
      "text/plain": [
       "2.5172411574597304"
      ]
     },
     "execution_count": 360,
     "metadata": {},
     "output_type": "execute_result"
    }
   ],
   "source": [
    "data[\"number_of_bedrooms\"].mean()"
   ]
  },
  {
   "cell_type": "code",
   "execution_count": 361,
   "metadata": {},
   "outputs": [],
   "source": [
    "# Replace with the mean\n",
    "data.loc[:, \"number_of_bedrooms\"] = data[\"number_of_bedrooms\"].fillna(3.0)"
   ]
  },
  {
   "cell_type": "markdown",
   "metadata": {},
   "source": [
    "### Number of bathrooms"
   ]
  },
  {
   "cell_type": "code",
   "execution_count": 379,
   "metadata": {},
   "outputs": [
    {
     "data": {
      "text/plain": [
       "1.0    326273\n",
       "0.0     89123\n",
       "2.0     43321\n",
       "3.0     10087\n",
       "4.0      2057\n",
       "5.0       356\n",
       "6.0       280\n",
       "Name: number_of_bathrooms, dtype: int64"
      ]
     },
     "execution_count": 379,
     "metadata": {},
     "output_type": "execute_result"
    }
   ],
   "source": [
    "data.number_of_bathrooms.value_counts(dropna=False)"
   ]
  },
  {
   "cell_type": "code",
   "execution_count": 363,
   "metadata": {},
   "outputs": [
    {
     "data": {
      "text/plain": [
       "0.9695554846278597"
      ]
     },
     "execution_count": 363,
     "metadata": {},
     "output_type": "execute_result"
    }
   ],
   "source": [
    "data.loc[:, \"number_of_bathrooms\"].mean()"
   ]
  },
  {
   "cell_type": "code",
   "execution_count": 364,
   "metadata": {},
   "outputs": [],
   "source": [
    "data.loc[:, \"number_of_bathrooms\"] = data[\"number_of_bathrooms\"].fillna(1.0)"
   ]
  },
  {
   "cell_type": "markdown",
   "metadata": {},
   "source": [
    "-------------------------------------------------------------------------------------------------------------------------------------------------------------------------------------------------------------\n",
    "# Remove Outliers"
   ]
  },
  {
   "cell_type": "markdown",
   "metadata": {},
   "source": [
    "#### Numerical Data\n",
    "- Depth\n",
    "- Fireplaces\n",
    "- Number of Stories\n",
    "- Number of bathrooms\n",
    "- Number of bedrooms\n",
    "- Number of rooms\n"
   ]
  },
  {
   "cell_type": "markdown",
   "metadata": {},
   "source": [
    "# Depth"
   ]
  },
  {
   "cell_type": "code",
   "execution_count": 365,
   "metadata": {},
   "outputs": [],
   "source": [
    "# Calculate Q1, Q3, and IQR\n",
    "q1 = np.percentile(data[\"depth\"], 25)\n",
    "q3 = np.percentile(data[\"depth\"], 75)\n",
    "iqr = q3 - q1\n",
    "\n",
    "# Define lower and upper bounds\n",
    "lower_bound = q1 - 1.5 * iqr\n",
    "upper_bound = q3 + 1.5 * iqr\n"
   ]
  },
  {
   "cell_type": "code",
   "execution_count": 366,
   "metadata": {},
   "outputs": [],
   "source": [
    "data = data[(data['depth'] > lower_bound) & (data['depth'] < upper_bound)]"
   ]
  },
  {
   "cell_type": "markdown",
   "metadata": {},
   "source": [
    "# Fireplace"
   ]
  },
  {
   "cell_type": "code",
   "execution_count": 370,
   "metadata": {},
   "outputs": [],
   "source": [
    "data = data[(data[\"fireplaces\"] >= 0.0) & (data[\"fireplaces\"] <= 5.0) ]"
   ]
  },
  {
   "cell_type": "code",
   "execution_count": 371,
   "metadata": {},
   "outputs": [
    {
     "data": {
      "text/plain": [
       "(471777, 43)"
      ]
     },
     "execution_count": 371,
     "metadata": {},
     "output_type": "execute_result"
    }
   ],
   "source": [
    "data.shape"
   ]
  },
  {
   "cell_type": "markdown",
   "metadata": {},
   "source": [
    "# Number of Stories"
   ]
  },
  {
   "cell_type": "code",
   "execution_count": 373,
   "metadata": {},
   "outputs": [],
   "source": [
    "data = data[(data[\"number_stories\"] >= 0.0) & (data[\"number_stories\"] <= 4.0) ]"
   ]
  },
  {
   "cell_type": "code",
   "execution_count": 374,
   "metadata": {},
   "outputs": [
    {
     "data": {
      "text/plain": [
       "(471761, 43)"
      ]
     },
     "execution_count": 374,
     "metadata": {},
     "output_type": "execute_result"
    }
   ],
   "source": [
    "data.shape"
   ]
  },
  {
   "cell_type": "markdown",
   "metadata": {},
   "source": [
    "# Number of Bathrooms"
   ]
  },
  {
   "cell_type": "code",
   "execution_count": 377,
   "metadata": {},
   "outputs": [],
   "source": [
    "data = data[(data[\"number_of_bathrooms\"] >= 0.0) & (data[\"number_of_bathrooms\"] <= 6.0)]"
   ]
  },
  {
   "cell_type": "code",
   "execution_count": 378,
   "metadata": {},
   "outputs": [
    {
     "data": {
      "text/plain": [
       "(471497, 43)"
      ]
     },
     "execution_count": 378,
     "metadata": {},
     "output_type": "execute_result"
    }
   ],
   "source": [
    "data.shape"
   ]
  },
  {
   "cell_type": "markdown",
   "metadata": {},
   "source": [
    "# Number of Bedrooms"
   ]
  },
  {
   "cell_type": "code",
   "execution_count": 382,
   "metadata": {},
   "outputs": [],
   "source": [
    "data = data[(data[\"number_of_bedrooms\"] >= 0.0) & (data[\"number_of_bedrooms\"] <= 10.0)]"
   ]
  },
  {
   "cell_type": "code",
   "execution_count": 383,
   "metadata": {},
   "outputs": [
    {
     "data": {
      "text/plain": [
       "(471390, 43)"
      ]
     },
     "execution_count": 383,
     "metadata": {},
     "output_type": "execute_result"
    }
   ],
   "source": [
    "data.shape"
   ]
  }
 ],
 "metadata": {
  "kernelspec": {
   "display_name": "Python 3",
   "language": "python",
   "name": "python3"
  },
  "language_info": {
   "codemirror_mode": {
    "name": "ipython",
    "version": 3
   },
   "file_extension": ".py",
   "mimetype": "text/x-python",
   "name": "python",
   "nbconvert_exporter": "python",
   "pygments_lexer": "ipython3",
   "version": "3.11.1"
  }
 },
 "nbformat": 4,
 "nbformat_minor": 2
}
