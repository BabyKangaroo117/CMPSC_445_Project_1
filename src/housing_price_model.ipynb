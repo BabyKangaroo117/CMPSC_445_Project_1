{
 "cells": [
  {
   "cell_type": "code",
   "execution_count": 1076,
   "metadata": {},
   "outputs": [
    {
     "name": "stdout",
     "output_type": "stream",
     "text": [
      "Requirement already satisfied: category_encoders in c:\\users\\gympr\\appdata\\local\\programs\\python\\python311\\lib\\site-packages (2.6.3)\n",
      "Requirement already satisfied: numpy>=1.14.0 in c:\\users\\gympr\\appdata\\local\\programs\\python\\python311\\lib\\site-packages (from category_encoders) (1.24.2)\n",
      "Requirement already satisfied: scikit-learn>=0.20.0 in c:\\users\\gympr\\appdata\\local\\programs\\python\\python311\\lib\\site-packages (from category_encoders) (1.4.1.post1)\n",
      "Requirement already satisfied: scipy>=1.0.0 in c:\\users\\gympr\\appdata\\local\\programs\\python\\python311\\lib\\site-packages (from category_encoders) (1.12.0)\n",
      "Requirement already satisfied: statsmodels>=0.9.0 in c:\\users\\gympr\\appdata\\local\\programs\\python\\python311\\lib\\site-packages (from category_encoders) (0.14.1)\n",
      "Requirement already satisfied: pandas>=1.0.5 in c:\\users\\gympr\\appdata\\local\\programs\\python\\python311\\lib\\site-packages (from category_encoders) (1.5.3)\n",
      "Requirement already satisfied: patsy>=0.5.1 in c:\\users\\gympr\\appdata\\local\\programs\\python\\python311\\lib\\site-packages (from category_encoders) (0.5.6)\n",
      "Requirement already satisfied: python-dateutil>=2.8.1 in c:\\users\\gympr\\appdata\\local\\programs\\python\\python311\\lib\\site-packages (from pandas>=1.0.5->category_encoders) (2.8.2)\n",
      "Requirement already satisfied: pytz>=2020.1 in c:\\users\\gympr\\appdata\\local\\programs\\python\\python311\\lib\\site-packages (from pandas>=1.0.5->category_encoders) (2022.7.1)\n",
      "Requirement already satisfied: six in c:\\users\\gympr\\appdata\\local\\programs\\python\\python311\\lib\\site-packages (from patsy>=0.5.1->category_encoders) (1.16.0)\n",
      "Requirement already satisfied: joblib>=1.2.0 in c:\\users\\gympr\\appdata\\local\\programs\\python\\python311\\lib\\site-packages (from scikit-learn>=0.20.0->category_encoders) (1.2.0)\n",
      "Requirement already satisfied: threadpoolctl>=2.0.0 in c:\\users\\gympr\\appdata\\local\\programs\\python\\python311\\lib\\site-packages (from scikit-learn>=0.20.0->category_encoders) (3.3.0)\n",
      "Requirement already satisfied: packaging>=21.3 in c:\\users\\gympr\\appdata\\local\\programs\\python\\python311\\lib\\site-packages (from statsmodels>=0.9.0->category_encoders) (23.2)\n",
      "Note: you may need to restart the kernel to use updated packages.\n"
     ]
    },
    {
     "name": "stderr",
     "output_type": "stream",
     "text": [
      "\n",
      "[notice] A new release of pip is available: 23.3.1 -> 24.0\n",
      "[notice] To update, run: python.exe -m pip install --upgrade pip\n"
     ]
    }
   ],
   "source": [
    "%pip install category_encoders"
   ]
  },
  {
   "cell_type": "code",
   "execution_count": 1077,
   "metadata": {},
   "outputs": [],
   "source": [
    "import pandas as pd\n",
    "import numpy as np\n",
    "import matplotlib.pyplot as plt\n",
    "import category_encoders as ce\n",
    "from sklearn.preprocessing import LabelEncoder\n",
    "from sklearn.feature_selection import SelectKBest, chi2\n",
    "import regex as re"
   ]
  },
  {
   "cell_type": "code",
   "execution_count": 1078,
   "metadata": {},
   "outputs": [],
   "source": [
    "data = pd.read_csv(\"../housing_data/opa_properties_public.csv\", low_memory=False)"
   ]
  },
  {
   "cell_type": "code",
   "execution_count": 1079,
   "metadata": {},
   "outputs": [],
   "source": [
    "data_copy = data"
   ]
  },
  {
   "cell_type": "code",
   "execution_count": 1080,
   "metadata": {},
   "outputs": [],
   "source": [
    "data = data_copy"
   ]
  },
  {
   "cell_type": "code",
   "execution_count": 1081,
   "metadata": {},
   "outputs": [
    {
     "data": {
      "text/plain": [
       "(582933, 82)"
      ]
     },
     "execution_count": 1081,
     "metadata": {},
     "output_type": "execute_result"
    }
   ],
   "source": [
    "data.shape"
   ]
  },
  {
   "cell_type": "code",
   "execution_count": 1082,
   "metadata": {},
   "outputs": [
    {
     "data": {
      "text/plain": [
       "Index(['the_geom', 'the_geom_webmercator', 'assessment_date', 'basements',\n",
       "       'beginning_point', 'book_and_page', 'building_code',\n",
       "       'building_code_description', 'category_code',\n",
       "       'category_code_description', 'census_tract', 'central_air',\n",
       "       'cross_reference', 'date_exterior_condition', 'depth',\n",
       "       'exempt_building', 'exempt_land', 'exterior_condition', 'fireplaces',\n",
       "       'frontage', 'fuel', 'garage_spaces', 'garage_type',\n",
       "       'general_construction', 'geographic_ward', 'homestead_exemption',\n",
       "       'house_extension', 'house_number', 'interior_condition', 'location',\n",
       "       'mailing_address_1', 'mailing_address_2', 'mailing_care_of',\n",
       "       'mailing_city_state', 'mailing_street', 'mailing_zip', 'market_value',\n",
       "       'market_value_date', 'number_of_bathrooms', 'number_of_bedrooms',\n",
       "       'number_of_rooms', 'number_stories', 'off_street_open',\n",
       "       'other_building', 'owner_1', 'owner_2', 'parcel_number', 'parcel_shape',\n",
       "       'quality_grade', 'recording_date', 'registry_number', 'sale_date',\n",
       "       'sale_price', 'separate_utilities', 'sewer', 'site_type', 'state_code',\n",
       "       'street_code', 'street_designation', 'street_direction', 'street_name',\n",
       "       'suffix', 'taxable_building', 'taxable_land', 'topography',\n",
       "       'total_area', 'total_livable_area', 'type_heater', 'unfinished', 'unit',\n",
       "       'utility', 'view_type', 'year_built', 'year_built_estimate', 'zip_code',\n",
       "       'zoning', 'pin', 'building_code_new', 'building_code_description_new',\n",
       "       'objectid', 'lat', 'lng'],\n",
       "      dtype='object')"
      ]
     },
     "execution_count": 1082,
     "metadata": {},
     "output_type": "execute_result"
    }
   ],
   "source": [
    "data.columns"
   ]
  },
  {
   "cell_type": "code",
   "execution_count": 1083,
   "metadata": {},
   "outputs": [],
   "source": [
    "# The following columns were deemed to not impact the model based on the data they provide. Many of the columns were missing data and most of the categorical columns have no correlations\n",
    "drop_column_list = ['the_geom', 'assessment_date','beginning_point', 'book_and_page', 'category_code_description', 'cross_reference', 'house_number','location', 'mailing_address_1', 'mailing_address_2', \n",
    "                    'mailing_care_of', 'mailing_city_state', 'mailing_street', 'market_value_date','the_geom_webmercator','other_building','owner_1', 'owner_2', 'parcel_number', 'recording_date', \n",
    "                    'sale_date', 'registry_number', 'sale_price', 'unit', 'objectid','building_code', 'census_tract', 'date_exterior_condition', 'year_built_estimate', 'house_extension', 'mailing_zip', \n",
    "                    'sewer', 'site_type','state_code', 'street_designation', 'street_name', 'street_direction', 'geographic_ward', 'quality_grade', 'building_code_description', 'pin', 'garage_type',\n",
    "                    'street_code', 'building_code_description_new', 'building_code_new', 'unfinished', 'fuel'  ]\n",
    "\n",
    "data = data.drop(drop_column_list, axis = 1)"
   ]
  },
  {
   "cell_type": "code",
   "execution_count": 1084,
   "metadata": {},
   "outputs": [],
   "source": [
    "# Drop empty rows\n",
    "data = data.dropna(subset=[\"market_value\"])"
   ]
  },
  {
   "cell_type": "code",
   "execution_count": 1085,
   "metadata": {},
   "outputs": [
    {
     "data": {
      "text/plain": [
       "False"
      ]
     },
     "execution_count": 1085,
     "metadata": {},
     "output_type": "execute_result"
    }
   ],
   "source": [
    "# Check if there are still null rows\n",
    "data.market_value.isnull().any()"
   ]
  },
  {
   "cell_type": "code",
   "execution_count": 1086,
   "metadata": {},
   "outputs": [
    {
     "data": {
      "text/plain": [
       "(582913, 35)"
      ]
     },
     "execution_count": 1086,
     "metadata": {},
     "output_type": "execute_result"
    }
   ],
   "source": [
    "data.shape"
   ]
  },
  {
   "cell_type": "code",
   "execution_count": 1087,
   "metadata": {},
   "outputs": [
    {
     "data": {
      "text/plain": [
       "35"
      ]
     },
     "execution_count": 1087,
     "metadata": {},
     "output_type": "execute_result"
    }
   ],
   "source": [
    "len(data.columns)"
   ]
  },
  {
   "cell_type": "code",
   "execution_count": 1088,
   "metadata": {},
   "outputs": [
    {
     "data": {
      "text/plain": [
       "Index(['basements', 'category_code', 'central_air', 'depth', 'exempt_building',\n",
       "       'exempt_land', 'exterior_condition', 'fireplaces', 'frontage',\n",
       "       'garage_spaces', 'general_construction', 'homestead_exemption',\n",
       "       'interior_condition', 'market_value', 'number_of_bathrooms',\n",
       "       'number_of_bedrooms', 'number_of_rooms', 'number_stories',\n",
       "       'off_street_open', 'parcel_shape', 'separate_utilities', 'suffix',\n",
       "       'taxable_building', 'taxable_land', 'topography', 'total_area',\n",
       "       'total_livable_area', 'type_heater', 'utility', 'view_type',\n",
       "       'year_built', 'zip_code', 'zoning', 'lat', 'lng'],\n",
       "      dtype='object')"
      ]
     },
     "execution_count": 1088,
     "metadata": {},
     "output_type": "execute_result"
    }
   ],
   "source": [
    "data.columns"
   ]
  },
  {
   "cell_type": "code",
   "execution_count": 1089,
   "metadata": {},
   "outputs": [],
   "source": [
    "# Drop rows that have a market value of 0\n",
    "data = data.drop(data[data.market_value == 0].index)"
   ]
  },
  {
   "cell_type": "code",
   "execution_count": 1090,
   "metadata": {},
   "outputs": [
    {
     "name": "stderr",
     "output_type": "stream",
     "text": [
      "C:\\Users\\gympr\\AppData\\Local\\Temp\\ipykernel_576\\420568462.py:1: FutureWarning: The default value of numeric_only in DataFrame.corr is deprecated. In a future version, it will default to False. Select only valid columns or specify the value of numeric_only to silence this warning.\n",
      "  corr = data.corr()\n"
     ]
    },
    {
     "name": "stdout",
     "output_type": "stream",
     "text": [
      "market_value           1.000000\n",
      "exempt_building        0.723251\n",
      "taxable_land           0.669632\n",
      "taxable_building       0.663446\n",
      "total_livable_area     0.517544\n",
      "exempt_land            0.407638\n",
      "fireplaces             0.313073\n",
      "number_of_rooms        0.282594\n",
      "number_of_bathrooms    0.211712\n",
      "frontage               0.170192\n",
      "number_stories         0.154825\n",
      "depth                  0.148069\n",
      "garage_spaces          0.126214\n",
      "category_code          0.114663\n",
      "total_area             0.091730\n",
      "homestead_exemption    0.070511\n",
      "zip_code               0.017103\n",
      "off_street_open       -0.004000\n",
      "lng                   -0.007567\n",
      "number_of_bedrooms    -0.023070\n",
      "lat                   -0.026878\n",
      "year_built            -0.030077\n",
      "exterior_condition    -0.354686\n",
      "interior_condition    -0.385431\n",
      "utility                     NaN\n",
      "Name: market_value, dtype: float64\n"
     ]
    }
   ],
   "source": [
    "corr = data.corr()\n",
    "corr.sort_values([\"market_value\"],ascending = False, inplace = True)\n",
    "print(corr.market_value)"
   ]
  },
  {
   "cell_type": "code",
   "execution_count": 1091,
   "metadata": {},
   "outputs": [
    {
     "data": {
      "text/plain": [
       "Text(0.5, 0, 'Number of Missing values')"
      ]
     },
     "execution_count": 1091,
     "metadata": {},
     "output_type": "execute_result"
    },
    {
     "data": {
      "image/png": "[encoded data removed]",
      "text/plain": [
       "<Figure size 640x480 with 1 Axes>"
      ]
     },
     "metadata": {},
     "output_type": "display_data"
    }
   ],
   "source": [
    "# Visualize missing values in columns\n",
    "missing = data.isnull().sum()\n",
    "missing = missing[missing >= 100]\n",
    "missing.sort_values(inplace=True)\n",
    "missing.plot.barh()\n",
    "plt.title(\"Features with missing values (nan’s) > 100\")\n",
    "plt.ylabel(\"Features\")\n",
    "plt.xlabel(\"Number of Missing values\")"
   ]
  },
  {
   "cell_type": "markdown",
   "metadata": {},
   "source": [
    "-------------------------------------------------------------------------------------------------------------------------------------------------------------------------------------------------------------\n",
    "# Fill in null data"
   ]
  },
  {
   "cell_type": "markdown",
   "metadata": {},
   "source": [
    "#### Numerical Data Non Categorical\n",
    "- Depth\n",
    "- Longitude\n",
    "- Latitude\n",
    "- Fireplaces\n",
    "- Number of Stories\n",
    "- Number of bathrooms\n",
    "- Number of bedrooms\n",
    "- Number of rooms\n",
    "- Total area\n",
    "- Total livable area\n",
    "- Off street open\n",
    "- Exempt Building\n",
    "- Exempt Land\n",
    "- Garage Spaces\n",
    "- Homestead Exemption\n",
    "- Market Value (Target)\n",
    "- Taxable Building\n",
    "- Taxable Land\n",
    "\n",
    "#### Categorical Char\n",
    "- Basements\n",
    "- Central Air\n",
    "- Garage Type\n",
    "- General Construction\n",
    "- Parcel Shape\n",
    "- Separate Utilities\n",
    "- Suffix\n",
    "- Topography\n",
    "- Heater\n",
    "- Utility\n",
    "- View Type\n",
    "- Zoning\n",
    "#### Categorical Numerical\n",
    "- Category Code\n",
    "- Zipcode\n",
    "- Exterior Condition\n",
    "- Year Built\n",
    "- Interior Condition"
   ]
  },
  {
   "cell_type": "markdown",
   "metadata": {},
   "source": [
    "-------------------------------------------------------------------------------------------------------------------------------------------------------------------------------------------------------------\n"
   ]
  },
  {
   "cell_type": "markdown",
   "metadata": {},
   "source": [
    "### Category Code"
   ]
  },
  {
   "cell_type": "markdown",
   "metadata": {},
   "source": [
    "- Code value: 1 = Single Family\n",
    "- Code value: 2 = Multi Family\n",
    "- Code value: 3 = Mixed Use\n",
    "- Code value: 4 = Commercial\n",
    "- Code value: 5 = Industrial\n",
    "- Code value: 6 = Vacant Land"
   ]
  },
  {
   "cell_type": "code",
   "execution_count": 1092,
   "metadata": {},
   "outputs": [
    {
     "data": {
      "text/plain": [
       "1     463162\n",
       "6      42106\n",
       "2      40743\n",
       "3      14300\n",
       "4      12836\n",
       "5       4165\n",
       "14      2813\n",
       "10       840\n",
       "13       834\n",
       "8        507\n",
       "9        129\n",
       "12       119\n",
       "7         97\n",
       "15        27\n",
       "11        19\n",
       "16        13\n",
       "Name: category_code, dtype: int64"
      ]
     },
     "execution_count": 1092,
     "metadata": {},
     "output_type": "execute_result"
    }
   ],
   "source": [
    "data.category_code.value_counts(dropna=False)"
   ]
  },
  {
   "cell_type": "code",
   "execution_count": 1093,
   "metadata": {},
   "outputs": [],
   "source": [
    "# Create a mask to drop rows\n",
    "values_to_drop = [num for num in range(4, 17)]\n",
    "mask_category_code = data[\"category_code\"].isin(values_to_drop)\n",
    "data = data.loc[~mask_category_code]"
   ]
  },
  {
   "cell_type": "code",
   "execution_count": 1094,
   "metadata": {},
   "outputs": [
    {
     "data": {
      "text/plain": [
       "1    463162\n",
       "2     40743\n",
       "3     14300\n",
       "Name: category_code, dtype: int64"
      ]
     },
     "execution_count": 1094,
     "metadata": {},
     "output_type": "execute_result"
    }
   ],
   "source": [
    "# Code value: 1 = Single Family\n",
    "# Code value: 2 = Multi Family\n",
    "# Code value: 3 = Mixed Use\n",
    "data.category_code.value_counts(dropna=False)"
   ]
  },
  {
   "cell_type": "code",
   "execution_count": 1095,
   "metadata": {},
   "outputs": [
    {
     "data": {
      "text/plain": [
       "(518205, 35)"
      ]
     },
     "execution_count": 1095,
     "metadata": {},
     "output_type": "execute_result"
    }
   ],
   "source": [
    "data.shape"
   ]
  },
  {
   "cell_type": "markdown",
   "metadata": {},
   "source": [
    "### Depth"
   ]
  },
  {
   "cell_type": "code",
   "execution_count": 1096,
   "metadata": {},
   "outputs": [
    {
     "data": {
      "text/plain": [
       "100.0    33325\n",
       "0.0      31453\n",
       "90.0     20033\n",
       "70.0     15828\n",
       "60.0     15223\n",
       "         ...  \n",
       "504.0        1\n",
       "336.0        1\n",
       "557.0        1\n",
       "596.0        1\n",
       "488.0        1\n",
       "Name: depth, Length: 638, dtype: int64"
      ]
     },
     "execution_count": 1096,
     "metadata": {},
     "output_type": "execute_result"
    }
   ],
   "source": [
    "data.depth.value_counts(dropna=False)"
   ]
  },
  {
   "cell_type": "code",
   "execution_count": 1097,
   "metadata": {},
   "outputs": [],
   "source": [
    "# Delete rows that have a depth of 0\n",
    "data = data.drop(data[data.depth == 0].index)\n",
    "data = data.dropna(subset=[\"depth\"])"
   ]
  },
  {
   "cell_type": "code",
   "execution_count": 1098,
   "metadata": {},
   "outputs": [
    {
     "data": {
      "text/plain": [
       "(483630, 35)"
      ]
     },
     "execution_count": 1098,
     "metadata": {},
     "output_type": "execute_result"
    }
   ],
   "source": [
    "data.shape"
   ]
  },
  {
   "cell_type": "markdown",
   "metadata": {},
   "source": [
    "### Longitude"
   ]
  },
  {
   "cell_type": "code",
   "execution_count": 1099,
   "metadata": {},
   "outputs": [],
   "source": [
    "# Replace empty longitude values with the mean\n",
    "data[\"lng\"] = data.lng.fillna(data.lng.mean())"
   ]
  },
  {
   "cell_type": "code",
   "execution_count": 1100,
   "metadata": {},
   "outputs": [],
   "source": [
    "# Convert the longitude values to be positive for machine learning purposes\n",
    "data.loc[:, \"lng\"] = data['lng'].abs()"
   ]
  },
  {
   "cell_type": "markdown",
   "metadata": {},
   "source": [
    "### Latitude\n"
   ]
  },
  {
   "cell_type": "code",
   "execution_count": 1101,
   "metadata": {},
   "outputs": [],
   "source": [
    "# Replace empty latitude values with the mean\n",
    "data[\"lat\"] = data.lat.fillna(data.lat.mean())"
   ]
  },
  {
   "cell_type": "code",
   "execution_count": 1102,
   "metadata": {},
   "outputs": [],
   "source": [
    "# Convert the latitude values to be positive for machine learning purposes\n",
    "data.loc[:, \"lat\"] = data['lat'].abs()"
   ]
  },
  {
   "cell_type": "code",
   "execution_count": 1103,
   "metadata": {},
   "outputs": [
    {
     "data": {
      "text/plain": [
       "(483630, 35)"
      ]
     },
     "execution_count": 1103,
     "metadata": {},
     "output_type": "execute_result"
    }
   ],
   "source": [
    "data.shape"
   ]
  },
  {
   "cell_type": "markdown",
   "metadata": {},
   "source": [
    "### Basements"
   ]
  },
  {
   "cell_type": "markdown",
   "metadata": {},
   "source": [
    "- [NOTE: REPLACING 'NaN' WITH 'K'] \n",
    "- 0 = No Basement [NOTE: REPLACING '0' WITH 'L']\n",
    "- D = Full – Unknown Finish\n",
    "- F = Partial - Semi-Finished \n",
    "- H = Partial - Unknown Finish\n",
    "- C = Full - Unfinished\n",
    "- A = Full - Finished \n",
    "- J = Unknown Size - Unfinished\n",
    "- E = Partial - Finished \n",
    "- I = Unknown Size - Finished \n",
    "- G = Partial - Unfinished\n",
    "- B = Full - Semi-Finished\n",
    "\n",
    "- 1 = ? Replace with M\n",
    "- 2 = ? Replace with N\n",
    "- 3 = ? Replace with O\n",
    "- 4 = ? Replace with P"
   ]
  },
  {
   "cell_type": "code",
   "execution_count": 1104,
   "metadata": {},
   "outputs": [
    {
     "data": {
      "text/plain": [
       "NaN    157326\n",
       "D      107751\n",
       "F       64119\n",
       "H       57380\n",
       "C       33954\n",
       "A       27565\n",
       "E        9951\n",
       "0        7922\n",
       "J        7551\n",
       "G        4352\n",
       "B        3113\n",
       "I        2042\n",
       "1         488\n",
       "4          91\n",
       "2          20\n",
       "3           5\n",
       "Name: basements, dtype: int64"
      ]
     },
     "execution_count": 1104,
     "metadata": {},
     "output_type": "execute_result"
    }
   ],
   "source": [
    "data.basements.value_counts(dropna=False)\n"
   ]
  },
  {
   "cell_type": "code",
   "execution_count": 1105,
   "metadata": {},
   "outputs": [],
   "source": [
    "data.loc[:, \"basements\"] = data.loc[:, \"basements\"].fillna('K')\n",
    "replacement_dict = {'0': 'L', '1': 'M', '2': 'N', '3': 'O', '4': 'P'}\n",
    "data['basements'] = data['basements'].replace(replacement_dict, regex=True)"
   ]
  },
  {
   "cell_type": "markdown",
   "metadata": {},
   "source": [
    "### Central Air"
   ]
  },
  {
   "cell_type": "code",
   "execution_count": 1106,
   "metadata": {},
   "outputs": [
    {
     "data": {
      "text/plain": [
       "NaN    214517\n",
       "N      163214\n",
       "Y      104682\n",
       "0        1078\n",
       "1         139\n",
       "Name: central_air, dtype: int64"
      ]
     },
     "execution_count": 1106,
     "metadata": {},
     "output_type": "execute_result"
    }
   ],
   "source": [
    "data.central_air.value_counts(dropna=False)"
   ]
  },
  {
   "cell_type": "code",
   "execution_count": 1107,
   "metadata": {},
   "outputs": [],
   "source": [
    "# Replacing '0' with 'N' (i.e. NO Central Air)\n",
    "data.loc[:, \"central_air\"] = data['central_air'].replace('0', 'N')\n",
    "# Replacing the \"NaNs\" with 'N'\n",
    "data.loc[:, \"central_air\"] = data['central_air'].fillna('N')\n",
    "# Replacing '1' with 'Y' (i.e. Central Air)\n",
    "data.loc[:, \"central_air\"] = data['central_air'].replace('1', 'N')"
   ]
  },
  {
   "cell_type": "markdown",
   "metadata": {},
   "source": [
    "### Exterior Condition"
   ]
  },
  {
   "cell_type": "markdown",
   "metadata": {},
   "source": [
    "- 4.0 Average\n",
    "- 3.0 Above Average\n",
    "- 5.0 Below Average\n",
    "- 2.0 Newer Construction / Rehabbed\n",
    "- 7.0 Sealed / Structurally Compromised\n",
    "- 6.0 Vacant\n",
    "- 0.0 Not Applicable"
   ]
  },
  {
   "cell_type": "code",
   "execution_count": 1108,
   "metadata": {},
   "outputs": [
    {
     "data": {
      "text/plain": [
       "4.0    371682\n",
       "3.0     40275\n",
       "5.0     24236\n",
       "NaN     17139\n",
       "1.0     12216\n",
       "2.0     11914\n",
       "7.0      3454\n",
       "6.0      2658\n",
       "0.0        56\n",
       "Name: exterior_condition, dtype: int64"
      ]
     },
     "execution_count": 1108,
     "metadata": {},
     "output_type": "execute_result"
    }
   ],
   "source": [
    "data.exterior_condition.value_counts(dropna=False)"
   ]
  },
  {
   "cell_type": "code",
   "execution_count": 1109,
   "metadata": {},
   "outputs": [],
   "source": [
    "# Fill in nan with not applicable (0.0)\n",
    "data.loc[:, \"exterior_condition\"] = data.loc[:, \"exterior_condition\"].fillna(0.0)"
   ]
  },
  {
   "cell_type": "markdown",
   "metadata": {},
   "source": [
    "### General Construction"
   ]
  },
  {
   "cell_type": "markdown",
   "metadata": {},
   "source": [
    "- A = Common brick \n",
    "- B = Brick and Siding \n",
    "- E = Stone \n",
    "- C = Frame and siding \n",
    "- F = Stucco/Cement \n",
    "- G = Other/Mix \n",
    "- H = Brick and stucco \n",
    "- J = Stone/stucco \n",
    "- I = Stucco and siding \n",
    "- D = Frame and shingle "
   ]
  },
  {
   "cell_type": "code",
   "execution_count": 1110,
   "metadata": {},
   "outputs": [
    {
     "data": {
      "text/plain": [
       "A      406305\n",
       "B       32083\n",
       "C       10964\n",
       "E       10930\n",
       "F        7258\n",
       "NaN      4960\n",
       "H        4712\n",
       "G        1877\n",
       "J        1712\n",
       "I        1141\n",
       "3        1014\n",
       "1         284\n",
       "D         251\n",
       "5          99\n",
       "6          27\n",
       "9          11\n",
       "8           1\n",
       "4           1\n",
       "Name: general_construction, dtype: int64"
      ]
     },
     "execution_count": 1110,
     "metadata": {},
     "output_type": "execute_result"
    }
   ],
   "source": [
    "data.general_construction.value_counts(dropna=False)"
   ]
  },
  {
   "cell_type": "code",
   "execution_count": 1111,
   "metadata": {},
   "outputs": [
    {
     "data": {
      "text/plain": [
       "array(['A ', 'E ', nan, 'B ', 'G ', '1 ', 'F ', 'C ', 'I ', 'H ', 'J ',\n",
       "       'D ', '3 ', '5 ', '6 ', '9 ', '8 ', '4 '], dtype=object)"
      ]
     },
     "execution_count": 1111,
     "metadata": {},
     "output_type": "execute_result"
    }
   ],
   "source": [
    "data[\"general_construction\"].unique()"
   ]
  },
  {
   "cell_type": "code",
   "execution_count": 1112,
   "metadata": {},
   "outputs": [],
   "source": [
    "# Replace Nan with other (G)\n",
    "data.loc[:, \"general_construction\"] = data.loc[:, \"general_construction\"].fillna(\"G\")\n",
    "# Replace number with numerical counter part (not sure if this is correct)\n",
    "replacement_dict = {'1 ': 'A ', '3 ': 'C ', '4 ': 'D ', '5 ': 'E ', '6 ': 'F ', '8 ': 'H ', '9 ': 'I '}\n",
    "data.loc[:, \"general_construction\"] = data[\"general_construction\"].replace(replacement_dict)"
   ]
  },
  {
   "cell_type": "markdown",
   "metadata": {},
   "source": [
    "### Parcel Shape"
   ]
  },
  {
   "cell_type": "markdown",
   "metadata": {},
   "source": [
    "- E = Rectangular\n",
    "- A = Other than a square, rectangular or triangle \n",
    "- B = Curves, narrow portions, long access driveways \n",
    "- C = Triangular \n",
    "- F = NaN \n",
    "- D = Long and narrow"
   ]
  },
  {
   "cell_type": "code",
   "execution_count": 1113,
   "metadata": {},
   "outputs": [
    {
     "data": {
      "text/plain": [
       "E      446554\n",
       "A       31971\n",
       "B        4202\n",
       "C         837\n",
       "D          48\n",
       "NaN        18\n",
       "Name: parcel_shape, dtype: int64"
      ]
     },
     "execution_count": 1113,
     "metadata": {},
     "output_type": "execute_result"
    }
   ],
   "source": [
    "data.parcel_shape.value_counts(dropna=False)"
   ]
  },
  {
   "cell_type": "code",
   "execution_count": 1114,
   "metadata": {},
   "outputs": [],
   "source": [
    "# Replacing the \"NaN's\" with 'F'\n",
    "data.loc[:, \"parcel_shape\"] = data['parcel_shape'].fillna('F')"
   ]
  },
  {
   "cell_type": "markdown",
   "metadata": {},
   "source": [
    "### Seperate Utilities"
   ]
  },
  {
   "cell_type": "markdown",
   "metadata": {},
   "source": [
    "- D = Non 2 to 4 apartments\n",
    "- B = Part Separate\n",
    "- A = Central (heater, hot water tank, electrical, gas)\n",
    "- C = All seperate (except water)"
   ]
  },
  {
   "cell_type": "code",
   "execution_count": 1115,
   "metadata": {},
   "outputs": [
    {
     "data": {
      "text/plain": [
       "NaN    460218\n",
       "B       10478\n",
       "A        8826\n",
       "C        4108\n",
       "Name: separate_utilities, dtype: int64"
      ]
     },
     "execution_count": 1115,
     "metadata": {},
     "output_type": "execute_result"
    }
   ],
   "source": [
    "data.separate_utilities.value_counts(dropna=False)"
   ]
  },
  {
   "cell_type": "code",
   "execution_count": 1116,
   "metadata": {},
   "outputs": [],
   "source": [
    "data.loc[:, \"separate_utilities\"] = data['separate_utilities'].fillna('D')"
   ]
  },
  {
   "cell_type": "markdown",
   "metadata": {},
   "source": [
    "### Suffix"
   ]
  },
  {
   "cell_type": "markdown",
   "metadata": {},
   "source": [
    "- NaN [Replacing NaN’s with N — No suffix needed/provided]\n",
    "- 2      [Replacing 2 with H (half an address)]\n",
    "- R      to indicate Rear in address\n",
    "- A      to indicate Air Rights\n",
    "- L      Leasehold\n",
    "- E      "
   ]
  },
  {
   "cell_type": "code",
   "execution_count": 1117,
   "metadata": {},
   "outputs": [
    {
     "data": {
      "text/plain": [
       "NaN    482825\n",
       "2         383\n",
       "R         372\n",
       "A          48\n",
       "L           2\n",
       "Name: suffix, dtype: int64"
      ]
     },
     "execution_count": 1117,
     "metadata": {},
     "output_type": "execute_result"
    }
   ],
   "source": [
    "data.suffix.value_counts(dropna=False)"
   ]
  },
  {
   "cell_type": "code",
   "execution_count": 1118,
   "metadata": {},
   "outputs": [
    {
     "data": {
      "text/plain": [
       "array([nan, '2', 'R', 'L', 'A'], dtype=object)"
      ]
     },
     "execution_count": 1118,
     "metadata": {},
     "output_type": "execute_result"
    }
   ],
   "source": [
    "data[\"suffix\"].unique()"
   ]
  },
  {
   "cell_type": "code",
   "execution_count": 1119,
   "metadata": {},
   "outputs": [],
   "source": [
    "data.loc[:, \"suffix\"] = data[\"suffix\"].fillna('N')\n",
    "data.loc[:, \"suffix\"] = data[\"suffix\"].replace('2','H')"
   ]
  },
  {
   "cell_type": "markdown",
   "metadata": {},
   "source": [
    "### Topography"
   ]
  },
  {
   "cell_type": "markdown",
   "metadata": {},
   "source": [
    "- F = Street level \n",
    "- A = Above Street Level \n",
    "- E = Other and NaN’s \n",
    "- B = Below Street Level \n",
    "- C = Flood Plain \n",
    "- D = Rocky "
   ]
  },
  {
   "cell_type": "code",
   "execution_count": 1120,
   "metadata": {},
   "outputs": [
    {
     "data": {
      "text/plain": [
       "F      444991\n",
       "A       28305\n",
       "NaN      5338\n",
       "E        4509\n",
       "B         231\n",
       "C         152\n",
       "D         104\n",
       "Name: topography, dtype: int64"
      ]
     },
     "execution_count": 1120,
     "metadata": {},
     "output_type": "execute_result"
    }
   ],
   "source": [
    "data.topography.value_counts(dropna=False)"
   ]
  },
  {
   "cell_type": "code",
   "execution_count": 1121,
   "metadata": {},
   "outputs": [],
   "source": [
    "data.loc[:, \"topography\"] = data[\"topography\"].fillna('E')"
   ]
  },
  {
   "cell_type": "markdown",
   "metadata": {},
   "source": [
    "### Heater"
   ]
  },
  {
   "cell_type": "markdown",
   "metadata": {},
   "source": [
    "- H = Undetermined and NaNs \n",
    "- A = Hot air (ducts) \n",
    "- B = Hot water (radiators or baseboards) \n",
    "- G = Radiant \n",
    "- N = None \n",
    "- C = Electric baseboard \n",
    "- E = Other \n",
    "- D = Outside heat pump "
   ]
  },
  {
   "cell_type": "code",
   "execution_count": 1122,
   "metadata": {},
   "outputs": [
    {
     "data": {
      "text/plain": [
       "NaN    196183\n",
       "H      113768\n",
       "A      103654\n",
       "B       59669\n",
       "G        6475\n",
       "0        1651\n",
       "C        1278\n",
       "E         550\n",
       "D         402\n",
       "Name: type_heater, dtype: int64"
      ]
     },
     "execution_count": 1122,
     "metadata": {},
     "output_type": "execute_result"
    }
   ],
   "source": [
    "data.type_heater.value_counts(dropna=False)"
   ]
  },
  {
   "cell_type": "code",
   "execution_count": 1123,
   "metadata": {},
   "outputs": [],
   "source": [
    "data.loc[:, \"type_heater\"] = data[\"type_heater\"].fillna('H')"
   ]
  },
  {
   "cell_type": "markdown",
   "metadata": {},
   "source": [
    "### Utility"
   ]
  },
  {
   "cell_type": "markdown",
   "metadata": {},
   "source": [
    "A = None and NaNs \n",
    "\n",
    "B = Modernized \n",
    "\n",
    "D = Modernized and remodeled \n",
    "\n",
    "C = Remodeled (relates to design and floor plan) "
   ]
  },
  {
   "cell_type": "code",
   "execution_count": 1124,
   "metadata": {},
   "outputs": [
    {
     "data": {
      "text/plain": [
       "NaN    483630\n",
       "Name: utility, dtype: int64"
      ]
     },
     "execution_count": 1124,
     "metadata": {},
     "output_type": "execute_result"
    }
   ],
   "source": [
    "data.utility.value_counts(dropna=False)"
   ]
  },
  {
   "cell_type": "markdown",
   "metadata": {},
   "source": [
    "### View Type"
   ]
  },
  {
   "cell_type": "code",
   "execution_count": 1125,
   "metadata": {},
   "outputs": [
    {
     "data": {
      "text/plain": [
       "I      454497\n",
       "A       10307\n",
       "C        5037\n",
       "D        3462\n",
       "0        3305\n",
       "H        2665\n",
       "NaN      2261\n",
       "E        1933\n",
       "B         163\n",
       "Name: view_type, dtype: int64"
      ]
     },
     "execution_count": 1125,
     "metadata": {},
     "output_type": "execute_result"
    }
   ],
   "source": [
    "data.view_type.value_counts(dropna=False)"
   ]
  },
  {
   "cell_type": "code",
   "execution_count": 1126,
   "metadata": {},
   "outputs": [],
   "source": [
    "data.loc[:, \"view_type\"] = data[\"view_type\"].fillna('N')"
   ]
  },
  {
   "cell_type": "markdown",
   "metadata": {},
   "source": [
    "### Fireplaces"
   ]
  },
  {
   "cell_type": "code",
   "execution_count": 1127,
   "metadata": {},
   "outputs": [
    {
     "data": {
      "text/plain": [
       "0.0     448846\n",
       "NaN      20424\n",
       "1.0      11608\n",
       "2.0       1646\n",
       "3.0        654\n",
       "5.0        282\n",
       "4.0        169\n",
       "10.0         1\n",
       "Name: fireplaces, dtype: int64"
      ]
     },
     "execution_count": 1127,
     "metadata": {},
     "output_type": "execute_result"
    }
   ],
   "source": [
    "data.fireplaces.value_counts(dropna=False)"
   ]
  },
  {
   "cell_type": "code",
   "execution_count": 1128,
   "metadata": {},
   "outputs": [],
   "source": [
    "data.loc[:, \"fireplaces\"] = data[\"fireplaces\"].fillna(0.0)"
   ]
  },
  {
   "cell_type": "markdown",
   "metadata": {},
   "source": [
    "### Number Stories"
   ]
  },
  {
   "cell_type": "code",
   "execution_count": 1129,
   "metadata": {},
   "outputs": [
    {
     "data": {
      "text/plain": [
       "2.0    342450\n",
       "1.0     61658\n",
       "3.0     61289\n",
       "NaN     17145\n",
       "4.0      1070\n",
       "5.0        10\n",
       "6.0         6\n",
       "0.0         2\n",
       "Name: number_stories, dtype: int64"
      ]
     },
     "execution_count": 1129,
     "metadata": {},
     "output_type": "execute_result"
    }
   ],
   "source": [
    "data.number_stories.value_counts(dropna=False)"
   ]
  },
  {
   "cell_type": "code",
   "execution_count": 1130,
   "metadata": {},
   "outputs": [
    {
     "data": {
      "text/plain": [
       "array([nan,  1.,  2.,  3.,  4.,  0.,  5.,  6.])"
      ]
     },
     "execution_count": 1130,
     "metadata": {},
     "output_type": "execute_result"
    }
   ],
   "source": [
    "data[\"number_stories\"].unique()"
   ]
  },
  {
   "cell_type": "code",
   "execution_count": 1131,
   "metadata": {},
   "outputs": [],
   "source": [
    "data.loc[:, \"number_stories\"] = data[\"number_stories\"].fillna(0.0)"
   ]
  },
  {
   "cell_type": "markdown",
   "metadata": {},
   "source": [
    "### Number of rooms"
   ]
  },
  {
   "cell_type": "markdown",
   "metadata": {},
   "source": [
    "- Missing to much data. Doesnt make sense to take the mean of the rooms."
   ]
  },
  {
   "cell_type": "code",
   "execution_count": 1132,
   "metadata": {},
   "outputs": [
    {
     "data": {
      "text/plain": [
       "NaN     473808\n",
       "6.0       5191\n",
       "7.0       1465\n",
       "5.0        857\n",
       "8.0        696\n",
       "10.0       497\n",
       "12.0       377\n",
       "9.0        275\n",
       "11.0        82\n",
       "4.0         78\n",
       "18.0        51\n",
       "14.0        48\n",
       "15.0        47\n",
       "13.0        41\n",
       "3.0         33\n",
       "16.0        22\n",
       "20.0        19\n",
       "17.0         9\n",
       "21.0         5\n",
       "30.0         4\n",
       "28.0         4\n",
       "24.0         3\n",
       "22.0         3\n",
       "19.0         3\n",
       "25.0         3\n",
       "2.0          3\n",
       "27.0         3\n",
       "23.0         2\n",
       "1.0          1\n",
       "Name: number_of_rooms, dtype: int64"
      ]
     },
     "execution_count": 1132,
     "metadata": {},
     "output_type": "execute_result"
    }
   ],
   "source": [
    "data.number_of_rooms.value_counts(dropna=False)"
   ]
  },
  {
   "cell_type": "markdown",
   "metadata": {},
   "source": [
    "### Number of bedrooms"
   ]
  },
  {
   "cell_type": "code",
   "execution_count": 1133,
   "metadata": {},
   "outputs": [
    {
     "data": {
      "text/plain": [
       "3.0     284799\n",
       "0.0      93052\n",
       "4.0      49941\n",
       "2.0      27035\n",
       "NaN      17333\n",
       "5.0       5923\n",
       "6.0       3341\n",
       "7.0        727\n",
       "8.0        568\n",
       "1.0        388\n",
       "9.0        247\n",
       "10.0        82\n",
       "12.0        75\n",
       "11.0        50\n",
       "13.0        19\n",
       "14.0        18\n",
       "31.0        10\n",
       "30.0         5\n",
       "16.0         4\n",
       "15.0         4\n",
       "44.0         3\n",
       "18.0         2\n",
       "20.0         2\n",
       "40.0         1\n",
       "45.0         1\n",
       "Name: number_of_bedrooms, dtype: int64"
      ]
     },
     "execution_count": 1133,
     "metadata": {},
     "output_type": "execute_result"
    }
   ],
   "source": [
    "data.number_of_bedrooms.value_counts(dropna=False)"
   ]
  },
  {
   "cell_type": "code",
   "execution_count": 1134,
   "metadata": {},
   "outputs": [
    {
     "data": {
      "text/plain": [
       "2.5172411574597304"
      ]
     },
     "execution_count": 1134,
     "metadata": {},
     "output_type": "execute_result"
    }
   ],
   "source": [
    "data[\"number_of_bedrooms\"].mean()"
   ]
  },
  {
   "cell_type": "code",
   "execution_count": 1135,
   "metadata": {},
   "outputs": [],
   "source": [
    "# Replace with the mean\n",
    "data.loc[:, \"number_of_bedrooms\"] = data[\"number_of_bedrooms\"].fillna(3.0)"
   ]
  },
  {
   "cell_type": "markdown",
   "metadata": {},
   "source": [
    "### Number of bathrooms"
   ]
  },
  {
   "cell_type": "code",
   "execution_count": 1136,
   "metadata": {},
   "outputs": [
    {
     "data": {
      "text/plain": [
       "1.0     310087\n",
       "0.0      93995\n",
       "2.0      45165\n",
       "NaN      19934\n",
       "3.0      11016\n",
       "4.0       2392\n",
       "5.0        455\n",
       "6.0        305\n",
       "7.0         97\n",
       "8.0         92\n",
       "10.0        27\n",
       "9.0         26\n",
       "12.0        15\n",
       "11.0        10\n",
       "13.0         4\n",
       "21.0         2\n",
       "15.0         2\n",
       "14.0         2\n",
       "22.0         1\n",
       "17.0         1\n",
       "16.0         1\n",
       "25.0         1\n",
       "Name: number_of_bathrooms, dtype: int64"
      ]
     },
     "execution_count": 1136,
     "metadata": {},
     "output_type": "execute_result"
    }
   ],
   "source": [
    "data.number_of_bathrooms.value_counts(dropna=False)"
   ]
  },
  {
   "cell_type": "code",
   "execution_count": 1137,
   "metadata": {},
   "outputs": [
    {
     "data": {
      "text/plain": [
       "0.9695554846278597"
      ]
     },
     "execution_count": 1137,
     "metadata": {},
     "output_type": "execute_result"
    }
   ],
   "source": [
    "data.loc[:, \"number_of_bathrooms\"].mean()"
   ]
  },
  {
   "cell_type": "code",
   "execution_count": 1138,
   "metadata": {},
   "outputs": [],
   "source": [
    "data.loc[:, \"number_of_bathrooms\"] = data[\"number_of_bathrooms\"].fillna(1.0)"
   ]
  },
  {
   "cell_type": "markdown",
   "metadata": {},
   "source": [
    "### Taxable Land"
   ]
  },
  {
   "cell_type": "code",
   "execution_count": 1139,
   "metadata": {},
   "outputs": [
    {
     "data": {
      "text/plain": [
       "28420"
      ]
     },
     "execution_count": 1139,
     "metadata": {},
     "output_type": "execute_result"
    }
   ],
   "source": [
    "data.taxable_land.value_counts(dropna=False).get(0,0)"
   ]
  },
  {
   "cell_type": "code",
   "execution_count": 1140,
   "metadata": {},
   "outputs": [],
   "source": [
    "data = data.dropna(subset=[\"taxable_land\"])"
   ]
  },
  {
   "cell_type": "markdown",
   "metadata": {},
   "source": [
    "### Taxable Building"
   ]
  },
  {
   "cell_type": "code",
   "execution_count": 1141,
   "metadata": {},
   "outputs": [],
   "source": [
    "data = data.dropna(subset=[\"taxable_building\"])"
   ]
  },
  {
   "cell_type": "markdown",
   "metadata": {},
   "source": [
    "### Total Area"
   ]
  },
  {
   "cell_type": "code",
   "execution_count": 1142,
   "metadata": {},
   "outputs": [
    {
     "data": {
      "text/plain": [
       "0"
      ]
     },
     "execution_count": 1142,
     "metadata": {},
     "output_type": "execute_result"
    }
   ],
   "source": [
    "data.total_area.value_counts(dropna=False).get(0,0)"
   ]
  },
  {
   "cell_type": "code",
   "execution_count": 1143,
   "metadata": {},
   "outputs": [],
   "source": [
    "data = data[data[\"total_area\"] != 0]"
   ]
  },
  {
   "cell_type": "code",
   "execution_count": 1144,
   "metadata": {},
   "outputs": [],
   "source": [
    "data = data.dropna(subset=[\"total_area\"])"
   ]
  },
  {
   "cell_type": "markdown",
   "metadata": {},
   "source": [
    "### Total livable area"
   ]
  },
  {
   "cell_type": "code",
   "execution_count": 1145,
   "metadata": {},
   "outputs": [
    {
     "data": {
      "text/plain": [
       "91"
      ]
     },
     "execution_count": 1145,
     "metadata": {},
     "output_type": "execute_result"
    }
   ],
   "source": [
    "data.total_livable_area.value_counts(dropna=False).get(0,0)"
   ]
  },
  {
   "cell_type": "code",
   "execution_count": 1146,
   "metadata": {},
   "outputs": [],
   "source": [
    "area_mean = data.total_livable_area.mean()"
   ]
  },
  {
   "cell_type": "code",
   "execution_count": 1147,
   "metadata": {},
   "outputs": [],
   "source": [
    "data.loc[:, \"total_livable_area\"] = data[\"total_livable_area\"].fillna(area_mean)"
   ]
  },
  {
   "cell_type": "code",
   "execution_count": 1148,
   "metadata": {},
   "outputs": [],
   "source": [
    "data = data[data[\"total_livable_area\"] != 0]"
   ]
  },
  {
   "cell_type": "markdown",
   "metadata": {},
   "source": [
    "### Frontage\n"
   ]
  },
  {
   "cell_type": "code",
   "execution_count": 1149,
   "metadata": {},
   "outputs": [],
   "source": [
    "area_mean = round(data.frontage.mean())"
   ]
  },
  {
   "cell_type": "code",
   "execution_count": 1150,
   "metadata": {},
   "outputs": [
    {
     "data": {
      "text/plain": [
       "23"
      ]
     },
     "execution_count": 1150,
     "metadata": {},
     "output_type": "execute_result"
    }
   ],
   "source": [
    "area_mean"
   ]
  },
  {
   "cell_type": "code",
   "execution_count": 1151,
   "metadata": {},
   "outputs": [],
   "source": [
    "data.loc[:, \"frontage\"] = data[\"frontage\"].fillna(area_mean)"
   ]
  },
  {
   "cell_type": "markdown",
   "metadata": {},
   "source": [
    "### Exempt building"
   ]
  },
  {
   "cell_type": "code",
   "execution_count": 1152,
   "metadata": {},
   "outputs": [],
   "source": [
    "data = data.dropna(subset=[\"exempt_building\"])"
   ]
  },
  {
   "cell_type": "markdown",
   "metadata": {},
   "source": [
    "### Exempt Land"
   ]
  },
  {
   "cell_type": "code",
   "execution_count": 1153,
   "metadata": {},
   "outputs": [],
   "source": [
    "data = data.dropna(subset=[\"exempt_land\"])"
   ]
  },
  {
   "cell_type": "markdown",
   "metadata": {},
   "source": [
    "### Off Street Open"
   ]
  },
  {
   "cell_type": "code",
   "execution_count": 1154,
   "metadata": {},
   "outputs": [],
   "source": [
    "data = data.dropna(subset=[\"off_street_open\"])"
   ]
  },
  {
   "cell_type": "markdown",
   "metadata": {},
   "source": [
    "### Zoning"
   ]
  },
  {
   "cell_type": "code",
   "execution_count": 1155,
   "metadata": {},
   "outputs": [],
   "source": [
    "data = data.dropna(subset=[\"zoning\"])"
   ]
  },
  {
   "cell_type": "markdown",
   "metadata": {},
   "source": [
    "### ZipCode"
   ]
  },
  {
   "cell_type": "code",
   "execution_count": 1156,
   "metadata": {},
   "outputs": [],
   "source": [
    "data = data.dropna(subset=[\"zip_code\"])"
   ]
  },
  {
   "cell_type": "markdown",
   "metadata": {},
   "source": [
    "### Year Built"
   ]
  },
  {
   "cell_type": "code",
   "execution_count": 1157,
   "metadata": {},
   "outputs": [],
   "source": [
    "data = data.dropna(subset=[\"year_built\"])"
   ]
  },
  {
   "cell_type": "markdown",
   "metadata": {},
   "source": [
    "### Garage Spaces"
   ]
  },
  {
   "cell_type": "code",
   "execution_count": 1158,
   "metadata": {},
   "outputs": [],
   "source": [
    "data = data.dropna(subset=[\"garage_spaces\"])"
   ]
  },
  {
   "cell_type": "markdown",
   "metadata": {},
   "source": [
    "### Interior Condition"
   ]
  },
  {
   "cell_type": "code",
   "execution_count": 1159,
   "metadata": {},
   "outputs": [],
   "source": [
    "data = data.dropna(subset=[\"interior_condition\"])"
   ]
  },
  {
   "cell_type": "markdown",
   "metadata": {},
   "source": [
    "-------------------------------------------------------------------------------------------------------------------------------------------------------------------------------------------------------------\n",
    "# Remove Outliers"
   ]
  },
  {
   "cell_type": "markdown",
   "metadata": {},
   "source": [
    "#### Numerical Data\n",
    "- Depth\n",
    "- Fireplaces\n",
    "- Number of Stories\n",
    "- Number of bathrooms\n",
    "- Number of bedrooms\n",
    "- Number of rooms\n"
   ]
  },
  {
   "cell_type": "markdown",
   "metadata": {},
   "source": [
    "### Depth"
   ]
  },
  {
   "cell_type": "code",
   "execution_count": 1160,
   "metadata": {},
   "outputs": [],
   "source": [
    "# Calculate Q1, Q3, and IQR\n",
    "q1 = np.percentile(data[\"depth\"], 25)\n",
    "q3 = np.percentile(data[\"depth\"], 75)\n",
    "iqr = q3 - q1\n",
    "\n",
    "# Define lower and upper bounds\n",
    "lower_bound = q1 - 1.5 * iqr\n",
    "upper_bound = q3 + 1.5 * iqr\n"
   ]
  },
  {
   "cell_type": "code",
   "execution_count": 1161,
   "metadata": {},
   "outputs": [],
   "source": [
    "data = data[(data['depth'] > lower_bound) & (data['depth'] < upper_bound)]"
   ]
  },
  {
   "cell_type": "markdown",
   "metadata": {},
   "source": [
    "### Fireplace"
   ]
  },
  {
   "cell_type": "code",
   "execution_count": 1162,
   "metadata": {},
   "outputs": [],
   "source": [
    "data = data[(data[\"fireplaces\"] >= 0.0) & (data[\"fireplaces\"] <= 5.0) ]"
   ]
  },
  {
   "cell_type": "code",
   "execution_count": 1163,
   "metadata": {},
   "outputs": [
    {
     "data": {
      "text/plain": [
       "(449050, 35)"
      ]
     },
     "execution_count": 1163,
     "metadata": {},
     "output_type": "execute_result"
    }
   ],
   "source": [
    "data.shape"
   ]
  },
  {
   "cell_type": "markdown",
   "metadata": {},
   "source": [
    "### Number of Stories"
   ]
  },
  {
   "cell_type": "code",
   "execution_count": 1164,
   "metadata": {},
   "outputs": [],
   "source": [
    "data = data[(data[\"number_stories\"] >= 0.0) & (data[\"number_stories\"] <= 4.0) ]"
   ]
  },
  {
   "cell_type": "code",
   "execution_count": 1165,
   "metadata": {},
   "outputs": [
    {
     "data": {
      "text/plain": [
       "(449038, 35)"
      ]
     },
     "execution_count": 1165,
     "metadata": {},
     "output_type": "execute_result"
    }
   ],
   "source": [
    "data.shape"
   ]
  },
  {
   "cell_type": "markdown",
   "metadata": {},
   "source": [
    "### Number of Bathrooms"
   ]
  },
  {
   "cell_type": "code",
   "execution_count": 1166,
   "metadata": {},
   "outputs": [],
   "source": [
    "data = data[(data[\"number_of_bathrooms\"] >= 0.0) & (data[\"number_of_bathrooms\"] <= 6.0)]"
   ]
  },
  {
   "cell_type": "code",
   "execution_count": 1167,
   "metadata": {},
   "outputs": [
    {
     "data": {
      "text/plain": [
       "(448815, 35)"
      ]
     },
     "execution_count": 1167,
     "metadata": {},
     "output_type": "execute_result"
    }
   ],
   "source": [
    "data.shape"
   ]
  },
  {
   "cell_type": "markdown",
   "metadata": {},
   "source": [
    "### Number of Bedrooms"
   ]
  },
  {
   "cell_type": "code",
   "execution_count": 1168,
   "metadata": {},
   "outputs": [],
   "source": [
    "data = data[(data[\"number_of_bedrooms\"] >= 0.0) & (data[\"number_of_bedrooms\"] <= 10.0)]"
   ]
  },
  {
   "cell_type": "code",
   "execution_count": 1169,
   "metadata": {},
   "outputs": [
    {
     "data": {
      "text/plain": [
       "(448715, 35)"
      ]
     },
     "execution_count": 1169,
     "metadata": {},
     "output_type": "execute_result"
    }
   ],
   "source": [
    "data.shape"
   ]
  },
  {
   "cell_type": "markdown",
   "metadata": {},
   "source": [
    "# Feature Selection Categorical Data\n",
    "-------------------------------------------------------------------------------------------------------------------------------------------------------------------------------------------------------------"
   ]
  },
  {
   "cell_type": "markdown",
   "metadata": {},
   "source": [
    "#### Categorical Char\n",
    "- Basements\n",
    "- Central Air\n",
    "- Garage Type\n",
    "- General Construction\n",
    "- Parcel Shape\n",
    "- Separate Utilities\n",
    "- Suffix\n",
    "- Topography\n",
    "- Heater\n",
    "- Utility\n",
    "- View Type\n",
    "- Zoning\n",
    "#### Categorical Numerical\n",
    "- Category Code\n",
    "- Zipcode\n",
    "- Exterior Condition\n",
    "- Year Built\n",
    "- Interior Condition"
   ]
  },
  {
   "cell_type": "code",
   "execution_count": 1175,
   "metadata": {},
   "outputs": [],
   "source": [
    "categories = [\"basements\", \"central_air\", \"general_construction\", \"parcel_shape\", \"separate_utilities\", \"suffix\", \"topography\", \"type_heater\", \"utility\", \"view_type\", \"zoning\", \"exterior_condition\", \"interior_condition\", \"category_code\", \"zip_code\", \"year_built\"]"
   ]
  },
  {
   "cell_type": "code",
   "execution_count": 1183,
   "metadata": {},
   "outputs": [
    {
     "data": {
      "text/plain": [
       "16"
      ]
     },
     "execution_count": 1183,
     "metadata": {},
     "output_type": "execute_result"
    }
   ],
   "source": [
    "len(categories)"
   ]
  },
  {
   "cell_type": "code",
   "execution_count": 1176,
   "metadata": {},
   "outputs": [],
   "source": [
    "label_encoder = LabelEncoder()"
   ]
  },
  {
   "cell_type": "code",
   "execution_count": 1177,
   "metadata": {},
   "outputs": [],
   "source": [
    "data[categories] = data[categories].apply(lambda col: label_encoder.fit_transform(col))\n"
   ]
  },
  {
   "cell_type": "code",
   "execution_count": 1178,
   "metadata": {},
   "outputs": [],
   "source": [
    "categorical_data = data[categories]"
   ]
  },
  {
   "cell_type": "code",
   "execution_count": 1179,
   "metadata": {},
   "outputs": [],
   "source": [
    "target_data = data[\"market_value\"]"
   ]
  },
  {
   "cell_type": "code",
   "execution_count": 1187,
   "metadata": {},
   "outputs": [],
   "source": [
    "# Apply chi-squared feature selection\n",
    "k_best = SelectKBest(chi2, k=5)\n",
    "X_chi2_selected = k_best.fit_transform(categorical_data, target_data)\n",
    "selected_features = categorical_data.columns[k_best.get_support()]"
   ]
  },
  {
   "cell_type": "code",
   "execution_count": 1181,
   "metadata": {},
   "outputs": [
    {
     "name": "stdout",
     "output_type": "stream",
     "text": [
      "Original DataFrame:\n",
      "        basements  central_air  general_construction  parcel_shape  \\\n",
      "27              3            0                     0             0   \n",
      "66             10            0                     0             4   \n",
      "72              3            0                     0             0   \n",
      "75             10            0                     0             4   \n",
      "132            10            0                     0             4   \n",
      "...           ...          ...                   ...           ...   \n",
      "582906          5            0                     0             4   \n",
      "582910          7            0                     0             4   \n",
      "582922         10            0                     0             4   \n",
      "582923          3            0                     0             4   \n",
      "582925         10            0                     0             4   \n",
      "\n",
      "        separate_utilities  suffix  topography  type_heater  utility  \\\n",
      "27                       3       2           5            7        0   \n",
      "66                       3       2           5            7        0   \n",
      "72                       3       2           5            7        0   \n",
      "75                       3       2           5            7        0   \n",
      "132                      3       2           5            7        0   \n",
      "...                    ...     ...         ...          ...      ...   \n",
      "582906                   3       2           5            7        0   \n",
      "582910                   3       2           5            2        0   \n",
      "582922                   3       2           5            7        0   \n",
      "582923                   3       2           5            7        0   \n",
      "582925                   3       2           5            7        0   \n",
      "\n",
      "        view_type  zoning  exterior_condition  interior_condition  \\\n",
      "27              7      25                   4                   4   \n",
      "66              7      13                   4                   4   \n",
      "72              7      25                   3                   3   \n",
      "75              7      25                   4                   4   \n",
      "132             7      13                   4                   4   \n",
      "...           ...     ...                 ...                 ...   \n",
      "582906          7      23                   4                   4   \n",
      "582910          7      25                   5                   4   \n",
      "582922          7      25                   5                   4   \n",
      "582923          7      25                   3                   4   \n",
      "582925          7      25                   5                   4   \n",
      "\n",
      "        category_code  zip_code  year_built  \n",
      "27                  0        16          99  \n",
      "66                  1        12          90  \n",
      "72                  1        21         135  \n",
      "75                  0        23         115  \n",
      "132                 1        23         115  \n",
      "...               ...       ...         ...  \n",
      "582906              0        42         125  \n",
      "582910              0        35         150  \n",
      "582922              0        23         115  \n",
      "582923              0        36         120  \n",
      "582925              0        24         125  \n",
      "\n",
      "[448715 rows x 16 columns]\n",
      "\n",
      "Selected features after chi-squared feature selection:\n",
      "[[  3   0   0 ...   0  16  99]\n",
      " [ 10   0   0 ...   1  12  90]\n",
      " [  3   0   0 ...   1  21 135]\n",
      " ...\n",
      " [ 10   0   0 ...   0  23 115]\n",
      " [  3   0   0 ...   0  36 120]\n",
      " [ 10   0   0 ...   0  24 125]]\n"
     ]
    }
   ],
   "source": [
    "# Display the original and selected features\n",
    "print(\"Original DataFrame:\")\n",
    "print(categorical_data)\n",
    "\n",
    "print(\"\\nSelected features after chi-squared feature selection:\")\n",
    "print(X_chi2_selected)"
   ]
  },
  {
   "cell_type": "code",
   "execution_count": 1193,
   "metadata": {},
   "outputs": [
    {
     "name": "stdout",
     "output_type": "stream",
     "text": [
      "\n",
      "Selected feature names:\n",
      "Index(['basements', 'general_construction', 'type_heater', 'zip_code',\n",
      "       'year_built'],\n",
      "      dtype='object')\n"
     ]
    }
   ],
   "source": [
    "print(\"\\nSelected feature names:\")\n",
    "print(selected_features)"
   ]
  },
  {
   "cell_type": "code",
   "execution_count": 1196,
   "metadata": {},
   "outputs": [],
   "source": [
    "# Drop columns\n",
    "categories = [\"basements\", \"central_air\", \"general_construction\", \"parcel_shape\", \n",
    "              \"separate_utilities\", \"suffix\", \"topography\", \"type_heater\", \"utility\",\n",
    "                \"view_type\", \"zoning\", \"exterior_condition\", \"interior_condition\", \n",
    "                \"category_code\", \"zip_code\", \"year_built\"]\n",
    "\n",
    "drop_categories = [cat for cat in categories if cat not in selected_features]"
   ]
  },
  {
   "cell_type": "code",
   "execution_count": 1197,
   "metadata": {},
   "outputs": [],
   "source": [
    "data = data.drop(drop_categories, axis = 1)"
   ]
  },
  {
   "cell_type": "markdown",
   "metadata": {},
   "source": [
    "# Feature Selection Numerical Data"
   ]
  },
  {
   "cell_type": "markdown",
   "metadata": {},
   "source": [
    "#### Numerical Data Non Categorical\n",
    "- Depth\n",
    "- Longitude\n",
    "- Latitude\n",
    "- Fireplaces\n",
    "- Number of Stories\n",
    "- Number of bathrooms\n",
    "- Number of bedrooms\n",
    "- Number of rooms\n",
    "- Total area\n",
    "- Total livable area\n",
    "- Off street open\n",
    "- Exempt Building\n",
    "- Exempt Land\n",
    "- Garage Spaces\n",
    "- Homestead Exemption\n",
    "- Market Value (Target)\n",
    "- Taxable Building\n",
    "- Taxable Land\n"
   ]
  },
  {
   "cell_type": "code",
   "execution_count": 1198,
   "metadata": {},
   "outputs": [
    {
     "name": "stdout",
     "output_type": "stream",
     "text": [
      "market_value            1.000000\n",
      "taxable_land            0.979568\n",
      "taxable_building        0.815605\n",
      "total_livable_area      0.598914\n",
      "exempt_building         0.436827\n",
      "number_of_rooms         0.390440\n",
      "number_stories          0.311470\n",
      "fireplaces              0.302930\n",
      "general_construction    0.174378\n",
      "number_of_bathrooms     0.172300\n",
      "total_area              0.151038\n",
      "garage_spaces           0.140064\n",
      "frontage                0.138953\n",
      "depth                   0.117252\n",
      "homestead_exemption     0.063869\n",
      "off_street_open         0.006984\n",
      "lng                    -0.051796\n",
      "lat                    -0.054748\n",
      "exempt_land            -0.067769\n",
      "number_of_bedrooms     -0.068293\n",
      "basements              -0.170572\n",
      "year_built             -0.221595\n",
      "type_heater            -0.240645\n",
      "zip_code               -0.300076\n",
      "Name: market_value, dtype: float64\n"
     ]
    }
   ],
   "source": [
    "corr = data.corr()\n",
    "corr.sort_values([\"market_value\"],ascending = False, inplace = True)\n",
    "print(corr.market_value)"
   ]
  },
  {
   "cell_type": "markdown",
   "metadata": {},
   "source": [
    "# One Hot Encoding for Categories"
   ]
  },
  {
   "cell_type": "code",
   "execution_count": null,
   "metadata": {},
   "outputs": [],
   "source": [
    "# Perform one-hot encoding on the 'Category' column\n",
    "df_encoded = pd.get_dummies(data, columns=['basements'], prefix='basement')"
   ]
  },
  {
   "cell_type": "code",
   "execution_count": null,
   "metadata": {},
   "outputs": [],
   "source": [
    "# Perform one-hot encoding on the 'Category' column\n",
    "df_encoded = pd.get_dummies(df_encoded, columns=['central_air'], prefix='air')"
   ]
  },
  {
   "cell_type": "code",
   "execution_count": null,
   "metadata": {},
   "outputs": [],
   "source": [
    "# # Perform one-hot encoding on the 'Category' column\n",
    "# df_encoded = pd.get_dummies(df_encoded, columns=['fuel'], prefix='fuel')"
   ]
  },
  {
   "cell_type": "code",
   "execution_count": null,
   "metadata": {},
   "outputs": [],
   "source": [
    "# # Perform one-hot encoding on the 'Category' column\n",
    "# df_encoded = pd.get_dummies(df_encoded, columns=['garage_type'], prefix='garage')"
   ]
  },
  {
   "cell_type": "code",
   "execution_count": null,
   "metadata": {},
   "outputs": [],
   "source": [
    "# Perform one-hot encoding on the 'Category' column\n",
    "df_encoded = pd.get_dummies(df_encoded, columns=['general_construction'], prefix='construction')"
   ]
  },
  {
   "cell_type": "code",
   "execution_count": null,
   "metadata": {},
   "outputs": [],
   "source": [
    "# # Perform one-hot encoding on the 'Category' column\n",
    "# df_encoded = pd.get_dummies(df_encoded, columns=['parcel_shape'], prefix='parcel')"
   ]
  },
  {
   "cell_type": "code",
   "execution_count": null,
   "metadata": {},
   "outputs": [],
   "source": [
    "# # Perform one-hot encoding on the 'Category' column\n",
    "# df_encoded = pd.get_dummies(df_encoded, columns=['separate_utilities'], prefix='separate_utilites')"
   ]
  },
  {
   "cell_type": "code",
   "execution_count": null,
   "metadata": {},
   "outputs": [],
   "source": [
    "# # Perform one-hot encoding on the 'Category' column\n",
    "# df_encoded = pd.get_dummies(df_encoded, columns=['suffix'], prefix='suffix')"
   ]
  },
  {
   "cell_type": "code",
   "execution_count": null,
   "metadata": {},
   "outputs": [],
   "source": [
    "# # Perform one-hot encoding on the 'Category' column\n",
    "# df_encoded = pd.get_dummies(df_encoded, columns=['topography'], prefix='topography')"
   ]
  },
  {
   "cell_type": "code",
   "execution_count": null,
   "metadata": {},
   "outputs": [],
   "source": [
    "# Perform one-hot encoding on the 'Category' column\n",
    "df_encoded = pd.get_dummies(df_encoded, columns=['type_heater'], prefix='heater')"
   ]
  },
  {
   "cell_type": "code",
   "execution_count": null,
   "metadata": {},
   "outputs": [],
   "source": [
    "# # Perform one-hot encoding on the 'Category' column\n",
    "# df_encoded = pd.get_dummies(df_encoded, columns=['utility'], prefix='utility')"
   ]
  },
  {
   "cell_type": "code",
   "execution_count": null,
   "metadata": {},
   "outputs": [],
   "source": [
    "# Perform one-hot encoding on the 'Category' column\n",
    "# df_encoded = pd.get_dummies(df_encoded, columns=['view_type'], prefix='view')"
   ]
  },
  {
   "cell_type": "markdown",
   "metadata": {},
   "source": [
    "# Frequency Encoding"
   ]
  },
  {
   "cell_type": "code",
   "execution_count": 1190,
   "metadata": {},
   "outputs": [],
   "source": [
    "zip_code_counts = data['zip_code'].value_counts()\n",
    "\n",
    "# Map the frequencies to the original 'ZipCode' column\n",
    "data['zip_code'] = data['zip_code'].map(zip_code_counts)"
   ]
  },
  {
   "cell_type": "code",
   "execution_count": 1191,
   "metadata": {},
   "outputs": [],
   "source": [
    "year_counts = data['year_built'].value_counts()\n",
    "\n",
    "# Map the frequencies to the original 'ZipCode' column\n",
    "data['year_built'] = data['year_built'].map(year_counts)"
   ]
  }
 ],
 "metadata": {
  "kernelspec": {
   "display_name": "Python 3",
   "language": "python",
   "name": "python3"
  },
  "language_info": {
   "codemirror_mode": {
    "name": "ipython",
    "version": 3
   },
   "file_extension": ".py",
   "mimetype": "text/x-python",
   "name": "python",
   "nbconvert_exporter": "python",
   "pygments_lexer": "ipython3",
   "version": "3.11.1"
  }
 },
 "nbformat": 4,
 "nbformat_minor": 2
}
